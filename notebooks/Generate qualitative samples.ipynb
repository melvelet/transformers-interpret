{
 "cells": [
  {
   "cell_type": "code",
   "execution_count": 1,
   "id": "0e8793ba",
   "metadata": {},
   "outputs": [
    {
     "name": "stdout",
     "output_type": "stream",
     "text": [
      "C:\\Users\\richa\\Documents\\GitHub\\transformers-interpret\n"
     ]
    }
   ],
   "source": [
    "import os\n",
    "import sys\n",
    "module_path = os.path.abspath(os.path.join('..'))\n",
    "if module_path not in sys.path:\n",
    "    sys.path.append(module_path)\n",
    "print(module_path)\n",
    "from sample_qualitative_viz import QualitativeVisualizer"
   ]
  },
  {
   "cell_type": "code",
   "execution_count": 2,
   "id": "20f428ba",
   "metadata": {},
   "outputs": [],
   "source": [
    "viz = QualitativeVisualizer()"
   ]
  },
  {
   "cell_type": "code",
   "execution_count": 3,
   "id": "470dfe93",
   "metadata": {},
   "outputs": [
    {
     "name": "stderr",
     "output_type": "stream",
     "text": [
      "Reusing dataset ncbi_disease (C:\\Users\\richa\\.cache\\huggingface\\datasets\\ncbi_disease\\ncbi_disease_bigbio_kb\\1.0.0\\5e8c0b186a4fa1e85387c68088634e6b49a9849eb529b481fb7e1ba7d23fd22a)\n"
     ]
    },
    {
     "data": {
      "application/vnd.jupyter.widget-view+json": {
       "model_id": "2e868db271c04083af5ce04b07358611",
       "version_major": 2,
       "version_minor": 0
      },
      "text/plain": [
       "  0%|          | 0/3 [00:00<?, ?it/s]"
      ]
     },
     "metadata": {},
     "output_type": "display_data"
    }
   ],
   "source": [
    "viz.load_dataset(dataset=2)"
   ]
  },
  {
   "cell_type": "code",
   "execution_count": null,
   "id": "8a341b69",
   "metadata": {},
   "outputs": [],
   "source": [
    "viz.load_tokenizers()"
   ]
  },
  {
   "cell_type": "code",
   "execution_count": null,
   "id": "f80d4bd2",
   "metadata": {},
   "outputs": [],
   "source": [
    "# viz.load_other_pipeline(base_path='../trained_models/')"
   ]
  },
  {
   "cell_type": "code",
   "execution_count": null,
   "id": "5cfca7d5",
   "metadata": {
    "scrolled": true
   },
   "outputs": [],
   "source": [
    "viz.load_entities(base_path='../results/scores/')"
   ]
  },
  {
   "cell_type": "code",
   "execution_count": null,
   "id": "45e966f5",
   "metadata": {
    "scrolled": true
   },
   "outputs": [],
   "source": [
    "mod1_ref_token_idx, ref_token, doc_id = viz.pick_entities(eval_='FP', n_value=1, doc_id=None)"
   ]
  },
  {
   "cell_type": "code",
   "execution_count": null,
   "id": "5396f4bf",
   "metadata": {},
   "outputs": [],
   "source": [
    "mod1_ref_token_idx, ref_token, doc_id"
   ]
  },
  {
   "cell_type": "code",
   "execution_count": null,
   "id": "3046d06a",
   "metadata": {},
   "outputs": [],
   "source": [
    "mod2_ref_token_idx = 44\n",
    "viz.find_in_other_model(ref_token, reference_token_idx=mod2_ref_token_idx)"
   ]
  },
  {
   "cell_type": "code",
   "execution_count": null,
   "id": "da95eb4c",
   "metadata": {
    "scrolled": false
   },
   "outputs": [],
   "source": [
    "# k_value = 5\n",
    "# viz.ensure_attr_scores_in_other_model(mod2_ref_token_idx, k_value)"
   ]
  },
  {
   "cell_type": "code",
   "execution_count": null,
   "id": "ce8f885d",
   "metadata": {},
   "outputs": [],
   "source": [
    "# viz.print_table(k_value=k_value)"
   ]
  }
 ],
 "metadata": {
  "kernelspec": {
   "display_name": "Python 3 (ipykernel)",
   "language": "python",
   "name": "python3"
  },
  "language_info": {
   "codemirror_mode": {
    "name": "ipython",
    "version": 3
   },
   "file_extension": ".py",
   "mimetype": "text/x-python",
   "name": "python",
   "nbconvert_exporter": "python",
   "pygments_lexer": "ipython3",
   "version": "3.9.12"
  }
 },
 "nbformat": 4,
 "nbformat_minor": 5
}
