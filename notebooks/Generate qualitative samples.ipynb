{
 "cells": [
  {
   "cell_type": "code",
   "execution_count": 1,
   "id": "fb95177f",
   "metadata": {},
   "outputs": [
    {
     "name": "stdout",
     "output_type": "stream",
     "text": [
      "C:\\Users\\richa\\Documents\\GitHub\\transformers-interpret\n"
     ]
    }
   ],
   "source": [
    "import os\n",
    "import sys\n",
    "module_path = os.path.abspath(os.path.join('..'))\n",
    "if module_path not in sys.path:\n",
    "    sys.path.append(module_path)\n",
    "print(module_path)\n",
    "from sample_qualitative_viz import QualitativeVisualizer"
   ]
  },
  {
   "cell_type": "code",
   "execution_count": 2,
   "id": "72afd807",
   "metadata": {},
   "outputs": [],
   "source": [
    "viz = QualitativeVisualizer()"
   ]
  },
  {
   "cell_type": "code",
   "execution_count": 3,
   "id": "489e81f5",
   "metadata": {},
   "outputs": [
    {
     "name": "stderr",
     "output_type": "stream",
     "text": [
      "Reusing dataset ncbi_disease (C:\\Users\\richa\\.cache\\huggingface\\datasets\\ncbi_disease\\ncbi_disease_bigbio_kb\\1.0.0\\5e8c0b186a4fa1e85387c68088634e6b49a9849eb529b481fb7e1ba7d23fd22a)\n"
     ]
    },
    {
     "data": {
      "application/vnd.jupyter.widget-view+json": {
       "model_id": "f9a489dffe9d4ead86ab307fa841778e",
       "version_major": 2,
       "version_minor": 0
      },
      "text/plain": [
       "  0%|          | 0/3 [00:00<?, ?it/s]"
      ]
     },
     "metadata": {},
     "output_type": "display_data"
    }
   ],
   "source": [
    "viz.load_dataset(dataset=2)"
   ]
  },
  {
   "cell_type": "code",
   "execution_count": 4,
   "id": "6240bcf6",
   "metadata": {},
   "outputs": [],
   "source": [
    "viz.load_tokenizers()"
   ]
  },
  {
   "cell_type": "code",
   "execution_count": 5,
   "id": "e793d765",
   "metadata": {},
   "outputs": [],
   "source": [
    "# viz.load_other_pipeline()"
   ]
  },
  {
   "cell_type": "code",
   "execution_count": 6,
   "id": "7be7fd9b",
   "metadata": {
    "scrolled": true
   },
   "outputs": [
    {
     "name": "stdout",
     "output_type": "stream",
     "text": [
      "bioelectra-discriminator lig 1896\n",
      "bioelectra-discriminator lgxa 1896\n",
      "bioelectra-discriminator gradcam 1896\n",
      "roberta lig 2774\n",
      "roberta lgxa 2774\n",
      "roberta gradcam 2774\n"
     ]
    }
   ],
   "source": [
    "viz.load_entities(base_path='../results/scores/')"
   ]
  },
  {
   "cell_type": "code",
   "execution_count": 7,
   "id": "39ed21fd",
   "metadata": {
    "scrolled": false
   },
   "outputs": [
    {
     "name": "stdout",
     "output_type": "stream",
     "text": [
      "['lig', 'lgxa', 'gradcam']\n",
      "['lig', 'lgxa', 'gradcam']\n",
      "['lig', 'lgxa', 'gradcam']\n"
     ]
    },
    {
     "name": "stderr",
     "output_type": "stream",
     "text": [
      "Asking to pad to max_length but no maximum length is provided and the model has no predefined maximum length. Default to no padding.\n"
     ]
    },
    {
     "name": "stdout",
     "output_type": "stream",
     "text": [
      "304\n",
      "truncation mutations in the transactivation region of pax ##6 result in dominant - negative mutants . pax ##6 is a transcription factor with two dna - binding domains ( paired box and homeobox ) and a proline - serine - threonine ( pst ) - rich transactivation domain . pax ##6 regulates eye development in animals ranging from je ##ll ##y ##fish to drosophila to humans . heterozygous mutations in the human pax ##6 gene result in various phenotypes , including an ##ir ##idia , pet ##ers anomaly , autosomal dominant keratitis , and familial foveal dysplasia . it is believed that the mutated allele of pax ##6 produces an inactive protein and an ##ir ##idia[rat: 116] is caused due to[rat: 120] genetic[REF: 121] hapl[rat: 122] ##oin ##s ##uff ##iciency[rat: 126] . however , several truncation mutations have been found to occur in the c - terminal half of pax ##6 in patients with an ##ir ##idia resulting in mutant proteins that retain the dna - binding domains but have lost most of the transactivation domain . it is not clear whether such mutants really behave as loss - of - function mutants as predicted by hapl ##oin ##s ##uff ##iciency . contrary to this theory , our data showed that these mutants are dominant - negative in transient transfection assays when they are coexp ##ressed with wild - type pax ##6 . we found that the dominant - negative effects result from the enhanced dna binding ability of these mutants . kinetic studies of binding and dissociation revealed that various truncation mutants have 3 - 5 - fold higher affinity to various dna - binding sites when compared with the wild - type pax ##6 . these results provide a new insight into the role of mutant pax ##6 in causing an ##ir ##idia . . \n"
     ]
    }
   ],
   "source": [
    "ref_token, doc_id = viz.pick_entities(eval_='FP', n_value=1, doc_id=None)"
   ]
  },
  {
   "cell_type": "code",
   "execution_count": 8,
   "id": "4ead1892",
   "metadata": {},
   "outputs": [
    {
     "data": {
      "text/plain": [
       "('genetic', '9705283')"
      ]
     },
     "execution_count": 8,
     "metadata": {},
     "output_type": "execute_result"
    }
   ],
   "source": [
    "ref_token, doc_id"
   ]
  },
  {
   "cell_type": "code",
   "execution_count": 11,
   "id": "524faf12",
   "metadata": {},
   "outputs": [
    {
     "name": "stdout",
     "output_type": "stream",
     "text": [
      " Tr unc ation  mutations  in  the  trans activation  region  of  PAX 6  result  in  dominant - negative  mutants . \n",
      " PA X 6  is  a  transcription  factor  with  two  DNA - binding  domains  ( pa ired  box  and  home ob ox )  and  a  pro line - ser ine - th reon ine  ( P ST )  - rich  trans activation  domain .  PAX 6  regulates  eye  development  in  animals  ranging  from  jelly fish  to  D ros oph ila  to  humans .  H eter ozyg ous  mutations  in  the  human  PAX 6  gene  result  in  various  phen otypes ,  including  an ir idia ,  Peters  anomaly ,  autos omal  dominant  ker at itis ,  and  familial  f ove al  dys pl asia .  It  is  believed  that  the  mutated  allele  of  PAX 6  produces  an  inactive  protein  and  an ir idia  is  caused  due  to  genetic[REF: 146]  hapl o ins uff iciency .  However ,  several  trunc ation  mutations  have  been  found  to  occur  in  the  C - termin al  half  of  PAX 6  in  patients  with  An ir idia  resulting  in  mutant  proteins  that  retain  the  DNA - binding  domains  but  have  lost  most  of  the  trans activation  domain .  It  is  not  clear  whether  such  mutants  really  behave  as  loss - of - function  mutants  as  predicted  by  hapl o ins uff iciency .  Contrary  to  this  theory ,  our  data  showed  that  these  mutants  are  dominant - negative  in  transient  trans fect ion  ass ays  when  they  are  co exp ressed  with  wild - type  PAX 6 .  We  found  that  the  dominant - negative  effects  result  from  the  enhanced  DNA  binding  ability  of  these  mutants .  Kin etic[tok: 281]  studies  of  binding  and  diss ociation  revealed  that  various  trunc ation  mutants  have  3 - 5 - fold  higher  affinity  to  various  DNA - binding  sites  when  compared  with  the  wild - type  PAX 6 .  These  results  provide  a  new  insight  into  the  role  of  mutant  PAX 6  in  causing  an ir idia .. \n"
     ]
    }
   ],
   "source": [
    "reference_token_idx = 146\n",
    "viz.find_in_other_model(ref_token, reference_token_idx=reference_token_idx)"
   ]
  },
  {
   "cell_type": "code",
   "execution_count": 10,
   "id": "2df1f703",
   "metadata": {
    "scrolled": true
   },
   "outputs": [
    {
     "ename": "AttributeError",
     "evalue": "'QualitativeVisualizer' object has no attribute 'pipeline'",
     "output_type": "error",
     "traceback": [
      "\u001b[1;31m---------------------------------------------------------------------------\u001b[0m",
      "\u001b[1;31mAttributeError\u001b[0m                            Traceback (most recent call last)",
      "\u001b[1;32m~\\AppData\\Local\\Temp\\ipykernel_10456\\578741127.py\u001b[0m in \u001b[0;36m<module>\u001b[1;34m\u001b[0m\n\u001b[1;32m----> 1\u001b[1;33m \u001b[0mviz\u001b[0m\u001b[1;33m.\u001b[0m\u001b[0mensure_attr_scores_in_other_model\u001b[0m\u001b[1;33m(\u001b[0m\u001b[0mreference_token_idx\u001b[0m\u001b[1;33m)\u001b[0m\u001b[1;33m\u001b[0m\u001b[1;33m\u001b[0m\u001b[0m\n\u001b[0m",
      "\u001b[1;32m~\\Documents\\GitHub\\transformers-interpret\\sample_qualitative_viz.py\u001b[0m in \u001b[0;36mensure_attr_scores_in_other_model\u001b[1;34m(self, reference_token_idx)\u001b[0m\n\u001b[0;32m    304\u001b[0m             \u001b[1;32melse\u001b[0m\u001b[1;33m:\u001b[0m\u001b[1;33m\u001b[0m\u001b[1;33m\u001b[0m\u001b[0m\n\u001b[0;32m    305\u001b[0m                 \u001b[0mtoken_class_index_tuples\u001b[0m \u001b[1;33m=\u001b[0m \u001b[1;33m[\u001b[0m\u001b[1;33m(\u001b[0m\u001b[0mreference_token_idx\u001b[0m\u001b[1;33m,\u001b[0m \u001b[0mself\u001b[0m\u001b[1;33m.\u001b[0m\u001b[0mentity\u001b[0m\u001b[1;33m[\u001b[0m\u001b[1;34m'gold_label'\u001b[0m\u001b[1;33m]\u001b[0m\u001b[1;33m)\u001b[0m\u001b[1;33m,\u001b[0m \u001b[1;33m(\u001b[0m\u001b[0mreference_token_idx\u001b[0m\u001b[1;33m,\u001b[0m \u001b[0mself\u001b[0m\u001b[1;33m.\u001b[0m\u001b[0mentity\u001b[0m\u001b[1;33m[\u001b[0m\u001b[1;34m'pred_label'\u001b[0m\u001b[1;33m]\u001b[0m\u001b[1;33m)\u001b[0m\u001b[1;33m]\u001b[0m\u001b[1;33m\u001b[0m\u001b[1;33m\u001b[0m\u001b[0m\n\u001b[1;32m--> 306\u001b[1;33m                 \u001b[0mexplainer\u001b[0m \u001b[1;33m=\u001b[0m \u001b[0mTokenClassificationExplainer\u001b[0m\u001b[1;33m(\u001b[0m\u001b[0mself\u001b[0m\u001b[1;33m.\u001b[0m\u001b[0mpipeline\u001b[0m\u001b[1;33m.\u001b[0m\u001b[0mmodel\u001b[0m\u001b[1;33m,\u001b[0m \u001b[0mself\u001b[0m\u001b[1;33m.\u001b[0m\u001b[0mpipeline\u001b[0m\u001b[1;33m.\u001b[0m\u001b[0mtokenizer\u001b[0m\u001b[1;33m,\u001b[0m \u001b[0mattr_type\u001b[0m\u001b[1;33m)\u001b[0m\u001b[1;33m\u001b[0m\u001b[1;33m\u001b[0m\u001b[0m\n\u001b[0m\u001b[0;32m    307\u001b[0m                 explainer(other_doc['text'], token_class_index_tuples=token_class_index_tuples,\n\u001b[0;32m    308\u001b[0m                           internal_batch_size=BATCH_SIZE)\n",
      "\u001b[1;31mAttributeError\u001b[0m: 'QualitativeVisualizer' object has no attribute 'pipeline'"
     ]
    }
   ],
   "source": [
    "# viz.ensure_attr_scores_in_other_model(reference_token_idx)"
   ]
  },
  {
   "cell_type": "code",
   "execution_count": null,
   "id": "628e6cae",
   "metadata": {},
   "outputs": [],
   "source": []
  }
 ],
 "metadata": {
  "kernelspec": {
   "display_name": "Python 3 (ipykernel)",
   "language": "python",
   "name": "python3"
  },
  "language_info": {
   "codemirror_mode": {
    "name": "ipython",
    "version": 3
   },
   "file_extension": ".py",
   "mimetype": "text/x-python",
   "name": "python",
   "nbconvert_exporter": "python",
   "pygments_lexer": "ipython3",
   "version": "3.9.12"
  }
 },
 "nbformat": 4,
 "nbformat_minor": 5
}
