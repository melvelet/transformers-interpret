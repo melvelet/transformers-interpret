{
 "cells": [
  {
   "cell_type": "code",
   "execution_count": 1,
   "id": "7660742f",
   "metadata": {},
   "outputs": [
    {
     "name": "stdout",
     "output_type": "stream",
     "text": [
      "C:\\Users\\richa\\Documents\\GitHub\\transformers-interpret\n"
     ]
    }
   ],
   "source": [
    "import os\n",
    "import sys\n",
    "module_path = os.path.abspath(os.path.join('..'))\n",
    "if module_path not in sys.path:\n",
    "    sys.path.append(module_path)\n",
    "print(module_path)\n",
    "from sample_qualitative_viz import QualitativeVisualizer"
   ]
  },
  {
   "cell_type": "code",
   "execution_count": 2,
   "id": "3fd70f7a",
   "metadata": {},
   "outputs": [],
   "source": [
    "viz = QualitativeVisualizer()"
   ]
  },
  {
   "cell_type": "code",
   "execution_count": 3,
   "id": "ffe8547f",
   "metadata": {},
   "outputs": [
    {
     "name": "stderr",
     "output_type": "stream",
     "text": [
      "Reusing dataset bc5cdr (C:\\Users\\richa\\.cache\\huggingface\\datasets\\bc5cdr\\bc5cdr_bigbio_kb\\1.0.0\\7e79e79248a93d8b6a31793a47da14c4e8777f17648a27aaa6c6488ac71c8ab0)\n"
     ]
    },
    {
     "data": {
      "application/vnd.jupyter.widget-view+json": {
       "model_id": "f992f74eb92940ecb63af9af904b6567",
       "version_major": 2,
       "version_minor": 0
      },
      "text/plain": [
       "  0%|          | 0/3 [00:00<?, ?it/s]"
      ]
     },
     "metadata": {},
     "output_type": "display_data"
    }
   ],
   "source": [
    "viz.load_dataset(dataset=0)"
   ]
  },
  {
   "cell_type": "code",
   "execution_count": 4,
   "id": "af08017d",
   "metadata": {},
   "outputs": [],
   "source": [
    "viz.load_tokenizers()"
   ]
  },
  {
   "cell_type": "code",
   "execution_count": 5,
   "id": "cef7a56a",
   "metadata": {},
   "outputs": [],
   "source": [
    "# viz.load_other_pipeline(base_path='../trained_models/')"
   ]
  },
  {
   "cell_type": "code",
   "execution_count": 6,
   "id": "fdfd7e91",
   "metadata": {
    "scrolled": true
   },
   "outputs": [
    {
     "name": "stdout",
     "output_type": "stream",
     "text": [
      "bioelectra-discriminator lig 9238\n",
      "roberta lig 15101\n"
     ]
    }
   ],
   "source": [
    "viz.load_entities(base_path='../results/scores/', attributions=[0])"
   ]
  },
  {
   "cell_type": "code",
   "execution_count": 7,
   "id": "7578be13",
   "metadata": {
    "scrolled": false
   },
   "outputs": [
    {
     "name": "stdout",
     "output_type": "stream",
     "text": [
      "['lig']\n",
      "FN pred B-Chemical gold B-Disease\n"
     ]
    },
    {
     "name": "stderr",
     "output_type": "stream",
     "text": [
      "Asking to pad to max_length but no maximum length is provided and the model has no predefined maximum length. Default to no padding.\n"
     ]
    },
    {
     "name": "stdout",
     "output_type": "stream",
     "text": [
      "256\n",
      "paraplegia following intrathecal methotrexate : report of a case and review of the literature . a patient who developed paraplegia following the intrathecal instillation of methotrexate is disc ##ri ##bed . the ten previously reported cases of this unusual complication are reviewed . the following factors appear to predispose to the development of this complication : abnormal cerebrospinal dynamics related to the presence of central nervous system leukemia , and epidural cerebrospinal leakage ; elevated cerebrospinal fluid meth ##oth ##ex ##ate concentration related to abnormal cerebrospinal fluid dynamics and to inappropriate ##ly high methotrexate doses based on body surface area calculations in older children and adults ; the presence of neurotoxic preserv ##atives in commercially available methotrexate preparations and dil ##uent[rat: 121] ##s ; and the use of methotrexate dil ##uent ##s of unp ##hy ##si ##ologic ph , ionic content and osmolarity . the role of methotrexate contaminants , local[rat: 150] folate[REF: 151] deficiency[rat: 152] ,[rat: 153] and cranial irradiation in the pathogenesis of intrathecal methotrexate toxicity is unclear . the incidence of neurotoxicity may be reduced by employing lower doses of methotrexate in the presence of central nervous system leukemia , in older children and adults , and in the presence of epidural leakage . only preserv ##ative - free methotrexate in ell ##io ##tt ' s b solution at a concentration of not more than 1 mg / ml should be used for intrathecal administration . periodic monitoring of cereb ##ru ##sp ##inal fluid methotrexate levels may be predictive of the development of serious neurotoxicity . \n"
     ]
    }
   ],
   "source": [
    "mod1_ref_token_idx, ref_token, doc_id = viz.pick_entities(eval_='FN', n_value=1, doc_id=None, allow_zero=False)"
   ]
  },
  {
   "cell_type": "code",
   "execution_count": 8,
   "id": "720a6c0a",
   "metadata": {},
   "outputs": [
    {
     "data": {
      "text/plain": [
       "(151, 'folate', '7514')"
      ]
     },
     "execution_count": 8,
     "metadata": {},
     "output_type": "execute_result"
    }
   ],
   "source": [
    "mod1_ref_token_idx, ref_token, doc_id"
   ]
  },
  {
   "cell_type": "code",
   "execution_count": 12,
   "id": "7dca2eaa",
   "metadata": {},
   "outputs": [
    {
     "name": "stdout",
     "output_type": "stream",
     "text": [
      "Other entity exists: TP\n",
      "ĠPar ap leg ia Ġfollowing Ġintr athe cal Ġmet hot rex ate[tok: 12] : Ġreport Ġof Ġa Ġcase Ġand Ġreview Ġof Ġthe Ġliterature . Ċ A[tok: 25] Ġpatient Ġwho Ġdeveloped Ġparap leg ia Ġfollowing Ġthe Ġintr athe cal Ġinst illation Ġof Ġmet hot rex ate[tok: 43] Ġis Ġdisc ribed . ĠThe Ġten Ġpreviously Ġreported Ġcases Ġof Ġthis Ġunusual Ġcomplication Ġare Ġreviewed . ĠThe Ġfollowing Ġfactors Ġappear Ġto Ġpredis pose Ġto Ġthe Ġdevelopment Ġof Ġthis Ġcomplication : Ġabnormal Ġcere bro sp inal Ġdynamics Ġrelated Ġto Ġthe Ġpresence Ġof Ġcentral Ġnervous Ġsystem Ġleukemia , Ġand Ġepid ural Ġcere bro sp inal Ġleakage ; Ġelevated Ġcere bro sp inal Ġfluid Ġmet hot hex ate[tok: 108] Ġconcentration Ġrelated Ġto Ġabnormal Ġcere bro sp inal Ġfluid Ġdynamics Ġand Ġto Ġinappropriately Ġhigh Ġmet hot rex ate[tok: 126] Ġdoses Ġbased Ġon Ġbody Ġsurface Ġarea Ġcalculations Ġin Ġolder Ġchildren Ġand Ġadults ; Ġthe Ġpresence Ġof Ġneurot oxic Ġpres ervatives Ġin Ġcommercially Ġavailable Ġmet hot rex ate[tok: 153] Ġpreparations Ġand Ġdil u ents ; Ġand Ġthe Ġuse Ġof Ġmet hot rex ate[tok: 167] Ġdil u ents Ġof Ġun phys i ologic ĠpH , Ġion ic Ġcontent Ġand Ġo sm olar ity . ĠThe Ġrole Ġof Ġmet hot rex ate[tok: 193] Ġcontaminants , Ġlocal Ġfol[REF: 197] ate[tok: 198] Ġdeficiency , Ġand Ġcran ial Ġirrad iation Ġin Ġthe Ġpath ogenesis Ġof Ġintr athe cal Ġmet hot rex ate[tok: 217] Ġtoxicity Ġis Ġunclear . ĠThe Ġincidence Ġof Ġneurot oxicity Ġmay Ġbe Ġreduced Ġby Ġemploying Ġlower Ġdoses Ġof Ġmet hot rex ate[tok: 238] Ġin Ġthe Ġpresence Ġof Ġcentral Ġnervous Ġsystem Ġleukemia , Ġin Ġolder Ġchildren Ġand Ġadults , Ġand Ġin Ġthe Ġpresence Ġof Ġepid ural Ġleakage . ĠOnly Ġpres ervative - free Ġmet hot rex ate[tok: 271] Ġin ĠElliott 's ĠB ĠSolution Ġat Ġa Ġconcentration Ġof Ġnot Ġmore Ġthan Ġ1 Ġmg / ml Ġshould Ġbe Ġused Ġfor Ġintr athe cal Ġadministration . ĠPeriod ic Ġmonitoring Ġof Ġcere br usp inal Ġfluid Ġmet hot rex ate[tok: 309] Ġlevels Ġmay Ġbe Ġpredictive Ġof Ġthe Ġdevelopment Ġof Ġserious Ġneurot oxicity . \n"
     ]
    }
   ],
   "source": [
    "mod2_ref_token_idx = 197\n",
    "viz.find_in_other_model(ref_token, reference_token_idx=mod2_ref_token_idx)"
   ]
  },
  {
   "cell_type": "code",
   "execution_count": 10,
   "id": "27dcbe4f",
   "metadata": {
    "scrolled": false
   },
   "outputs": [],
   "source": [
    "# k_value = 5\n",
    "# viz.ensure_attr_scores_in_other_model(mod2_ref_token_idx, k_value)"
   ]
  },
  {
   "cell_type": "code",
   "execution_count": 11,
   "id": "ca33b901",
   "metadata": {},
   "outputs": [],
   "source": [
    "# viz.print_table(k_value=k_value)"
   ]
  }
 ],
 "metadata": {
  "kernelspec": {
   "display_name": "Python 3 (ipykernel)",
   "language": "python",
   "name": "python3"
  },
  "language_info": {
   "codemirror_mode": {
    "name": "ipython",
    "version": 3
   },
   "file_extension": ".py",
   "mimetype": "text/x-python",
   "name": "python",
   "nbconvert_exporter": "python",
   "pygments_lexer": "ipython3",
   "version": "3.9.12"
  }
 },
 "nbformat": 4,
 "nbformat_minor": 5
}
