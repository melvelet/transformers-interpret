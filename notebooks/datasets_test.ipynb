{
 "cells": [
  {
   "cell_type": "code",
   "execution_count": 1,
   "id": "4f016c45",
   "metadata": {},
   "outputs": [
    {
     "name": "stdout",
     "output_type": "stream",
     "text": [
      "found 453 dataset configs from 127 datasets\n"
     ]
    }
   ],
   "source": [
    "from bigbio.dataloader import BigBioConfigHelpers\n",
    "conhelps = BigBioConfigHelpers()\n",
    "print(\"found {} dataset configs from {} datasets\".format(\n",
    "    len(conhelps),\n",
    "    len(conhelps.available_dataset_names)\n",
    "))"
   ]
  },
  {
   "cell_type": "code",
   "execution_count": 9,
   "id": "dfc76c2d",
   "metadata": {},
   "outputs": [],
   "source": [
    "from bigbio.utils.constants import Tasks, Lang\n",
    "ner = Tasks.NAMED_ENTITY_RECOGNITION\n",
    "eng = Lang.EN"
   ]
  },
  {
   "cell_type": "code",
   "execution_count": 10,
   "id": "55d90c14",
   "metadata": {},
   "outputs": [],
   "source": [
    "#conhelps[0].tasks"
   ]
  },
  {
   "cell_type": "code",
   "execution_count": 11,
   "id": "630fcecd",
   "metadata": {},
   "outputs": [],
   "source": [
    "ner_datasets = conhelps.filtered(\n",
    "    lambda x:\n",
    "        x.is_bigbio_schema\n",
    "\tand ner in x.tasks\n",
    "    and eng in x.languages\n",
    ")"
   ]
  },
  {
   "cell_type": "code",
   "execution_count": 12,
   "id": "73c3ce78",
   "metadata": {
    "scrolled": false
   },
   "outputs": [
    {
     "name": "stdout",
     "output_type": "stream",
     "text": [
      "found 95 dataset configs from 68 datasets\n"
     ]
    }
   ],
   "source": [
    "print(\"found {} dataset configs from {} datasets\".format(\n",
    "    len(ner_datasets),\n",
    "    len(ner_datasets.available_dataset_names)\n",
    "))"
   ]
  },
  {
   "cell_type": "code",
   "execution_count": 42,
   "id": "9470edd6",
   "metadata": {
    "scrolled": true
   },
   "outputs": [
    {
     "name": "stderr",
     "output_type": "stream",
     "text": [
      "Reusing dataset an_em_dataset (C:\\Users\\z0049uey\\.cache\\huggingface\\datasets\\an_em_dataset\\an_em_bigbio_kb\\1.0.0\\4cc404cb406e863d70b8f08a926837a6c9a38169be1e6c804b83e1a805588329)\n"
     ]
    },
    {
     "data": {
      "application/vnd.jupyter.widget-view+json": {
       "model_id": "055039c9c1044c58a772f6c627011eb6",
       "version_major": 2,
       "version_minor": 0
      },
      "text/plain": [
       "  0%|          | 0/3 [00:00<?, ?it/s]"
      ]
     },
     "metadata": {},
     "output_type": "display_data"
    },
    {
     "data": {
      "text/plain": [
       "BigBioKbMetadata(samples_count=250, passages_count=250, passages_char_count=299669, passages_type_counter={'abstract': 125, 'sec': 81, 'caption': 44}, entities_count=1616, entities_normalized_count=0, entities_type_counter={'Cell': 411, 'Multi-tissue_structure': 347, 'Pathological_formation': 188, 'Organ': 180, 'Organism_substance': 143, 'Cellular_component': 92, 'Organism_subdivision': 92, 'Tissue': 89, 'Anatomical_system': 35, 'Immaterial_anatomical_entity': 29, 'Developing_anatomical_structure': 10}, entities_db_name_counter={}, entities_unique_db_ids_count=0, events_count=0, events_type_counter={}, events_arguments_count=0, events_arguments_role_counter={}, coreferences_count=10, relations_count=43, relations_type_counter={'frag': 23, 'Part-of': 20}, relations_db_name_counter={}, relations_unique_db_ids_count=0)"
      ]
     },
     "execution_count": 42,
     "metadata": {},
     "output_type": "execute_result"
    }
   ],
   "source": [
    "dataset_1 = ner_datasets[0]\n",
    "dataset_1.config.name\n",
    "dataset_1.get_metadata()['train']"
   ]
  },
  {
   "cell_type": "code",
   "execution_count": 33,
   "id": "cfa440d3",
   "metadata": {},
   "outputs": [
    {
     "name": "stderr",
     "output_type": "stream",
     "text": [
      "Using custom data configuration an_em_bigbio_kb-data_dir=an_em_bigbio_kb\n",
      "Reusing dataset an_em_dataset (C:\\Users\\z0049uey\\.cache\\huggingface\\datasets\\an_em_dataset\\an_em_bigbio_kb-data_dir=an_em_bigbio_kb\\1.0.0\\4cc404cb406e863d70b8f08a926837a6c9a38169be1e6c804b83e1a805588329)\n"
     ]
    }
   ],
   "source": [
    "from datasets import load_dataset\n",
    "load_dataset_kwargs = conhelps.for_config_name(dataset_1.config.name).get_load_dataset_kwargs(data_dir=f\"{dataset_1.config.name}\")\n",
    "dsd = load_dataset(**load_dataset_kwargs, split='train')"
   ]
  },
  {
   "cell_type": "code",
   "execution_count": 37,
   "id": "4f48df34",
   "metadata": {
    "scrolled": false
   },
   "outputs": [
    {
     "data": {
      "text/plain": [
       "{'id': 'PMC-1072800-sec-07',\n",
       " 'document_id': 'PMC-1072800-sec-07',\n",
       " 'passages': [{'id': 'PMC-1072800-sec-07__text',\n",
       "   'type': 'sec',\n",
       "   'text': [\"Immunostaining and confocal analysis\\nDNA labelling and staining with 5-bromo-2'-deoxyuridine (BrdU labelling and detection kit I; Boehringer Mannheim, Germany) was performed according to the manufacturer's instructions. The nucleoli were detected with an anti-nucleolin antibody (clone 3G4B2; Upstate biotechnology, Lake Placid, NY) on cells fixed in 2% formalin for 10 min followed by permeabilization with ice-cold methanol for 30 min. The secondary antibody used for both BrdU and nucleoli staining was a rhodamine (tetra-methyl)-conjugated goat anti-mouse antibody (T-2762) from Molecular Probe (Eugene, OR). The cells were examined in a Zeiss LSM 510 laser scanning microscope equipped with a Plan-Apochromate 63x/1.4 oil immersion objective. We used the 488 nm laser line for excitation of EGFP (detected at 505 nm < lambdaEGFP < 530 nm) and the 543 nm laser line for rhodamine (tetra-methyl) (detected at lambdaRhodamine > 560 nm). ECFP fusion protein was excited with a 458 nm laser line (detected at 480 nm < lambdaECFP < 520 nm), EYFP fusion protein was excited with a 514 nm laser line (lambdaEGFP > 560 nm) and HcRed fusion protein was excited with a 543 nm laser line and detected at >585 or 650 nm. The images were from 1 mum thick slices of the cells. The images were exported into Adobe Photoshop (Adobe Systems Inc., San Jose, CA).\\n\"],\n",
       "   'offsets': [[0, 1349]]}],\n",
       " 'entities': [{'id': 'PMC-1072800-sec-07_T1',\n",
       "   'type': 'Cellular_component',\n",
       "   'text': ['nucleoli'],\n",
       "   'offsets': [[224, 232]],\n",
       "   'normalized': []},\n",
       "  {'id': 'PMC-1072800-sec-07_T2',\n",
       "   'type': 'Cell',\n",
       "   'text': ['cells'],\n",
       "   'offsets': [[336, 341]],\n",
       "   'normalized': []},\n",
       "  {'id': 'PMC-1072800-sec-07_T3',\n",
       "   'type': 'Cell',\n",
       "   'text': ['cells'],\n",
       "   'offsets': [[617, 622]],\n",
       "   'normalized': []},\n",
       "  {'id': 'PMC-1072800-sec-07_T4',\n",
       "   'type': 'Cell',\n",
       "   'text': ['cells'],\n",
       "   'offsets': [[1260, 1265]],\n",
       "   'normalized': []},\n",
       "  {'id': 'PMC-1072800-sec-07_T6',\n",
       "   'type': 'Cellular_component',\n",
       "   'text': ['nucleoli'],\n",
       "   'offsets': [[484, 492]],\n",
       "   'normalized': []},\n",
       "  {'id': 'PMC-1072800-sec-07_T7',\n",
       "   'type': 'Cell',\n",
       "   'text': ['slices'],\n",
       "   'offsets': [[1246, 1252]],\n",
       "   'normalized': []}],\n",
       " 'events': [],\n",
       " 'coreferences': [],\n",
       " 'relations': [{'id': 'PMC-1072800-sec-07_R1',\n",
       "   'type': 'Part-of',\n",
       "   'arg1_id': 'PMC-1072800-sec-07_T7',\n",
       "   'arg2_id': 'PMC-1072800-sec-07_T4',\n",
       "   'normalized': []}]}"
      ]
     },
     "execution_count": 37,
     "metadata": {},
     "output_type": "execute_result"
    }
   ],
   "source": [
    "dsd[0]"
   ]
  },
  {
   "cell_type": "code",
   "execution_count": null,
   "id": "8bd06ee0",
   "metadata": {},
   "outputs": [],
   "source": []
  }
 ],
 "metadata": {
  "kernelspec": {
   "display_name": "Python 3 (ipykernel)",
   "language": "python",
   "name": "python3"
  },
  "language_info": {
   "codemirror_mode": {
    "name": "ipython",
    "version": 3
   },
   "file_extension": ".py",
   "mimetype": "text/x-python",
   "name": "python",
   "nbconvert_exporter": "python",
   "pygments_lexer": "ipython3",
   "version": "3.7.7"
  }
 },
 "nbformat": 4,
 "nbformat_minor": 5
}
