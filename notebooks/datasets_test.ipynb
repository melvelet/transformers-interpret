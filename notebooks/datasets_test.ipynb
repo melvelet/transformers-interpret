{
 "cells": [
  {
   "cell_type": "code",
   "execution_count": 1,
   "id": "4f016c45",
   "metadata": {},
   "outputs": [
    {
     "name": "stdout",
     "output_type": "stream",
     "text": [
      "found 453 dataset configs from 127 datasets\n"
     ]
    }
   ],
   "source": [
    "from bigbio.dataloader import BigBioConfigHelpers\n",
    "conhelps = BigBioConfigHelpers()\n",
    "print(\"found {} dataset configs from {} datasets\".format(\n",
    "    len(conhelps),\n",
    "    len(conhelps.available_dataset_names)\n",
    "))"
   ]
  },
  {
   "cell_type": "code",
   "execution_count": 2,
   "id": "eafaf9df",
   "metadata": {},
   "outputs": [],
   "source": [
    "from bigbio.utils.constants import Tasks, Lang\n",
    "ner = Tasks.NAMED_ENTITY_RECOGNITION\n",
    "eng = Lang.EN"
   ]
  },
  {
   "cell_type": "code",
   "execution_count": 3,
   "id": "ea74e6fa",
   "metadata": {},
   "outputs": [],
   "source": [
    "#conhelps[0].tasks"
   ]
  },
  {
   "cell_type": "code",
   "execution_count": 4,
   "id": "af070cd4",
   "metadata": {},
   "outputs": [],
   "source": [
    "ner_datasets = conhelps.filtered(\n",
    "    lambda x:\n",
    "        x.is_bigbio_schema\n",
    "\tand ner in x.tasks\n",
    "    and eng in x.languages\n",
    "    and not x.is_broken\n",
    ")"
   ]
  },
  {
   "cell_type": "code",
   "execution_count": 5,
   "id": "67e1da48",
   "metadata": {
    "scrolled": false
   },
   "outputs": [
    {
     "name": "stdout",
     "output_type": "stream",
     "text": [
      "found 95 dataset configs from 68 datasets\n"
     ]
    }
   ],
   "source": [
    "print(\"found {} dataset configs from {} datasets\".format(\n",
    "    len(ner_datasets),\n",
    "    len(ner_datasets.available_dataset_names)\n",
    "))"
   ]
  },
  {
   "cell_type": "code",
   "execution_count": 6,
   "id": "ad2d4273",
   "metadata": {
    "scrolled": false
   },
   "outputs": [
    {
     "data": {
      "text/plain": [
       "BigBioConfigHelper(script='C:/Users/richa/Documents/GitHub/transformers-interpret/.env/Lib/site-packages/bigbio/biodatasets/pubtator_central/pubtator_central.py', dataset_name='pubtator_central', tasks={<Tasks.NAMED_ENTITY_RECOGNITION: 'NER'>, <Tasks.NAMED_ENTITY_DISAMBIGUATION: 'NED'>}, languages=[<Lang.EN: 'English'>], config=BigBioConfig(name='pubtator_central_bigbio_kb', version=1.0.0, data_dir=None, data_files=None, description='PubTator Central BigBio schema', schema='bigbio_kb', subset_id='pubtator_central'), is_local=False, is_pubmed=True, is_bigbio_schema=True, bigbio_schema_caps='KB', is_large=True, is_resource=True, is_default=False, is_broken=False, bigbio_version='1.0.0', source_version='2022.01.08', citation='@article{10.1093/nar/gkz389,\\n  title        = {{PubTator central: automated concept annotation for biomedical full text articles}},\\n  author       = {Wei, Chih-Hsuan and Allot, Alexis and Leaman, Robert and Lu, Zhiyong},\\n  year         = 2019,\\n  month        = {05},\\n  journal      = {Nucleic Acids Research},\\n  volume       = 47,\\n  number       = {W1},\\n  pages        = {W587-W593},\\n  doi          = {10.1093/nar/gkz389},\\n  issn         = {0305-1048},\\n  url          = {https://doi.org/10.1093/nar/gkz389},\\n  eprint       = {https://academic.oup.com/nar/article-pdf/47/W1/W587/28880193/gkz389.pdf}\\n}\\n', description='PubTator Central (PTC, https://www.ncbi.nlm.nih.gov/research/pubtator/) is a web service for\\nexploring and retrieving bioconcept annotations in full text biomedical articles. PTC provides\\nautomated annotations from state-of-the-art text mining systems for genes/proteins, genetic\\nvariants, diseases, chemicals, species and cell lines, all available for immediate download. PTC\\nannotates PubMed (30 million abstracts), the PMC Open Access Subset and the Author Manuscript\\nCollection (3 million full text articles). Updated entity identification methods and a\\ndisambiguation module based on cutting-edge deep learning techniques provide increased accuracy.\\n', homepage='https://www.ncbi.nlm.nih.gov/research/pubtator/', license=<Licenses.NCBI_LICENSE: CustomLicense(name='National Center fr Biotechnology Information PUBLIC DOMAIN NOTICE', text='\\n===========================================================================\\n*\\n*                            PUBLIC DOMAIN NOTICE\\n*               National Center for Biotechnology Information\\n*\\n*  This software/database is a \"United States Government Work\" under the\\n*  terms of the United States Copyright Act.  It was written as part of\\n*  the author\\'s official duties as a United States Government employee and\\n*  thus cannot be copyrighted.  This software/database is freely available\\n*  to the public for use. The National Library of Medicine and the U.S.\\n*  Government have not placed any restriction on its use or reproduction.\\n*\\n*  Although all reasonable efforts have been taken to ensure the accuracy\\n*  and reliability of the software and data, the NLM and the U.S.\\n*  Government do not and cannot warrant the performance or results that\\n*  may be obtained by using this software or data. The NLM and the U.S.\\n*  Government disclaim all warranties, express or implied, including\\n*  warranties of performance, merchantability or fitness for any particular\\n*  purpose.\\n*\\n*  Please cite the author in any work or product based on this material.\\n*\\n*\\n===========================================================================\\n', link='https://github.com/openbiocorpora/genetag/blob/master/LICENSE', version=None, provenance=None)>)"
      ]
     },
     "execution_count": 6,
     "metadata": {},
     "output_type": "execute_result"
    }
   ],
   "source": [
    "conf = conhelps.for_config_name('pubtator_central_bigbio_kb')\n",
    "conf"
   ]
  },
  {
   "cell_type": "code",
   "execution_count": 7,
   "id": "ebd3e98c",
   "metadata": {
    "scrolled": true
   },
   "outputs": [
    {
     "name": "stderr",
     "output_type": "stream",
     "text": [
      "Using custom data configuration bc5cdr_bigbio_kb-data_dir=bc5cdr_bigbio_kb\n",
      "Reusing dataset bc5cdr (C:\\Users\\richa\\.cache\\huggingface\\datasets\\bc5cdr\\bc5cdr_bigbio_kb-data_dir=bc5cdr_bigbio_kb\\1.0.0\\7e79e79248a93d8b6a31793a47da14c4e8777f17648a27aaa6c6488ac71c8ab0)\n"
     ]
    },
    {
     "data": {
      "application/vnd.jupyter.widget-view+json": {
       "model_id": "e98de655a1db47d7b6b82ddb4d783181",
       "version_major": 2,
       "version_minor": 0
      },
      "text/plain": [
       "  0%|          | 0/3 [00:00<?, ?it/s]"
      ]
     },
     "metadata": {},
     "output_type": "display_data"
    },
    {
     "data": {
      "text/plain": [
       "{'id': '0',\n",
       " 'document_id': '227508',\n",
       " 'passages': [{'id': '1',\n",
       "   'type': 'title',\n",
       "   'text': ['Naloxone reverses the antihypertensive effect of clonidine.'],\n",
       "   'offsets': [[0, 59]]},\n",
       "  {'id': '2',\n",
       "   'type': 'abstract',\n",
       "   'text': ['In unanesthetized, spontaneously hypertensive rats the decrease in blood pressure and heart rate produced by intravenous clonidine, 5 to 20 micrograms/kg, was inhibited or reversed by nalozone, 0.2 to 2 mg/kg. The hypotensive effect of 100 mg/kg alpha-methyldopa was also partially reversed by naloxone. Naloxone alone did not affect either blood pressure or heart rate. In brain membranes from spontaneously hypertensive rats clonidine, 10(-8) to 10(-5) M, did not influence stereoselective binding of [3H]-naloxone (8 nM), and naloxone, 10(-8) to 10(-4) M, did not influence clonidine-suppressible binding of [3H]-dihydroergocryptine (1 nM). These findings indicate that in spontaneously hypertensive rats the effects of central alpha-adrenoceptor stimulation involve activation of opiate receptors. As naloxone and clonidine do not appear to interact with the same receptor site, the observed functional antagonism suggests the release of an endogenous opiate by clonidine or alpha-methyldopa and the possible role of the opiate in the central control of sympathetic tone.'],\n",
       "   'offsets': [[60, 1135]]}],\n",
       " 'entities': [{'id': '3',\n",
       "   'type': 'Chemical',\n",
       "   'text': ['Naloxone'],\n",
       "   'offsets': [[0, 8]],\n",
       "   'normalized': [{'db_name': 'MESH', 'db_id': 'D009270'}]},\n",
       "  {'id': '4',\n",
       "   'type': 'Chemical',\n",
       "   'text': ['clonidine'],\n",
       "   'offsets': [[49, 58]],\n",
       "   'normalized': [{'db_name': 'MESH', 'db_id': 'D003000'}]},\n",
       "  {'id': '5',\n",
       "   'type': 'Disease',\n",
       "   'text': ['hypertensive'],\n",
       "   'offsets': [[93, 105]],\n",
       "   'normalized': [{'db_name': 'MESH', 'db_id': 'D006973'}]},\n",
       "  {'id': '6',\n",
       "   'type': 'Chemical',\n",
       "   'text': ['clonidine'],\n",
       "   'offsets': [[181, 190]],\n",
       "   'normalized': [{'db_name': 'MESH', 'db_id': 'D003000'}]},\n",
       "  {'id': '7',\n",
       "   'type': 'Chemical',\n",
       "   'text': ['nalozone'],\n",
       "   'offsets': [[244, 252]],\n",
       "   'normalized': []},\n",
       "  {'id': '8',\n",
       "   'type': 'Disease',\n",
       "   'text': ['hypotensive'],\n",
       "   'offsets': [[274, 285]],\n",
       "   'normalized': [{'db_name': 'MESH', 'db_id': 'D007022'}]},\n",
       "  {'id': '9',\n",
       "   'type': 'Chemical',\n",
       "   'text': ['alpha-methyldopa'],\n",
       "   'offsets': [[306, 322]],\n",
       "   'normalized': [{'db_name': 'MESH', 'db_id': 'D008750'}]},\n",
       "  {'id': '10',\n",
       "   'type': 'Chemical',\n",
       "   'text': ['naloxone'],\n",
       "   'offsets': [[354, 362]],\n",
       "   'normalized': [{'db_name': 'MESH', 'db_id': 'D009270'}]},\n",
       "  {'id': '11',\n",
       "   'type': 'Chemical',\n",
       "   'text': ['Naloxone'],\n",
       "   'offsets': [[364, 372]],\n",
       "   'normalized': [{'db_name': 'MESH', 'db_id': 'D009270'}]},\n",
       "  {'id': '12',\n",
       "   'type': 'Disease',\n",
       "   'text': ['hypertensive'],\n",
       "   'offsets': [[469, 481]],\n",
       "   'normalized': [{'db_name': 'MESH', 'db_id': 'D006973'}]},\n",
       "  {'id': '13',\n",
       "   'type': 'Chemical',\n",
       "   'text': ['clonidine'],\n",
       "   'offsets': [[487, 496]],\n",
       "   'normalized': [{'db_name': 'MESH', 'db_id': 'D003000'}]},\n",
       "  {'id': '14',\n",
       "   'type': 'Chemical',\n",
       "   'text': ['[3H]-naloxone'],\n",
       "   'offsets': [[563, 576]],\n",
       "   'normalized': []},\n",
       "  {'id': '15',\n",
       "   'type': 'Chemical',\n",
       "   'text': ['naloxone'],\n",
       "   'offsets': [[589, 597]],\n",
       "   'normalized': [{'db_name': 'MESH', 'db_id': 'D009270'}]},\n",
       "  {'id': '16',\n",
       "   'type': 'Chemical',\n",
       "   'text': ['clonidine'],\n",
       "   'offsets': [[637, 646]],\n",
       "   'normalized': [{'db_name': 'MESH', 'db_id': 'D003000'}]},\n",
       "  {'id': '17',\n",
       "   'type': 'Chemical',\n",
       "   'text': ['[3H]-dihydroergocryptine'],\n",
       "   'offsets': [[671, 695]],\n",
       "   'normalized': []},\n",
       "  {'id': '18',\n",
       "   'type': 'Disease',\n",
       "   'text': ['hypertensive'],\n",
       "   'offsets': [[750, 762]],\n",
       "   'normalized': [{'db_name': 'MESH', 'db_id': 'D006973'}]},\n",
       "  {'id': '19',\n",
       "   'type': 'Chemical',\n",
       "   'text': ['naloxone'],\n",
       "   'offsets': [[865, 873]],\n",
       "   'normalized': [{'db_name': 'MESH', 'db_id': 'D009270'}]},\n",
       "  {'id': '20',\n",
       "   'type': 'Chemical',\n",
       "   'text': ['clonidine'],\n",
       "   'offsets': [[878, 887]],\n",
       "   'normalized': [{'db_name': 'MESH', 'db_id': 'D003000'}]},\n",
       "  {'id': '21',\n",
       "   'type': 'Chemical',\n",
       "   'text': ['clonidine'],\n",
       "   'offsets': [[1026, 1035]],\n",
       "   'normalized': [{'db_name': 'MESH', 'db_id': 'D003000'}]},\n",
       "  {'id': '22',\n",
       "   'type': 'Chemical',\n",
       "   'text': ['alpha-methyldopa'],\n",
       "   'offsets': [[1039, 1055]],\n",
       "   'normalized': [{'db_name': 'MESH', 'db_id': 'D008750'}]}],\n",
       " 'events': [],\n",
       " 'coreferences': [],\n",
       " 'relations': [{'id': '23',\n",
       "   'type': 'CID',\n",
       "   'arg1_id': '9',\n",
       "   'arg2_id': '8',\n",
       "   'normalized': []},\n",
       "  {'id': '24',\n",
       "   'type': 'CID',\n",
       "   'arg1_id': '22',\n",
       "   'arg2_id': '8',\n",
       "   'normalized': []}]}"
      ]
     },
     "execution_count": 7,
     "metadata": {},
     "output_type": "execute_result"
    }
   ],
   "source": [
    "from datasets import load_dataset\n",
    "load_dataset_kwargs = conhelps.for_config_name('bc5cdr_bigbio_kb').get_load_dataset_kwargs(data_dir=f\"{'bc5cdr_bigbio_kb'}\")\n",
    "dsd = load_dataset(**load_dataset_kwargs)\n",
    "dsd['train'][0]"
   ]
  },
  {
   "cell_type": "code",
   "execution_count": 8,
   "id": "8d6d4a98",
   "metadata": {
    "scrolled": true
   },
   "outputs": [
    {
     "ename": "TypeError",
     "evalue": "string indices must be integers",
     "output_type": "error",
     "traceback": [
      "\u001b[1;31m---------------------------------------------------------------------------\u001b[0m",
      "\u001b[1;31mTypeError\u001b[0m                                 Traceback (most recent call last)",
      "\u001b[1;32m~\\AppData\\Local\\Temp\\ipykernel_11836\\3644120786.py\u001b[0m in \u001b[0;36m<module>\u001b[1;34m\u001b[0m\n\u001b[0;32m      1\u001b[0m \u001b[1;32mfor\u001b[0m \u001b[0mi\u001b[0m \u001b[1;32min\u001b[0m \u001b[0mdsd\u001b[0m\u001b[1;33m:\u001b[0m\u001b[1;33m\u001b[0m\u001b[1;33m\u001b[0m\u001b[0m\n\u001b[1;32m----> 2\u001b[1;33m     \u001b[1;32mif\u001b[0m \u001b[1;34m'truncated'\u001b[0m \u001b[1;32min\u001b[0m \u001b[0mi\u001b[0m\u001b[1;33m[\u001b[0m\u001b[1;34m'passages'\u001b[0m\u001b[1;33m]\u001b[0m\u001b[1;33m[\u001b[0m\u001b[1;36m0\u001b[0m\u001b[1;33m]\u001b[0m\u001b[1;33m[\u001b[0m\u001b[1;34m'text'\u001b[0m\u001b[1;33m]\u001b[0m\u001b[1;33m[\u001b[0m\u001b[1;36m0\u001b[0m\u001b[1;33m]\u001b[0m\u001b[1;33m.\u001b[0m\u001b[0mlower\u001b[0m\u001b[1;33m(\u001b[0m\u001b[1;33m)\u001b[0m\u001b[1;33m:\u001b[0m \u001b[1;31m#or len(i['passages'][0]['text'][0]) > 1000\u001b[0m\u001b[1;33m\u001b[0m\u001b[1;33m\u001b[0m\u001b[0m\n\u001b[0m\u001b[0;32m      3\u001b[0m         \u001b[0mprint\u001b[0m\u001b[1;33m(\u001b[0m\u001b[0mi\u001b[0m\u001b[1;33m)\u001b[0m\u001b[1;33m\u001b[0m\u001b[1;33m\u001b[0m\u001b[0m\n",
      "\u001b[1;31mTypeError\u001b[0m: string indices must be integers"
     ]
    }
   ],
   "source": [
    "for i in dsd:\n",
    "    if 'truncated' in i['passages'][0]['text'][0].lower(): #or len(i['passages'][0]['text'][0]) > 1000\n",
    "        print(i)"
   ]
  },
  {
   "cell_type": "code",
   "execution_count": null,
   "id": "8d551df7",
   "metadata": {},
   "outputs": [],
   "source": []
  }
 ],
 "metadata": {
  "kernelspec": {
   "display_name": "Python 3 (ipykernel)",
   "language": "python",
   "name": "python3"
  },
  "language_info": {
   "codemirror_mode": {
    "name": "ipython",
    "version": 3
   },
   "file_extension": ".py",
   "mimetype": "text/x-python",
   "name": "python",
   "nbconvert_exporter": "python",
   "pygments_lexer": "ipython3",
   "version": "3.9.12"
  }
 },
 "nbformat": 4,
 "nbformat_minor": 5
}
