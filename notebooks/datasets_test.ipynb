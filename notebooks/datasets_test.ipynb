{
 "cells": [
  {
   "cell_type": "code",
   "execution_count": 2,
   "id": "4f016c45",
   "metadata": {},
   "outputs": [
    {
     "name": "stdout",
     "output_type": "stream",
     "text": [
      "found 453 dataset configs from 127 datasets\n"
     ]
    }
   ],
   "source": [
    "from bigbio.dataloader import BigBioConfigHelpers\n",
    "conhelps = BigBioConfigHelpers()\n",
    "print(\"found {} dataset configs from {} datasets\".format(\n",
    "    len(conhelps),\n",
    "    len(conhelps.available_dataset_names)\n",
    "))"
   ]
  },
  {
   "cell_type": "code",
   "execution_count": 3,
   "id": "eafaf9df",
   "metadata": {},
   "outputs": [],
   "source": [
    "from bigbio.utils.constants import Tasks, Lang\n",
    "ner = Tasks.NAMED_ENTITY_RECOGNITION\n",
    "eng = Lang.EN"
   ]
  },
  {
   "cell_type": "code",
   "execution_count": 10,
   "id": "ea74e6fa",
   "metadata": {},
   "outputs": [],
   "source": [
    "#conhelps[0].tasks"
   ]
  },
  {
   "cell_type": "code",
   "execution_count": 4,
   "id": "af070cd4",
   "metadata": {},
   "outputs": [],
   "source": [
    "ner_datasets = conhelps.filtered(\n",
    "    lambda x:\n",
    "        x.is_bigbio_schema\n",
    "\tand ner in x.tasks\n",
    "    and eng in x.languages\n",
    "    and not x.is_broken\n",
    ")"
   ]
  },
  {
   "cell_type": "code",
   "execution_count": 90,
   "id": "67e1da48",
   "metadata": {
    "scrolled": false
   },
   "outputs": [
    {
     "name": "stdout",
     "output_type": "stream",
     "text": [
      "found 2 dataset configs from 1 datasets\n"
     ]
    }
   ],
   "source": [
    "print(\"found {} dataset configs from {} datasets\".format(\n",
    "    len(ner_datasets),\n",
    "    len(ner_datasets.available_dataset_names)\n",
    "))"
   ]
  },
  {
   "cell_type": "code",
   "execution_count": 6,
   "id": "ad2d4273",
   "metadata": {
    "scrolled": false
   },
   "outputs": [
    {
     "data": {
      "text/plain": [
       "BigBioConfigHelper(script='C:/Users/z0049uey/.pyenv/pyenv-win/versions/3.7.7/Lib/site-packages/bigbio/biodatasets/pubtator_central/pubtator_central.py', dataset_name='pubtator_central', tasks={<Tasks.NAMED_ENTITY_RECOGNITION: 'NER'>, <Tasks.NAMED_ENTITY_DISAMBIGUATION: 'NED'>}, languages=[<Lang.EN: 'English'>], config=BigBioConfig(name='pubtator_central_bigbio_kb', version=1.0.0, data_dir=None, data_files=None, description='PubTator Central BigBio schema', schema='bigbio_kb', subset_id='pubtator_central'), is_local=False, is_pubmed=True, is_bigbio_schema=True, bigbio_schema_caps='KB', is_large=True, is_resource=True, is_default=False, is_broken=False, bigbio_version='1.0.0', source_version='2022.01.08', citation='@article{10.1093/nar/gkz389,\\n  title        = {{PubTator central: automated concept annotation for biomedical full text articles}},\\n  author       = {Wei, Chih-Hsuan and Allot, Alexis and Leaman, Robert and Lu, Zhiyong},\\n  year         = 2019,\\n  month        = {05},\\n  journal      = {Nucleic Acids Research},\\n  volume       = 47,\\n  number       = {W1},\\n  pages        = {W587-W593},\\n  doi          = {10.1093/nar/gkz389},\\n  issn         = {0305-1048},\\n  url          = {https://doi.org/10.1093/nar/gkz389},\\n  eprint       = {https://academic.oup.com/nar/article-pdf/47/W1/W587/28880193/gkz389.pdf}\\n}\\n', description='PubTator Central (PTC, https://www.ncbi.nlm.nih.gov/research/pubtator/) is a web service for\\nexploring and retrieving bioconcept annotations in full text biomedical articles. PTC provides\\nautomated annotations from state-of-the-art text mining systems for genes/proteins, genetic\\nvariants, diseases, chemicals, species and cell lines, all available for immediate download. PTC\\nannotates PubMed (30 million abstracts), the PMC Open Access Subset and the Author Manuscript\\nCollection (3 million full text articles). Updated entity identification methods and a\\ndisambiguation module based on cutting-edge deep learning techniques provide increased accuracy.\\n', homepage='https://www.ncbi.nlm.nih.gov/research/pubtator/', license=<Licenses.NCBI_LICENSE: CustomLicense(name='National Center fr Biotechnology Information PUBLIC DOMAIN NOTICE', text='\\n===========================================================================\\n*\\n*                            PUBLIC DOMAIN NOTICE\\n*               National Center for Biotechnology Information\\n*\\n*  This software/database is a \"United States Government Work\" under the\\n*  terms of the United States Copyright Act.  It was written as part of\\n*  the author\\'s official duties as a United States Government employee and\\n*  thus cannot be copyrighted.  This software/database is freely available\\n*  to the public for use. The National Library of Medicine and the U.S.\\n*  Government have not placed any restriction on its use or reproduction.\\n*\\n*  Although all reasonable efforts have been taken to ensure the accuracy\\n*  and reliability of the software and data, the NLM and the U.S.\\n*  Government do not and cannot warrant the performance or results that\\n*  may be obtained by using this software or data. The NLM and the U.S.\\n*  Government disclaim all warranties, express or implied, including\\n*  warranties of performance, merchantability or fitness for any particular\\n*  purpose.\\n*\\n*  Please cite the author in any work or product based on this material.\\n*\\n*\\n===========================================================================\\n', link='https://github.com/openbiocorpora/genetag/blob/master/LICENSE', version=None, provenance=None)>)"
      ]
     },
     "execution_count": 6,
     "metadata": {},
     "output_type": "execute_result"
    }
   ],
   "source": [
    "conf = conhelps.for_config_name('pubtator_central_bigbio_kb')\n",
    "conf"
   ]
  },
  {
   "cell_type": "code",
   "execution_count": 8,
   "id": "ebd3e98c",
   "metadata": {
    "scrolled": false
   },
   "outputs": [
    {
     "name": "stderr",
     "output_type": "stream",
     "text": [
      "Using custom data configuration cadec_bigbio_kb-data_dir=cadec_bigbio_kb\n"
     ]
    },
    {
     "name": "stdout",
     "output_type": "stream",
     "text": [
      "Downloading and preparing dataset cadec_dataset/cadec_bigbio_kb to C:\\Users\\z0049uey\\.cache\\huggingface\\datasets\\cadec_dataset\\cadec_bigbio_kb-data_dir=cadec_bigbio_kb\\1.0.0\\aa0c4972a66d4e69245748c72bda714effb7d8c98aea405f186dd03cb488dbb0...\n"
     ]
    },
    {
     "data": {
      "application/vnd.jupyter.widget-view+json": {
       "model_id": "",
       "version_major": 2,
       "version_minor": 0
      },
      "text/plain": [
       "Generating train split: 0 examples [00:00, ? examples/s]"
      ]
     },
     "metadata": {},
     "output_type": "display_data"
    },
    {
     "name": "stdout",
     "output_type": "stream",
     "text": [
      "Dataset cadec_dataset downloaded and prepared to C:\\Users\\z0049uey\\.cache\\huggingface\\datasets\\cadec_dataset\\cadec_bigbio_kb-data_dir=cadec_bigbio_kb\\1.0.0\\aa0c4972a66d4e69245748c72bda714effb7d8c98aea405f186dd03cb488dbb0. Subsequent calls will reuse this data.\n"
     ]
    }
   ],
   "source": [
    "from datasets import load_dataset\n",
    "load_dataset_kwargs = conhelps.for_config_name('cadec_bigbio_kb').get_load_dataset_kwargs(data_dir=f\"{'cadec_bigbio_kb'}\")\n",
    "dsd = load_dataset(**load_dataset_kwargs, split='train')"
   ]
  },
  {
   "cell_type": "code",
   "execution_count": 9,
   "id": "29712e75",
   "metadata": {
    "scrolled": false
   },
   "outputs": [
    {
     "data": {
      "text/plain": [
       "{'id': '0',\n",
       " 'document_id': 'ARTHROTEC.1',\n",
       " 'passages': [{'id': 'ARTHROTEC.1__text',\n",
       "   'type': 'abstract',\n",
       "   'text': [\"I feel a bit drowsy & have a little blurred vision, so far no gastric problems.\\nI've been on Arthrotec 50 for over 10 years on and off, only taking it when I needed it.\\nDue to my arthritis getting progressively worse, to the point where I am in tears with the agony, gp's started me on 75 twice a day and I have to take it.\\nevery day for the next month to see how I get on, here goes.\\nSo far its been very good, pains almost gone, but I feel a bit weird, didn't have that when on 50.\\n\"],\n",
       "   'offsets': [[0, 484]]}],\n",
       " 'entities': [{'id': 'ARTHROTEC.1_T1',\n",
       "   'type': 'ADR',\n",
       "   'text': ['bit drowsy'],\n",
       "   'offsets': [[9, 19]],\n",
       "   'normalized': [{'db_name': 'Meddra', 'db_id': '10013649'},\n",
       "    {'db_name': 'Snomed CT', 'db_id': '271782001'}]},\n",
       "  {'id': 'ARTHROTEC.1_T2',\n",
       "   'type': 'ADR',\n",
       "   'text': ['little blurred vision'],\n",
       "   'offsets': [[29, 50]],\n",
       "   'normalized': [{'db_name': 'Meddra', 'db_id': '10005886'},\n",
       "    {'db_name': 'Snomed CT', 'db_id': '246636008'}]},\n",
       "  {'id': 'ARTHROTEC.1_T3',\n",
       "   'type': 'Drug',\n",
       "   'text': ['Arthrotec'],\n",
       "   'offsets': [[93, 102]],\n",
       "   'normalized': [{'db_name': 'Snomed CT', 'db_id': '3384011000036100'}]},\n",
       "  {'id': 'ARTHROTEC.1_T5',\n",
       "   'type': 'Disease',\n",
       "   'text': ['arthritis'],\n",
       "   'offsets': [[179, 188]],\n",
       "   'normalized': [{'db_name': 'Snomed CT', 'db_id': '3723001'}]},\n",
       "  {'id': 'ARTHROTEC.1_T6',\n",
       "   'type': 'Symptom',\n",
       "   'text': ['agony'],\n",
       "   'offsets': [[260, 265]],\n",
       "   'normalized': [{'db_name': 'Snomed CT', 'db_id': '102498003'},\n",
       "    {'db_name': 'Snomed CT', 'db_id': '76948002'}]},\n",
       "  {'id': 'ARTHROTEC.1_T4',\n",
       "   'type': 'ADR',\n",
       "   'text': ['gastric problems'],\n",
       "   'offsets': [[62, 78]],\n",
       "   'normalized': [{'db_name': 'Meddra', 'db_id': '10056819'},\n",
       "    {'db_name': 'Snomed CT', 'db_id': '162076009'}]},\n",
       "  {'id': 'ARTHROTEC.1_T7',\n",
       "   'type': 'Symptom',\n",
       "   'text': ['pains'],\n",
       "   'offsets': [[412, 417]],\n",
       "   'normalized': [{'db_name': 'Snomed CT', 'db_id': '22253000'}]},\n",
       "  {'id': 'ARTHROTEC.1_T8',\n",
       "   'type': 'ADR',\n",
       "   'text': ['feel a bit weird'],\n",
       "   'offsets': [[437, 453]],\n",
       "   'normalized': [{'db_name': 'Meddra', 'db_id': '10025482'},\n",
       "    {'db_name': 'Snomed CT', 'db_id': '367391008'}]}],\n",
       " 'events': [],\n",
       " 'coreferences': [],\n",
       " 'relations': []}"
      ]
     },
     "execution_count": 9,
     "metadata": {},
     "output_type": "execute_result"
    }
   ],
   "source": [
    "dsd[0]"
   ]
  },
  {
   "cell_type": "code",
   "execution_count": null,
   "id": "8d6d4a98",
   "metadata": {},
   "outputs": [],
   "source": []
  }
 ],
 "metadata": {
  "kernelspec": {
   "display_name": "Python 3 (ipykernel)",
   "language": "python",
   "name": "python3"
  },
  "language_info": {
   "codemirror_mode": {
    "name": "ipython",
    "version": 3
   },
   "file_extension": ".py",
   "mimetype": "text/x-python",
   "name": "python",
   "nbconvert_exporter": "python",
   "pygments_lexer": "ipython3",
   "version": "3.9.12"
  }
 },
 "nbformat": 4,
 "nbformat_minor": 5
}
