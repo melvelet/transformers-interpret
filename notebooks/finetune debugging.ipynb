{
 "cells": [
  {
   "cell_type": "code",
   "execution_count": 1,
   "id": "10e18669",
   "metadata": {
    "scrolled": false
   },
   "outputs": [
    {
     "name": "stdout",
     "output_type": "stream",
     "text": [
      "C:\\Users\\richa\\Documents\\GitHub\\transformers-interpret\n"
     ]
    }
   ],
   "source": [
    "import os\n",
    "import sys\n",
    "module_path = os.path.abspath(os.path.join('..'))\n",
    "if module_path not in sys.path:\n",
    "    sys.path.append(module_path)\n",
    "print(module_path)\n",
    "from bigbio.dataloader import BigBioConfigHelpers\n",
    "from transformers import AutoTokenizer, AutoModelForTokenClassification, TrainingArguments, Trainer, TokenClassificationPipeline\n",
    "from transformers_interpret.evaluation.input_pre_processor import InputPreProcessor, get_labels_from_dataset\n",
    "import math"
   ]
  },
  {
   "cell_type": "code",
   "execution_count": 2,
   "id": "ae169791",
   "metadata": {},
   "outputs": [],
   "source": [
    "def map_to_string(x):\n",
    "    return id2label[x]"
   ]
  },
  {
   "cell_type": "code",
   "execution_count": 13,
   "id": "7f5ad6ae",
   "metadata": {
    "scrolled": false
   },
   "outputs": [
    {
     "name": "stderr",
     "output_type": "stream",
     "text": [
      "Reusing dataset euadr (C:\\Users\\richa\\.cache\\huggingface\\datasets\\euadr\\euadr_bigbio_kb\\1.0.0\\cf05fbfbed982fab21e5d4eea1e3dd6888f5b2065c8a803ff8519c6df02b2b1a)\n"
     ]
    },
    {
     "data": {
      "application/vnd.jupyter.widget-view+json": {
       "model_id": "af1dbe21c7694375a3db59655f194a78",
       "version_major": 2,
       "version_minor": 0
      },
      "text/plain": [
       "  0%|          | 0/1 [00:00<?, ?it/s]"
      ]
     },
     "metadata": {},
     "output_type": "display_data"
    },
    {
     "name": "stdout",
     "output_type": "stream",
     "text": [
      "{'id': '0', 'document_id': '0', 'passages': [{'id': '1', 'type': 'title', 'text': ['A sequential procedure for monitoring clinical trials against historical controls.'], 'offsets': [[0, 82]]}, {'id': '2', 'type': 'abstract', 'text': ['In this paper, we develop a sequential procedure to monitor clinical trials against historical controls. When there is a strong ethical concern about randomizing patients to existing treatment because biological and medical evidence suggests that the new treatment is potentially superior to the existing one, or when the enrollment is too limited for randomization of subjects into experimental and control groups, one can monitor the trial sequentially against historical controls if the historical data with required quality and sample size are available to form a valid reference for the trial. This design of trial is sometimes the only alternative to a randomized phase III trial design that is intended but not feasible in situations such as above. Monitoring this type of clinical trial leads to a statistical problem of comparing two population means in a situation in which data from one population are sequentially collected and compared with all data from the other population at each interim look. The proposed sequential procedures is based on the sequential conditional probability ratio test (SCPRT) by which the conclusion of the sequential test would be virtually the same as that arrived at by a non-sequential test based on all data at the planned end of the trial. We develop the sequential procedure by proposing a Brownian motion that emulates the test statistic, and then proposing an SCPRT that is adapted to the special properties of the trial.CI - Copyright (c) 2006 John Wiley & Sons, Ltd.'], 'offsets': [[83, 1600]]}], 'entities': [], 'events': [], 'coreferences': [], 'relations': []}\n"
     ]
    }
   ],
   "source": [
    "conhelps = BigBioConfigHelpers()\n",
    "# dataset_name = 'bc5cdr_bigbio_kb'  # 2 classes, short to medium sentence length, Disease\n",
    "dataset_name = 'euadr_bigbio_kb'  # 5 classes, short to medium sentence length, Diseases & Disorders\n",
    "# dataset_name = 'cadec_bigbio_kb'  # 5 classes, shortest documents, forum posts, Disease\n",
    "# dataset_name = 'scai_disease_bigbio_kb'  # 2 classes, long documents, DISEASE\n",
    "# dataset_name = 'ncbi_disease_bigbio_kb'\n",
    "# dataset_name = 'verspoor_2013_bigbio_kb'\n",
    "dataset = conhelps.for_config_name(dataset_name).load_dataset()\n",
    "print(dataset['train'][0])"
   ]
  },
  {
   "cell_type": "code",
   "execution_count": 4,
   "id": "ec6359f9",
   "metadata": {},
   "outputs": [],
   "source": [
    "# huggingface_model = 'dbmdz/electra-large-discriminator-finetuned-conll03-english'\n",
    "# huggingface_model = 'dslim/bert-base-NER'\n",
    "huggingface_model = 'Jean-Baptiste/roberta-large-ner-english'\n",
    "\n",
    "tokenizer: AutoTokenizer = AutoTokenizer.from_pretrained(huggingface_model)\n",
    "additional_tokenizers = []"
   ]
  },
  {
   "cell_type": "code",
   "execution_count": 5,
   "id": "f0e5498e",
   "metadata": {},
   "outputs": [
    {
     "name": "stdout",
     "output_type": "stream",
     "text": [
      "{'O': 0, 'B-Chemicals & Drugs': 1, 'I-Chemicals & Drugs': 2, 'B-Diseases & Disorders': 3, 'I-Diseases & Disorders': 4, 'B-Genes & Molecular Sequences': 5, 'I-Genes & Molecular Sequences': 6, 'B-SNP & Sequence variations': 7, 'I-SNP & Sequence variations': 8}\n"
     ]
    }
   ],
   "source": [
    "label2id, id2label = get_labels_from_dataset(dataset)\n",
    "print(label2id)\n",
    "pre_processor = InputPreProcessor(tokenizer, additional_tokenizers, label2id)"
   ]
  },
  {
   "cell_type": "code",
   "execution_count": 6,
   "id": "bacad03f",
   "metadata": {},
   "outputs": [
    {
     "name": "stderr",
     "output_type": "stream",
     "text": [
      "Parameter 'function'=<function <lambda> at 0x0000029A84894B80> of the transform datasets.arrow_dataset.Dataset._map_single couldn't be hashed properly, a random hash was used instead. Make sure your transforms and parameters are serializable with pickle or dill for the dataset fingerprinting and caching to work. If you reuse this transform, the caching mechanism will consider it to be different from the previous calls and recompute everything. This warning is only showed once. Subsequent hashing failures won't be showed.\n"
     ]
    },
    {
     "data": {
      "application/vnd.jupyter.widget-view+json": {
       "model_id": "5784d3ff20694a3ea595b3f82fa11715",
       "version_major": 2,
       "version_minor": 0
      },
      "text/plain": [
       "  0%|          | 0/300 [00:00<?, ?ex/s]"
      ]
     },
     "metadata": {},
     "output_type": "display_data"
    }
   ],
   "source": [
    "tokenized_datasets = dataset.map(lambda a: pre_processor(a))"
   ]
  },
  {
   "cell_type": "code",
   "execution_count": 7,
   "id": "7991a956",
   "metadata": {},
   "outputs": [
    {
     "name": "stdout",
     "output_type": "stream",
     "text": [
      "{0: 'O', 1: 'B-Chemicals & Drugs', 2: 'I-Chemicals & Drugs', 3: 'B-Diseases & Disorders', 4: 'I-Diseases & Disorders', 5: 'B-Genes & Molecular Sequences', 6: 'I-Genes & Molecular Sequences', 7: 'B-SNP & Sequence variations', 8: 'I-SNP & Sequence variations'} {'O': 0, 'B-Chemicals & Drugs': 1, 'I-Chemicals & Drugs': 2, 'B-Diseases & Disorders': 3, 'I-Diseases & Disorders': 4, 'B-Genes & Molecular Sequences': 5, 'I-Genes & Molecular Sequences': 6, 'B-SNP & Sequence variations': 7, 'I-SNP & Sequence variations': 8}\n"
     ]
    }
   ],
   "source": [
    "from transformers import TokenClassificationPipeline\n",
    "finetuned_huggingface_model = './trained_models/roberta_euadr'\n",
    "# if huggingface_model == 'Jean-Baptiste/roberta-large-ner-english' and dataset_name == 'bc5cdr_bigbio_kb':\n",
    "#     finetuned_huggingface_model = './trained_models/Roberta_BC5'\n",
    "# else:\n",
    "#     finetuned_huggingface_model = './trained_models/Electra_SCAI'\n",
    "model: AutoModelForTokenClassification = AutoModelForTokenClassification.from_pretrained(finetuned_huggingface_model, local_files_only=True)\n",
    "model.config.id2label, model.config.label2id = id2label, label2id\n",
    "print(model.config.id2label, model.config.label2id)\n",
    "pipeline = TokenClassificationPipeline(model=model, tokenizer=tokenizer)"
   ]
  },
  {
   "cell_type": "code",
   "execution_count": 8,
   "id": "958951f8",
   "metadata": {
    "scrolled": true
   },
   "outputs": [
    {
     "name": "stdout",
     "output_type": "stream",
     "text": [
      "30\n"
     ]
    }
   ],
   "source": [
    "if 'test' in dataset:\n",
    "    test_dataset = tokenized_datasets[\"test\"]\n",
    "else:\n",
    "    dataset_length = len(dataset[\"train\"])\n",
    "    shuffled_dataset = tokenized_datasets[\"train\"].shuffle(seed=42)\n",
    "    test_dataset = shuffled_dataset.select(range(math.floor(dataset_length * 0.8), math.floor(dataset_length * 0.9)))\n",
    "print(len(test_dataset))"
   ]
  },
  {
   "cell_type": "code",
   "execution_count": 12,
   "id": "c3f9209a",
   "metadata": {
    "scrolled": false
   },
   "outputs": [
    {
     "name": "stdout",
     "output_type": "stream",
     "text": [
      "6677\n",
      "169  rash, B-Diseases & Disorders (Gold label: O)\n",
      "\n",
      "\n",
      "\n",
      "\n",
      "9451\n",
      "\n",
      "\n",
      "\n",
      "\n",
      "12213\n",
      "\n",
      "\n",
      "\n",
      "\n",
      "16894\n",
      "19  inhibitors, B-Chemicals & Drugs (Gold label: O)\n",
      "20  of, I-Chemicals & Drugs (Gold label: O)\n",
      "40  receptors, I-Genes & Molecular Sequences (Gold label: O)\n",
      "44  tumor, O (Gold label: B-Diseases & Disorders)\n",
      "57  EG, B-SNP & Sequence variations (Gold label: B-Genes & Molecular Sequences)\n",
      "58 FR, I-SNP & Sequence variations (Gold label: I-Genes & Molecular Sequences)\n",
      "59  gene, I-SNP & Sequence variations (Gold label: O)\n",
      "60  polymorph, I-SNP & Sequence variations (Gold label: O)\n",
      "61 ism, I-SNP & Sequence variations (Gold label: O)\n",
      "70  pancreat, O (Gold label: B-Diseases & Disorders)\n",
      "71 ic, O (Gold label: I-Diseases & Disorders)\n",
      "72  ad, O (Gold label: I-Diseases & Disorders)\n",
      "73 en, O (Gold label: I-Diseases & Disorders)\n",
      "74 oc, O (Gold label: I-Diseases & Disorders)\n",
      "75 arc, O (Gold label: I-Diseases & Disorders)\n",
      "76 in, O (Gold label: I-Diseases & Disorders)\n",
      "93  AA, O (Gold label: B-SNP & Sequence variations)\n",
      "94  genome, O (Gold label: I-SNP & Sequence variations)\n",
      "96  A, O (Gold label: B-SNP & Sequence variations)\n",
      "97  allele, O (Gold label: I-SNP & Sequence variations)\n",
      "98  polymorph, O (Gold label: I-SNP & Sequence variations)\n",
      "99 ism, O (Gold label: I-SNP & Sequence variations)\n",
      "108  G, B-SNP & Sequence variations (Gold label: B-Genes & Molecular Sequences)\n",
      "109 -, I-SNP & Sequence variations (Gold label: I-Genes & Molecular Sequences)\n",
      "110 A, I-SNP & Sequence variations (Gold label: I-Genes & Molecular Sequences)\n",
      "111  61, I-SNP & Sequence variations (Gold label: I-Genes & Molecular Sequences)\n",
      "125  AG, B-Chemicals & Drugs (Gold label: O)\n",
      "126 -, I-Chemicals & Drugs (Gold label: O)\n",
      "127 14, I-Chemicals & Drugs (Gold label: O)\n",
      "128 78, I-Chemicals & Drugs (Gold label: O)\n",
      "132  new, B-Chemicals & Drugs (Gold label: O)\n",
      "133 -, I-Chemicals & Drugs (Gold label: O)\n",
      "134 generation, I-Chemicals & Drugs (Gold label: O)\n",
      "135  inhibitor, I-Chemicals & Drugs (Gold label: O)\n",
      "136  of, I-Chemicals & Drugs (Gold label: O)\n",
      "137  EG, I-Chemicals & Drugs (Gold label: B-Genes & Molecular Sequences)\n",
      "138 FR, I-Chemicals & Drugs (Gold label: I-Genes & Molecular Sequences)\n",
      "159  5, B-Chemicals & Drugs (Gold label: O)\n",
      "160 FU, I-Chemicals & Drugs (Gold label: O)\n",
      "187  5, B-Chemicals & Drugs (Gold label: O)\n",
      "188 FU, I-Chemicals & Drugs (Gold label: O)\n",
      "\n",
      "\n",
      "\n",
      "\n",
      "6302\n",
      "\n",
      "\n",
      "\n",
      "\n",
      "4180\n",
      "11  protein, I-Genes & Molecular Sequences (Gold label: O)\n",
      "34  protein, I-Genes & Molecular Sequences (Gold label: O)\n",
      "47  ad, O (Gold label: B-Diseases & Disorders)\n",
      "48 en, O (Gold label: I-Diseases & Disorders)\n",
      "49 oc, O (Gold label: I-Diseases & Disorders)\n",
      "50 arc, O (Gold label: I-Diseases & Disorders)\n",
      "51 in, O (Gold label: I-Diseases & Disorders)\n",
      "52 oma, O (Gold label: I-Diseases & Disorders)\n",
      "113  protein, I-Genes & Molecular Sequences (Gold label: O)\n",
      "116  cor, O (Gold label: B-Diseases & Disorders)\n",
      "117 ne, O (Gold label: I-Diseases & Disorders)\n",
      "118 al, O (Gold label: I-Diseases & Disorders)\n",
      "119  dy, O (Gold label: I-Diseases & Disorders)\n",
      "120 stro, O (Gold label: I-Diseases & Disorders)\n",
      "121 phy, O (Gold label: I-Diseases & Disorders)\n",
      "170  protein, I-Genes & Molecular Sequences (Gold label: O)\n",
      "175  morph, O (Gold label: B-Diseases & Disorders)\n",
      "176 ogenesis, O (Gold label: I-Diseases & Disorders)\n",
      "178  ext, O (Gold label: B-Diseases & Disorders)\n",
      "179 race, O (Gold label: I-Diseases & Disorders)\n",
      "180 llular, O (Gold label: I-Diseases & Disorders)\n",
      "181  matrix, O (Gold label: I-Diseases & Disorders)\n",
      "182  interactions, O (Gold label: I-Diseases & Disorders)\n",
      "184  ad, O (Gold label: B-Diseases & Disorders)\n",
      "185 hesion, O (Gold label: I-Diseases & Disorders)\n",
      "190  cor, O (Gold label: B-Diseases & Disorders)\n",
      "191 ne, O (Gold label: I-Diseases & Disorders)\n",
      "192 al, O (Gold label: I-Diseases & Disorders)\n",
      "193  dy, O (Gold label: I-Diseases & Disorders)\n",
      "194 stro, O (Gold label: I-Diseases & Disorders)\n",
      "195 phy, O (Gold label: I-Diseases & Disorders)\n",
      "197  tumor, O (Gold label: B-Diseases & Disorders)\n",
      "198 igen, O (Gold label: I-Diseases & Disorders)\n",
      "199 esis, O (Gold label: I-Diseases & Disorders)\n",
      "201  ang, O (Gold label: B-Diseases & Disorders)\n",
      "202 i, O (Gold label: I-Diseases & Disorders)\n",
      "203 ogenesis, O (Gold label: I-Diseases & Disorders)\n",
      "205  ne, O (Gold label: B-Diseases & Disorders)\n",
      "206 ph, O (Gold label: I-Diseases & Disorders)\n",
      "207 rop, O (Gold label: I-Diseases & Disorders)\n",
      "208 ath, O (Gold label: I-Diseases & Disorders)\n",
      "209 ies, O (Gold label: I-Diseases & Disorders)\n",
      "211  oste, O (Gold label: B-Diseases & Disorders)\n",
      "212 ogenesis, O (Gold label: I-Diseases & Disorders)\n",
      "215  healing, O (Gold label: B-Diseases & Disorders)\n",
      "216  and, O (Gold label: I-Diseases & Disorders)\n",
      "217  inflammation, O (Gold label: I-Diseases & Disorders)\n",
      "\n",
      "\n",
      "\n",
      "\n",
      "13447\n",
      "5  An, B-Diseases & Disorders (Gold label: B-Genes & Molecular Sequences)\n",
      "6 ky, I-Diseases & Disorders (Gold label: I-Genes & Molecular Sequences)\n",
      "7 l, I-Diseases & Disorders (Gold label: I-Genes & Molecular Sequences)\n",
      "8 osing, I-Diseases & Disorders (Gold label: I-Genes & Molecular Sequences)\n",
      "9  Sp, I-Diseases & Disorders (Gold label: I-Genes & Molecular Sequences)\n",
      "10 ond, I-Diseases & Disorders (Gold label: I-Genes & Molecular Sequences)\n",
      "11 yl, I-Diseases & Disorders (Gold label: I-Genes & Molecular Sequences)\n",
      "12 itis, I-Diseases & Disorders (Gold label: I-Genes & Molecular Sequences)\n",
      "13  Disease, B-Diseases & Disorders (Gold label: O)\n",
      "25  disease, B-Diseases & Disorders (Gold label: O)\n",
      "30  an, B-Diseases & Disorders (Gold label: B-Genes & Molecular Sequences)\n",
      "31 ky, I-Diseases & Disorders (Gold label: I-Genes & Molecular Sequences)\n",
      "32 l, I-Diseases & Disorders (Gold label: I-Genes & Molecular Sequences)\n",
      "33 osing, I-Diseases & Disorders (Gold label: I-Genes & Molecular Sequences)\n",
      "34  sp, I-Diseases & Disorders (Gold label: I-Genes & Molecular Sequences)\n",
      "35 ond, I-Diseases & Disorders (Gold label: I-Genes & Molecular Sequences)\n",
      "36 yl, I-Diseases & Disorders (Gold label: I-Genes & Molecular Sequences)\n",
      "37 itis, I-Diseases & Disorders (Gold label: I-Genes & Molecular Sequences)\n",
      "51  An, O (Gold label: B-Genes & Molecular Sequences)\n",
      "52 ky, I-Diseases & Disorders (Gold label: I-Genes & Molecular Sequences)\n",
      "53 l, I-Diseases & Disorders (Gold label: I-Genes & Molecular Sequences)\n",
      "54 osing, I-Diseases & Disorders (Gold label: I-Genes & Molecular Sequences)\n",
      "55  Sp, I-Diseases & Disorders (Gold label: I-Genes & Molecular Sequences)\n",
      "56 ond, I-Diseases & Disorders (Gold label: I-Genes & Molecular Sequences)\n",
      "57 yl, I-Diseases & Disorders (Gold label: I-Genes & Molecular Sequences)\n",
      "58 itis, I-Diseases & Disorders (Gold label: I-Genes & Molecular Sequences)\n",
      "59  Disease, B-Diseases & Disorders (Gold label: O)\n",
      "77  peripheral, B-Diseases & Disorders (Gold label: O)\n",
      "78  arthritis, I-Diseases & Disorders (Gold label: O)\n",
      "84  ent, B-Diseases & Disorders (Gold label: O)\n",
      "85 hes, I-Diseases & Disorders (Gold label: O)\n",
      "86 itis, I-Diseases & Disorders (Gold label: O)\n",
      "106  disease, B-Diseases & Disorders (Gold label: O)\n",
      "111  an, B-Diseases & Disorders (Gold label: B-Genes & Molecular Sequences)\n",
      "112 ky, I-Diseases & Disorders (Gold label: I-Genes & Molecular Sequences)\n",
      "113 l, I-Diseases & Disorders (Gold label: I-Genes & Molecular Sequences)\n",
      "114 osing, I-Diseases & Disorders (Gold label: I-Genes & Molecular Sequences)\n",
      "115  sp, I-Diseases & Disorders (Gold label: I-Genes & Molecular Sequences)\n",
      "116 ond, I-Diseases & Disorders (Gold label: I-Genes & Molecular Sequences)\n",
      "117 yl, I-Diseases & Disorders (Gold label: I-Genes & Molecular Sequences)\n",
      "118 itis, I-Diseases & Disorders (Gold label: I-Genes & Molecular Sequences)\n",
      "120 AS, B-Diseases & Disorders (Gold label: O)\n",
      "124  manifestations, I-Diseases & Disorders (Gold label: O)\n",
      "168  disease, B-Diseases & Disorders (Gold label: O)\n",
      "181  AS, B-Diseases & Disorders (Gold label: O)\n",
      "186  AS, B-Diseases & Disorders (Gold label: O)\n",
      "204  tum, B-Genes & Molecular Sequences (Gold label: B-Chemicals & Drugs)\n",
      "205 our, I-Genes & Molecular Sequences (Gold label: I-Chemicals & Drugs)\n",
      "206  nec, I-Genes & Molecular Sequences (Gold label: I-Chemicals & Drugs)\n",
      "207 rosis, I-Genes & Molecular Sequences (Gold label: I-Chemicals & Drugs)\n",
      "231  AS, B-Diseases & Disorders (Gold label: O)\n",
      "245  disease, B-Diseases & Disorders (Gold label: O)\n",
      "277  manifestations, I-Diseases & Disorders (Gold label: O)\n",
      "296  disease, B-Diseases & Disorders (Gold label: O)\n",
      "337  AS, B-Diseases & Disorders (Gold label: O)\n",
      "343  disease, B-Diseases & Disorders (Gold label: O)\n",
      "348  disease, B-Diseases & Disorders (Gold label: O)\n",
      "383  disease, B-Diseases & Disorders (Gold label: O)\n",
      "400  AS, B-Diseases & Disorders (Gold label: O)\n",
      "\n",
      "\n",
      "\n",
      "\n"
     ]
    },
    {
     "name": "stdout",
     "output_type": "stream",
     "text": [
      "541\n",
      "448  sub, B-Chemicals & Drugs (Gold label: O)\n",
      "449 type, I-Chemicals & Drugs (Gold label: O)\n",
      "450 -, I-Chemicals & Drugs (Gold label: O)\n",
      "451 select, I-Chemicals & Drugs (Gold label: O)\n",
      "452 ive, I-Chemicals & Drugs (Gold label: O)\n",
      "453  PP, I-Chemicals & Drugs (Gold label: B-Chemicals & Drugs)\n",
      "\n",
      "\n",
      "\n",
      "\n",
      "6281\n",
      "80  SAR, B-Chemicals & Drugs (Gold label: B-Genes & Molecular Sequences)\n",
      "\n",
      "\n",
      "\n",
      "\n",
      "2820\n",
      "\n",
      "\n",
      "\n",
      "\n",
      "8313\n",
      "\n",
      "\n",
      "\n",
      "\n",
      "3655\n",
      "\n",
      "\n",
      "\n",
      "\n",
      "12146\n",
      "\n",
      "\n",
      "\n",
      "\n",
      "9846\n",
      "\n",
      "\n",
      "\n",
      "\n",
      "13209\n",
      "10  contrast, B-Chemicals & Drugs (Gold label: I-Chemicals & Drugs)\n",
      "125 aren, I-Chemicals & Drugs (Gold label: O)\n",
      "126 ter, I-Chemicals & Drugs (Gold label: O)\n",
      "127 al, I-Chemicals & Drugs (Gold label: O)\n",
      "\n",
      "\n",
      "\n",
      "\n",
      "4\n",
      "\n",
      "\n",
      "\n",
      "\n",
      "2413\n",
      "7  aging, B-Diseases & Disorders (Gold label: O)\n",
      "23  neuro, O (Gold label: B-Diseases & Disorders)\n",
      "26 ative, O (Gold label: I-Diseases & Disorders)\n",
      "27  diseases, B-Diseases & Disorders (Gold label: I-Diseases & Disorders)\n",
      "49  mitochondrial, O (Gold label: B-SNP & Sequence variations)\n",
      "50  DNA, O (Gold label: I-SNP & Sequence variations)\n",
      "98  deficient, I-Genes & Molecular Sequences (Gold label: O)\n",
      "111  premature, O (Gold label: B-Diseases & Disorders)\n",
      "112  aging, O (Gold label: I-Diseases & Disorders)\n",
      "\n",
      "\n",
      "\n",
      "\n",
      "6477\n",
      "17 -, I-Chemicals & Drugs (Gold label: O)\n",
      "18 2, I-Chemicals & Drugs (Gold label: O)\n",
      "19  selective, I-Chemicals & Drugs (Gold label: O)\n",
      "20  inhibitors, I-Chemicals & Drugs (Gold label: O)\n",
      "62  [, O (Gold label: B-Chemicals & Drugs)\n",
      "63 NS, B-Chemicals & Drugs (Gold label: I-Chemicals & Drugs)\n",
      "70 oxy, O (Gold label: I-Chemicals & Drugs)\n",
      "72 ase, O (Gold label: I-Chemicals & Drugs)\n",
      "73  [, O (Gold label: B-Chemicals & Drugs)\n",
      "74 CO, B-Chemicals & Drugs (Gold label: I-Chemicals & Drugs)\n",
      "167  CV, B-Diseases & Disorders (Gold label: O)\n",
      "178  CV, B-Diseases & Disorders (Gold label: O)\n",
      "240  CV, B-Diseases & Disorders (Gold label: O)\n",
      "255  CV, B-Diseases & Disorders (Gold label: O)\n",
      "274  CV, B-Diseases & Disorders (Gold label: O)\n",
      "288  CV, B-Diseases & Disorders (Gold label: O)\n",
      "329  CV, B-Diseases & Disorders (Gold label: O)\n",
      "375  CV, B-Diseases & Disorders (Gold label: O)\n",
      "416  CV, B-Diseases & Disorders (Gold label: O)\n",
      "\n",
      "\n",
      "\n",
      "\n",
      "808\n",
      "\n",
      "\n",
      "\n",
      "\n",
      "8929\n",
      "\n",
      "\n",
      "\n",
      "\n"
     ]
    }
   ],
   "source": [
    "for doc_i, doc in enumerate(test_dataset):\n",
    "    if doc_i < 0:\n",
    "        continue\n",
    "    \n",
    "    if doc_i >= 20:\n",
    "        break\n",
    "    preds = pipeline(doc['text'])\n",
    "#     print(preds)\n",
    "#     break\n",
    "    pred_labels = [0 for _ in range(len(doc['labels']))]\n",
    "    for i in preds:\n",
    "        pred_labels[i['index']] = label2id[i['entity']]\n",
    "    gold_labels = doc['labels']\n",
    "#     print(pred_labels, gold_labels)\n",
    "    print(doc['document_id'])\n",
    "    for tok_i, labels in enumerate(zip(pred_labels, gold_labels, tokenizer.batch_decode(doc['input_ids']))):\n",
    "        pred_label = labels[0]\n",
    "        gold_label = labels[1]\n",
    "        token_string = labels[2]\n",
    "        if token_string in ['<pad>', '[PAD]']:\n",
    "            break\n",
    "        if gold_label != pred_label:\n",
    "            print(f\"{tok_i} {token_string}, {id2label[pred_label]} {'(Gold label: {})'.format(id2label[gold_label]) if pred_label != gold_label else ''}\")\n",
    "#         if pred_label != gold_label:\n",
    "#             print(token_string, id2label[pred_label], 'instead of', id2label[gold_label])\n",
    "#     print('len(doc[\\'entities\\'])', len(doc['entities']))\n",
    "#     for e in doc['entities']:\n",
    "#         if not e['type'] == '':\n",
    "#             print(e)\n",
    "    print('\\n\\n\\n')"
   ]
  },
  {
   "cell_type": "code",
   "execution_count": null,
   "id": "39cb8098",
   "metadata": {},
   "outputs": [],
   "source": []
  }
 ],
 "metadata": {
  "kernelspec": {
   "display_name": "Python 3 (ipykernel)",
   "language": "python",
   "name": "python3"
  },
  "language_info": {
   "codemirror_mode": {
    "name": "ipython",
    "version": 3
   },
   "file_extension": ".py",
   "mimetype": "text/x-python",
   "name": "python",
   "nbconvert_exporter": "python",
   "pygments_lexer": "ipython3",
   "version": "3.9.12"
  }
 },
 "nbformat": 4,
 "nbformat_minor": 5
}
