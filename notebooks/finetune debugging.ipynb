{
 "cells": [
  {
   "cell_type": "code",
   "execution_count": 1,
   "id": "10e18669",
   "metadata": {
    "scrolled": false
   },
   "outputs": [
    {
     "name": "stdout",
     "output_type": "stream",
     "text": [
      "C:\\Users\\richa\\Documents\\GitHub\\transformers-interpret\n"
     ]
    }
   ],
   "source": [
    "import os\n",
    "import sys\n",
    "module_path = os.path.abspath(os.path.join('..'))\n",
    "if module_path not in sys.path:\n",
    "    sys.path.append(module_path)\n",
    "print(module_path)\n",
    "from bigbio.dataloader import BigBioConfigHelpers\n",
    "from transformers import AutoTokenizer, AutoModelForTokenClassification, TrainingArguments, Trainer, TokenClassificationPipeline\n",
    "from transformers_interpret.evaluation.input_pre_processor import InputPreProcessor, get_labels_from_dataset\n",
    "import math"
   ]
  },
  {
   "cell_type": "code",
   "execution_count": 2,
   "id": "ae169791",
   "metadata": {},
   "outputs": [],
   "source": [
    "def map_to_string(x):\n",
    "    return id2label[x]"
   ]
  },
  {
   "cell_type": "code",
   "execution_count": 3,
   "id": "7f5ad6ae",
   "metadata": {
    "scrolled": false
   },
   "outputs": [
    {
     "name": "stderr",
     "output_type": "stream",
     "text": [
      "Reusing dataset euadr (C:\\Users\\richa\\.cache\\huggingface\\datasets\\euadr\\euadr_bigbio_kb\\1.0.0\\cf05fbfbed982fab21e5d4eea1e3dd6888f5b2065c8a803ff8519c6df02b2b1a)\n"
     ]
    },
    {
     "data": {
      "application/vnd.jupyter.widget-view+json": {
       "model_id": "6731d8c50df34534a93826845b028c2f",
       "version_major": 2,
       "version_minor": 0
      },
      "text/plain": [
       "  0%|          | 0/1 [00:00<?, ?it/s]"
      ]
     },
     "metadata": {},
     "output_type": "display_data"
    },
    {
     "name": "stdout",
     "output_type": "stream",
     "text": [
      "{'id': '0', 'document_id': '0', 'passages': [{'id': '1', 'type': 'title', 'text': ['A sequential procedure for monitoring clinical trials against historical controls.'], 'offsets': [[0, 82]]}, {'id': '2', 'type': 'abstract', 'text': ['In this paper, we develop a sequential procedure to monitor clinical trials against historical controls. When there is a strong ethical concern about randomizing patients to existing treatment because biological and medical evidence suggests that the new treatment is potentially superior to the existing one, or when the enrollment is too limited for randomization of subjects into experimental and control groups, one can monitor the trial sequentially against historical controls if the historical data with required quality and sample size are available to form a valid reference for the trial. This design of trial is sometimes the only alternative to a randomized phase III trial design that is intended but not feasible in situations such as above. Monitoring this type of clinical trial leads to a statistical problem of comparing two population means in a situation in which data from one population are sequentially collected and compared with all data from the other population at each interim look. The proposed sequential procedures is based on the sequential conditional probability ratio test (SCPRT) by which the conclusion of the sequential test would be virtually the same as that arrived at by a non-sequential test based on all data at the planned end of the trial. We develop the sequential procedure by proposing a Brownian motion that emulates the test statistic, and then proposing an SCPRT that is adapted to the special properties of the trial.CI - Copyright (c) 2006 John Wiley & Sons, Ltd.'], 'offsets': [[83, 1600]]}], 'entities': [], 'events': [], 'coreferences': [], 'relations': []}\n"
     ]
    }
   ],
   "source": [
    "conhelps = BigBioConfigHelpers()\n",
    "# dataset_name = 'bc5cdr_bigbio_kb'  # 2 classes, short to medium sentence length, Disease\n",
    "dataset_name = 'euadr_bigbio_kb'  # 5 classes, short to medium sentence length, Diseases & Disorders\n",
    "# dataset_name = 'cadec_bigbio_kb'  # 5 classes, shortest documents, forum posts, Disease\n",
    "# dataset_name = 'scai_disease_bigbio_kb'  # 2 classes, long documents, DISEASE\n",
    "# dataset_name = 'ncbi_disease_bigbio_kb'\n",
    "# dataset_name = 'verspoor_2013_bigbio_kb'\n",
    "dataset = conhelps.for_config_name(dataset_name).load_dataset()\n",
    "print(dataset['train'][0])"
   ]
  },
  {
   "cell_type": "code",
   "execution_count": 4,
   "id": "ec6359f9",
   "metadata": {},
   "outputs": [],
   "source": [
    "# huggingface_model = 'dbmdz/electra-large-discriminator-finetuned-conll03-english'\n",
    "# huggingface_model = 'dslim/bert-base-NER'\n",
    "huggingface_model = 'Jean-Baptiste/roberta-large-ner-english'\n",
    "\n",
    "tokenizer: AutoTokenizer = AutoTokenizer.from_pretrained(huggingface_model)\n",
    "additional_tokenizers = []"
   ]
  },
  {
   "cell_type": "code",
   "execution_count": 5,
   "id": "f0e5498e",
   "metadata": {},
   "outputs": [
    {
     "name": "stdout",
     "output_type": "stream",
     "text": [
      "{'O': 0, 'B-Chemicals & Drugs': 1, 'I-Chemicals & Drugs': 2, 'B-Diseases & Disorders': 3, 'I-Diseases & Disorders': 4, 'B-Genes & Molecular Sequences': 5, 'I-Genes & Molecular Sequences': 6, 'B-SNP & Sequence variations': 7, 'I-SNP & Sequence variations': 8}\n"
     ]
    }
   ],
   "source": [
    "label2id, id2label = get_labels_from_dataset(dataset)\n",
    "print(label2id)\n",
    "pre_processor = InputPreProcessor(tokenizer, additional_tokenizers, label2id)"
   ]
  },
  {
   "cell_type": "code",
   "execution_count": 6,
   "id": "bacad03f",
   "metadata": {},
   "outputs": [
    {
     "name": "stderr",
     "output_type": "stream",
     "text": [
      "Parameter 'function'=<function <lambda> at 0x000001A78CC045E0> of the transform datasets.arrow_dataset.Dataset._map_single couldn't be hashed properly, a random hash was used instead. Make sure your transforms and parameters are serializable with pickle or dill for the dataset fingerprinting and caching to work. If you reuse this transform, the caching mechanism will consider it to be different from the previous calls and recompute everything. This warning is only showed once. Subsequent hashing failures won't be showed.\n"
     ]
    },
    {
     "data": {
      "application/vnd.jupyter.widget-view+json": {
       "model_id": "5c5272bfbeda40d78029fb54eed10d5c",
       "version_major": 2,
       "version_minor": 0
      },
      "text/plain": [
       "  0%|          | 0/300 [00:00<?, ?ex/s]"
      ]
     },
     "metadata": {},
     "output_type": "display_data"
    }
   ],
   "source": [
    "tokenized_datasets = dataset.map(lambda a: pre_processor(a))"
   ]
  },
  {
   "cell_type": "code",
   "execution_count": 7,
   "id": "7991a956",
   "metadata": {},
   "outputs": [
    {
     "name": "stdout",
     "output_type": "stream",
     "text": [
      "{0: 'O', 1: 'B-Chemicals & Drugs', 2: 'I-Chemicals & Drugs', 3: 'B-Diseases & Disorders', 4: 'I-Diseases & Disorders', 5: 'B-Genes & Molecular Sequences', 6: 'I-Genes & Molecular Sequences', 7: 'B-SNP & Sequence variations', 8: 'I-SNP & Sequence variations'} {'O': 0, 'B-Chemicals & Drugs': 1, 'I-Chemicals & Drugs': 2, 'B-Diseases & Disorders': 3, 'I-Diseases & Disorders': 4, 'B-Genes & Molecular Sequences': 5, 'I-Genes & Molecular Sequences': 6, 'B-SNP & Sequence variations': 7, 'I-SNP & Sequence variations': 8}\n"
     ]
    }
   ],
   "source": [
    "from transformers import TokenClassificationPipeline\n",
    "finetuned_huggingface_model = './trained_models/roberta_euadr'\n",
    "# if huggingface_model == 'Jean-Baptiste/roberta-large-ner-english' and dataset_name == 'bc5cdr_bigbio_kb':\n",
    "#     finetuned_huggingface_model = './trained_models/Roberta_BC5'\n",
    "# else:\n",
    "#     finetuned_huggingface_model = './trained_models/Electra_SCAI'\n",
    "model: AutoModelForTokenClassification = AutoModelForTokenClassification.from_pretrained(finetuned_huggingface_model, local_files_only=True)\n",
    "model.config.id2label, model.config.label2id = id2label, label2id\n",
    "print(model.config.id2label, model.config.label2id)\n",
    "pipeline = TokenClassificationPipeline(model=model, tokenizer=tokenizer)"
   ]
  },
  {
   "cell_type": "code",
   "execution_count": 8,
   "id": "958951f8",
   "metadata": {
    "scrolled": false
   },
   "outputs": [
    {
     "name": "stdout",
     "output_type": "stream",
     "text": [
      "30\n",
      "{'id': '6677', 'document_id': '6677', 'passages': [{'id': '6678', 'type': 'title', 'text': [\"Infection by Panton-Valentine leukocidin-producing Staphylococcus aureus clinically mimicking Lemierre's syndrome.\"], 'offsets': [[0, 114]]}, {'id': '6679', 'type': 'abstract', 'text': [\"Lemierre's syndrome is an oropharyngeal infection which leads to severe septic thrombophlebitis of the internal jugular vein and metastatic abscesses of the lungs and other organs. It is usually caused by Fusobacterium necrophorum, a Gram-negative obligate anaerobe. An unusual case of Panton-Valentine leukocidin (PVL)-producing Staphylococcus aureus infection masquerading as Lemierre's syndrome is reported here. A 32-year-old fit and otherwise healthy male presented on Christmas morning with a boil on his left cheek for 2 days and generalized rash for 3 h. His general condition began to worsen, he developed facial swelling and loss of vision in the left eye and was transferred to the intensive care unit. His treatment was taken over by team of specialists and further investigations revealed thrombophlebitis of the left internal jugular vein and cavernous sinus thrombosis with multiple brain infarcts and lung abscesses. His condition remained critical with multiple cranial nerve involvement despite being on broad-spectrum antibiotics. Blood cultures grew S. aureus which was producing PVL toxin. He improved gradually over several weeks. He underwent intensive physiotherapy and made a good recovery. Although a rare entity, it is important to consider Lemierre's syndrome in septic patients who present with rapidly worsening symptoms.\"], 'offsets': [[115, 1466]]}], 'entities': [{'id': '6680', 'type': 'Diseases & Disorders', 'text': ['Infection by Panton-Valentine leukocidin-producing Staphylococcus aureus'], 'offsets': [[0, 72]], 'normalized': []}, {'id': '6681', 'type': 'Diseases & Disorders', 'text': [\"Lemierre's syndrome\"], 'offsets': [[94, 113]], 'normalized': []}, {'id': '6682', 'type': 'Diseases & Disorders', 'text': [\"Lemierre's syndrome\"], 'offsets': [[115, 134]], 'normalized': []}, {'id': '6683', 'type': 'Diseases & Disorders', 'text': ['oropharyngeal infection'], 'offsets': [[141, 164]], 'normalized': []}, {'id': '6684', 'type': 'Diseases & Disorders', 'text': ['septic thrombophlebitis'], 'offsets': [[187, 210]], 'normalized': []}, {'id': '6685', 'type': 'Diseases & Disorders', 'text': ['metastatic abscesses of the lungs'], 'offsets': [[244, 277]], 'normalized': []}, {'id': '6686', 'type': 'Diseases & Disorders', 'text': ['PVL)-producing Staphylococcus aureus infection'], 'offsets': [[430, 476]], 'normalized': []}, {'id': '6687', 'type': 'Diseases & Disorders', 'text': [\"Lemierre's syndrome\"], 'offsets': [[493, 512]], 'normalized': []}, {'id': '6688', 'type': 'Diseases & Disorders', 'text': ['fit'], 'offsets': [[545, 548]], 'normalized': []}, {'id': '6689', 'type': 'Diseases & Disorders', 'text': ['boil'], 'offsets': [[614, 618]], 'normalized': []}, {'id': '6690', 'type': 'Diseases & Disorders', 'text': ['facial swelling'], 'offsets': [[730, 745]], 'normalized': []}, {'id': '6691', 'type': 'Diseases & Disorders', 'text': ['loss of vision in the left eye'], 'offsets': [[750, 780]], 'normalized': []}, {'id': '6692', 'type': 'Diseases & Disorders', 'text': ['thrombophlebitis'], 'offsets': [[917, 933]], 'normalized': []}, {'id': '6693', 'type': 'Diseases & Disorders', 'text': ['cavernous sinus thrombosis'], 'offsets': [[972, 998]], 'normalized': []}, {'id': '6694', 'type': 'Diseases & Disorders', 'text': ['brain infarcts'], 'offsets': [[1013, 1027]], 'normalized': []}, {'id': '6695', 'type': 'Diseases & Disorders', 'text': ['lung abscesses'], 'offsets': [[1032, 1046]], 'normalized': []}, {'id': '6696', 'type': 'Chemicals & Drugs', 'text': ['antibiotics'], 'offsets': [[1152, 1163]], 'normalized': []}, {'id': '6697', 'type': 'Diseases & Disorders', 'text': [\"Lemierre's syndrome\"], 'offsets': [[1383, 1402]], 'normalized': []}, {'id': '6698', 'type': 'Diseases & Disorders', 'text': ['septic'], 'offsets': [[1406, 1412]], 'normalized': []}, {'id': '6699', 'type': 'Diseases & Disorders', 'text': ['symptoms'], 'offsets': [[1457, 1465]], 'normalized': []}], 'events': [], 'coreferences': [], 'relations': [], 'text': \"Infection by Panton-Valentine leukocidin-producing Staphylococcus aureus clinically mimicking Lemierre's syndrome. Lemierre's syndrome is an oropharyngeal infection which leads to severe septic thrombophlebitis of the internal jugular vein and metastatic abscesses of the lungs and other organs. It is usually caused by Fusobacterium necrophorum, a Gram-negative obligate anaerobe. An unusual case of Panton-Valentine leukocidin (PVL)-producing Staphylococcus aureus infection masquerading as Lemierre's syndrome is reported here. A 32-year-old fit and otherwise healthy male presented on Christmas morning with a boil on his left cheek for 2 days and generalized rash for 3 h. His general condition began to worsen, he developed facial swelling and loss of vision in the left eye and was transferred to the intensive care unit. His treatment was taken over by team of specialists and further investigations revealed thrombophlebitis of the left internal jugular vein and cavernous sinus thrombosis with multiple brain infarcts and lung abscesses. His condition remained critical with multiple cranial nerve involvement despite being on broad-spectrum antibiotics. Blood cultures grew S. aureus which was producing PVL toxin. He improved gradually over several weeks. He underwent intensive physiotherapy and made a good recovery. Although a rare entity, it is important to consider Lemierre's syndrome in septic patients who present with rapidly worsening symptoms.\", 'labels': [0, 3, 4, 4, 4, 4, 4, 4, 4, 4, 4, 4, 4, 4, 4, 4, 4, 4, 4, 4, 4, 4, 4, 4, 4, 0, 0, 0, 3, 4, 4, 4, 0, 3, 4, 4, 4, 0, 0, 3, 4, 4, 4, 4, 4, 0, 0, 0, 0, 3, 4, 4, 4, 4, 4, 4, 4, 4, 0, 0, 0, 0, 0, 0, 0, 3, 4, 4, 4, 4, 4, 4, 4, 0, 0, 0, 0, 0, 0, 0, 0, 0, 0, 0, 0, 0, 0, 0, 0, 0, 0, 0, 0, 0, 0, 0, 0, 0, 0, 0, 0, 0, 0, 0, 0, 0, 0, 0, 0, 0, 0, 0, 0, 0, 0, 0, 0, 3, 4, 4, 4, 4, 4, 4, 4, 4, 4, 4, 4, 4, 0, 0, 0, 0, 3, 4, 4, 4, 0, 0, 0, 0, 0, 0, 0, 0, 0, 0, 3, 0, 0, 0, 0, 0, 0, 0, 0, 0, 0, 3, 0, 0, 0, 0, 0, 0, 0, 0, 0, 0, 0, 0, 0, 0, 0, 0, 0, 0, 0, 0, 0, 0, 0, 3, 4, 0, 3, 4, 4, 4, 4, 4, 4, 0, 0, 0, 0, 0, 0, 0, 0, 0, 0, 0, 0, 0, 0, 0, 0, 0, 0, 0, 0, 0, 0, 3, 4, 4, 4, 4, 4, 4, 0, 0, 0, 0, 0, 0, 0, 0, 3, 4, 4, 4, 4, 4, 4, 4, 0, 0, 3, 4, 4, 4, 4, 0, 3, 4, 4, 4, 0, 0, 0, 0, 0, 0, 0, 0, 0, 0, 0, 0, 0, 0, 0, 0, 0, 0, 1, 0, 0, 0, 0, 0, 0, 0, 0, 0, 0, 0, 0, 0, 0, 0, 0, 0, 0, 0, 0, 0, 0, 0, 0, 0, 0, 0, 0, 0, 0, 0, 0, 0, 0, 0, 0, 0, 0, 0, 0, 0, 0, 0, 0, 3, 4, 4, 4, 0, 3, 4, 0, 0, 0, 0, 0, 0, 3, 0, 0, 0, 0, 0, 0, 0, 0, 0, 0, 0, 0, 0, 0, 0, 0, 0, 0, 0, 0, 0, 0, 0, 0, 0, 0, 0, 0, 0, 0, 0, 0, 0, 0, 0, 0, 0, 0, 0, 0, 0, 0, 0, 0, 0, 0, 0, 0, 0, 0, 0, 0, 0, 0, 0, 0, 0, 0, 0, 0, 0, 0, 0, 0, 0, 0, 0, 0, 0, 0, 0, 0, 0, 0, 0, 0, 0, 0, 0, 0, 0, 0, 0, 0, 0, 0, 0, 0, 0, 0, 0, 0, 0, 0, 0, 0, 0, 0, 0, 0, 0, 0, 0, 0, 0, 0, 0, 0, 0, 0, 0, 0, 0, 0, 0, 0, 0, 0, 0, 0, 0, 0, 0, 0, 0, 0, 0, 0, 0, 0, 0, 0, 0, 0, 0, 0, 0, 0, 0, 0, 0, 0, 0, 0, 0, 0, 0, 0, 0, 0, 0, 0, 0, 0, 0, 0, 0, 0, 0, 0, 0, 0, 0, 0, 0, 0, 0, 0, 0, 0, 0, 0, 0, 0, 0, 0, 0, 0, 0, 0, 0, 0, 0, 0, 0], 'input_ids': [0, 32996, 1499, 30, 16240, 261, 12, 20320, 1342, 833, 2084, 1350, 1975, 808, 179, 12, 23876, 312, 8258, 4360, 36240, 26797, 10, 2407, 687, 34948, 23684, 10176, 13956, 41307, 18, 14115, 4, 13956, 41307, 18, 14115, 16, 41, 1021, 21130, 31604, 1899, 337, 7910, 61, 3315, 7, 3814, 842, 24617, 3553, 5638, 428, 6673, 459, 5881, 354, 9, 5, 3425, 26144, 8244, 22090, 8, 33076, 5183, 15428, 19348, 293, 9, 5, 19147, 8, 97, 16976, 4, 85, 16, 2333, 1726, 30, 274, 687, 2413, 35995, 4031, 42179, 21130, 32375, 6, 10, 14171, 12, 33407, 23762, 877, 41, 27075, 14004, 4, 660, 5425, 403, 9, 16240, 261, 12, 20320, 1342, 833, 2084, 1350, 1975, 808, 179, 36, 510, 38813, 19281, 23876, 312, 8258, 4360, 36240, 26797, 10, 2407, 687, 7910, 11705, 18756, 8423, 25, 13956, 41307, 18, 14115, 16, 431, 259, 4, 83, 2107, 12, 180, 12, 279, 2564, 8, 3680, 2245, 2943, 2633, 15, 1619, 662, 19, 10, 18533, 15, 39, 314, 15401, 13, 132, 360, 8, 44030, 21563, 13, 155, 1368, 4, 832, 937, 1881, 880, 7, 25698, 6, 37, 2226, 11560, 22566, 8, 872, 9, 3360, 11, 5, 314, 2295, 8, 21, 7225, 7, 5, 12296, 575, 1933, 4, 832, 1416, 21, 551, 81, 30, 165, 9, 13923, 8, 617, 4941, 1487, 3553, 5638, 428, 6673, 459, 5881, 354, 9, 5, 314, 3425, 26144, 8244, 22090, 8, 37472, 1827, 10272, 687, 3553, 5638, 428, 13310, 19, 1533, 2900, 4047, 271, 3894, 29, 8, 10665, 15428, 19348, 293, 4, 832, 1881, 2442, 2008, 19, 1533, 32900, 2617, 10387, 5292, 1135, 145, 15, 4007, 12, 25594, 10904, 16674, 4, 11391, 13426, 2307, 208, 4, 10, 2407, 687, 61, 21, 5591, 23774, 574, 38977, 4, 91, 2782, 9097, 81, 484, 688, 4, 91, 12796, 12296, 35050, 18189, 8, 156, 10, 205, 2752, 4, 2223, 10, 3159, 10014, 6, 24, 16, 505, 7, 1701, 13956, 41307, 18, 14115, 11, 842, 24617, 1484, 54, 1455, 19, 6042, 21319, 5298, 4, 2, 1, 1, 1, 1, 1, 1, 1, 1, 1, 1, 1, 1, 1, 1, 1, 1, 1, 1, 1, 1, 1, 1, 1, 1, 1, 1, 1, 1, 1, 1, 1, 1, 1, 1, 1, 1, 1, 1, 1, 1, 1, 1, 1, 1, 1, 1, 1, 1, 1, 1, 1, 1, 1, 1, 1, 1, 1, 1, 1, 1, 1, 1, 1, 1, 1, 1, 1, 1, 1, 1, 1, 1, 1, 1, 1, 1, 1, 1, 1, 1, 1, 1, 1, 1, 1, 1, 1, 1, 1, 1, 1, 1, 1, 1, 1, 1, 1, 1, 1, 1, 1, 1, 1, 1, 1, 1, 1, 1, 1, 1, 1, 1, 1, 1, 1, 1, 1, 1, 1, 1, 1, 1, 1, 1, 1, 1, 1, 1, 1, 1, 1, 1, 1, 1, 1, 1, 1, 1, 1, 1, 1, 1, 1, 1, 1, 1, 1, 1, 1, 1, 1, 1, 1, 1, 1, 1, 1, 1, 1, 1, 1, 1, 1, 1, 1, 1, 1, 1, 1, 1, 1, 1, 1, 1, 1, 1, 1, 1, 1, 1, 1, 1, 1], 'attention_mask': [1, 1, 1, 1, 1, 1, 1, 1, 1, 1, 1, 1, 1, 1, 1, 1, 1, 1, 1, 1, 1, 1, 1, 1, 1, 1, 1, 1, 1, 1, 1, 1, 1, 1, 1, 1, 1, 1, 1, 1, 1, 1, 1, 1, 1, 1, 1, 1, 1, 1, 1, 1, 1, 1, 1, 1, 1, 1, 1, 1, 1, 1, 1, 1, 1, 1, 1, 1, 1, 1, 1, 1, 1, 1, 1, 1, 1, 1, 1, 1, 1, 1, 1, 1, 1, 1, 1, 1, 1, 1, 1, 1, 1, 1, 1, 1, 1, 1, 1, 1, 1, 1, 1, 1, 1, 1, 1, 1, 1, 1, 1, 1, 1, 1, 1, 1, 1, 1, 1, 1, 1, 1, 1, 1, 1, 1, 1, 1, 1, 1, 1, 1, 1, 1, 1, 1, 1, 1, 1, 1, 1, 1, 1, 1, 1, 1, 1, 1, 1, 1, 1, 1, 1, 1, 1, 1, 1, 1, 1, 1, 1, 1, 1, 1, 1, 1, 1, 1, 1, 1, 1, 1, 1, 1, 1, 1, 1, 1, 1, 1, 1, 1, 1, 1, 1, 1, 1, 1, 1, 1, 1, 1, 1, 1, 1, 1, 1, 1, 1, 1, 1, 1, 1, 1, 1, 1, 1, 1, 1, 1, 1, 1, 1, 1, 1, 1, 1, 1, 1, 1, 1, 1, 1, 1, 1, 1, 1, 1, 1, 1, 1, 1, 1, 1, 1, 1, 1, 1, 1, 1, 1, 1, 1, 1, 1, 1, 1, 1, 1, 1, 1, 1, 1, 1, 1, 1, 1, 1, 1, 1, 1, 1, 1, 1, 1, 1, 1, 1, 1, 1, 1, 1, 1, 1, 1, 1, 1, 1, 1, 1, 1, 1, 1, 1, 1, 1, 1, 1, 1, 1, 1, 1, 1, 1, 1, 1, 1, 1, 1, 1, 1, 1, 1, 1, 1, 1, 1, 1, 1, 1, 1, 1, 1, 1, 1, 1, 1, 1, 1, 1, 1, 1, 1, 1, 1, 1, 1, 1, 1, 0, 0, 0, 0, 0, 0, 0, 0, 0, 0, 0, 0, 0, 0, 0, 0, 0, 0, 0, 0, 0, 0, 0, 0, 0, 0, 0, 0, 0, 0, 0, 0, 0, 0, 0, 0, 0, 0, 0, 0, 0, 0, 0, 0, 0, 0, 0, 0, 0, 0, 0, 0, 0, 0, 0, 0, 0, 0, 0, 0, 0, 0, 0, 0, 0, 0, 0, 0, 0, 0, 0, 0, 0, 0, 0, 0, 0, 0, 0, 0, 0, 0, 0, 0, 0, 0, 0, 0, 0, 0, 0, 0, 0, 0, 0, 0, 0, 0, 0, 0, 0, 0, 0, 0, 0, 0, 0, 0, 0, 0, 0, 0, 0, 0, 0, 0, 0, 0, 0, 0, 0, 0, 0, 0, 0, 0, 0, 0, 0, 0, 0, 0, 0, 0, 0, 0, 0, 0, 0, 0, 0, 0, 0, 0, 0, 0, 0, 0, 0, 0, 0, 0, 0, 0, 0, 0, 0, 0, 0, 0, 0, 0, 0, 0, 0, 0, 0, 0, 0, 0, 0, 0, 0, 0, 0, 0, 0, 0, 0, 0, 0, 0, 0], 'offset_mapping': [[0, 0], [0, 6], [6, 9], [10, 12], [13, 17], [17, 19], [19, 20], [20, 23], [23, 26], [26, 29], [30, 32], [32, 34], [34, 36], [36, 38], [38, 40], [40, 41], [41, 50], [51, 53], [53, 56], [56, 58], [58, 62], [62, 65], [66, 67], [67, 70], [70, 72], [73, 83], [84, 87], [87, 93], [94, 97], [97, 102], [102, 104], [105, 113], [113, 114], [115, 118], [118, 123], [123, 125], [126, 134], [135, 137], [138, 140], [141, 142], [142, 146], [146, 150], [150, 152], [152, 154], [155, 164], [165, 170], [171, 176], [177, 179], [180, 186], [187, 189], [189, 193], [194, 196], [196, 199], [199, 200], [200, 203], [203, 205], [205, 208], [208, 210], [211, 213], [214, 217], [218, 226], [227, 230], [230, 234], [235, 239], [240, 243], [244, 250], [250, 254], [255, 258], [258, 262], [262, 264], [265, 267], [268, 271], [272, 277], [278, 281], [282, 287], [288, 294], [294, 295], [296, 298], [299, 301], [302, 309], [310, 316], [317, 319], [320, 321], [321, 323], [323, 325], [325, 330], [330, 333], [334, 337], [337, 341], [341, 345], [345, 346], [347, 348], [349, 353], [353, 354], [354, 362], [363, 368], [368, 371], [372, 374], [374, 377], [377, 380], [380, 381], [382, 384], [385, 392], [393, 397], [398, 400], [401, 405], [405, 407], [407, 408], [408, 411], [411, 414], [414, 417], [418, 420], [420, 422], [422, 424], [424, 426], [426, 428], [429, 430], [430, 431], [431, 433], [433, 435], [435, 444], [445, 447], [447, 450], [450, 452], [452, 456], [456, 459], [460, 461], [461, 464], [464, 466], [467, 476], [477, 480], [480, 484], [484, 489], [490, 492], [493, 496], [496, 501], [501, 503], [504, 512], [513, 515], [516, 524], [525, 529], [529, 530], [531, 532], [533, 535], [535, 536], [536, 540], [540, 541], [541, 544], [545, 548], [549, 552], [553, 562], [563, 570], [571, 575], [576, 585], [586, 588], [589, 598], [599, 606], [607, 611], [612, 613], [614, 618], [619, 621], [622, 625], [626, 630], [631, 636], [637, 640], [641, 642], [643, 647], [648, 651], [652, 663], [664, 668], [669, 672], [673, 674], [675, 676], [676, 677], [678, 681], [682, 689], [690, 699], [700, 705], [706, 708], [709, 715], [715, 716], [717, 719], [720, 729], [730, 736], [737, 745], [746, 749], [750, 754], [755, 757], [758, 764], [765, 767], [768, 771], [772, 776], [777, 780], [781, 784], [785, 788], [789, 800], [801, 803], [804, 807], [808, 817], [818, 822], [823, 827], [827, 828], [829, 832], [833, 842], [843, 846], [847, 852], [853, 857], [858, 860], [861, 865], [866, 868], [869, 880], [881, 884], [885, 892], [893, 907], [908, 916], [917, 919], [919, 922], [922, 923], [923, 926], [926, 928], [928, 931], [931, 933], [934, 936], [937, 940], [941, 945], [946, 954], [955, 958], [958, 962], [963, 967], [968, 971], [972, 978], [978, 981], [982, 985], [985, 987], [988, 990], [990, 993], [993, 994], [994, 998], [999, 1003], [1004, 1012], [1013, 1018], [1019, 1022], [1022, 1024], [1024, 1026], [1026, 1027], [1028, 1031], [1032, 1036], [1037, 1040], [1040, 1044], [1044, 1046], [1046, 1047], [1048, 1051], [1052, 1061], [1062, 1070], [1071, 1079], [1080, 1084], [1085, 1093], [1094, 1098], [1098, 1101], [1102, 1107], [1108, 1119], [1120, 1127], [1128, 1133], [1134, 1136], [1137, 1142], [1142, 1143], [1143, 1148], [1148, 1151], [1152, 1163], [1163, 1164], [1165, 1170], [1171, 1179], [1180, 1184], [1185, 1186], [1186, 1187], [1188, 1189], [1189, 1192], [1192, 1194], [1195, 1200], [1201, 1204], [1205, 1214], [1215, 1217], [1217, 1218], [1219, 1224], [1224, 1225], [1226, 1228], [1229, 1237], [1238, 1247], [1248, 1252], [1253, 1260], [1261, 1266], [1266, 1267], [1268, 1270], [1271, 1280], [1281, 1290], [1291, 1296], [1296, 1304], [1305, 1308], [1309, 1313], [1314, 1315], [1316, 1320], [1321, 1329], [1329, 1330], [1331, 1339], [1340, 1341], [1342, 1346], [1347, 1353], [1353, 1354], [1355, 1357], [1358, 1360], [1361, 1370], [1371, 1373], [1374, 1382], [1383, 1386], [1386, 1391], [1391, 1393], [1394, 1402], [1403, 1405], [1406, 1408], [1408, 1412], [1413, 1421], [1422, 1425], [1426, 1433], [1434, 1438], [1439, 1446], [1447, 1456], [1457, 1465], [1465, 1466], [0, 0], [0, 0], [0, 0], [0, 0], [0, 0], [0, 0], [0, 0], [0, 0], [0, 0], [0, 0], [0, 0], [0, 0], [0, 0], [0, 0], [0, 0], [0, 0], [0, 0], [0, 0], [0, 0], [0, 0], [0, 0], [0, 0], [0, 0], [0, 0], [0, 0], [0, 0], [0, 0], [0, 0], [0, 0], [0, 0], [0, 0], [0, 0], [0, 0], [0, 0], [0, 0], [0, 0], [0, 0], [0, 0], [0, 0], [0, 0], [0, 0], [0, 0], [0, 0], [0, 0], [0, 0], [0, 0], [0, 0], [0, 0], [0, 0], [0, 0], [0, 0], [0, 0], [0, 0], [0, 0], [0, 0], [0, 0], [0, 0], [0, 0], [0, 0], [0, 0], [0, 0], [0, 0], [0, 0], [0, 0], [0, 0], [0, 0], [0, 0], [0, 0], [0, 0], [0, 0], [0, 0], [0, 0], [0, 0], [0, 0], [0, 0], [0, 0], [0, 0], [0, 0], [0, 0], [0, 0], [0, 0], [0, 0], [0, 0], [0, 0], [0, 0], [0, 0], [0, 0], [0, 0], [0, 0], [0, 0], [0, 0], [0, 0], [0, 0], [0, 0], [0, 0], [0, 0], [0, 0], [0, 0], [0, 0], [0, 0], [0, 0], [0, 0], [0, 0], [0, 0], [0, 0], [0, 0], [0, 0], [0, 0], [0, 0], [0, 0], [0, 0], [0, 0], [0, 0], [0, 0], [0, 0], [0, 0], [0, 0], [0, 0], [0, 0], [0, 0], [0, 0], [0, 0], [0, 0], [0, 0], [0, 0], [0, 0], [0, 0], [0, 0], [0, 0], [0, 0], [0, 0], [0, 0], [0, 0], [0, 0], [0, 0], [0, 0], [0, 0], [0, 0], [0, 0], [0, 0], [0, 0], [0, 0], [0, 0], [0, 0], [0, 0], [0, 0], [0, 0], [0, 0], [0, 0], [0, 0], [0, 0], [0, 0], [0, 0], [0, 0], [0, 0], [0, 0], [0, 0], [0, 0], [0, 0], [0, 0], [0, 0], [0, 0], [0, 0], [0, 0], [0, 0], [0, 0], [0, 0], [0, 0], [0, 0], [0, 0], [0, 0], [0, 0], [0, 0], [0, 0], [0, 0], [0, 0], [0, 0], [0, 0], [0, 0], [0, 0], [0, 0], [0, 0], [0, 0], [0, 0]]}\n"
     ]
    }
   ],
   "source": [
    "if 'test' in dataset:\n",
    "    test_dataset = tokenized_datasets[\"test\"]\n",
    "else:\n",
    "    dataset_length = len(dataset[\"train\"])\n",
    "    shuffled_dataset = tokenized_datasets[\"train\"].shuffle(seed=42)\n",
    "    test_dataset = shuffled_dataset.select(range(math.floor(dataset_length * 0.8), math.floor(dataset_length * 0.9)))\n",
    "print(len(test_dataset))\n",
    "print(test_dataset[0])"
   ]
  },
  {
   "cell_type": "code",
   "execution_count": 12,
   "id": "c3f9209a",
   "metadata": {
    "scrolled": false
   },
   "outputs": [
    {
     "name": "stdout",
     "output_type": "stream",
     "text": [
      "6677\n",
      "169  rash, B-Diseases & Disorders (Gold label: O)\n",
      "\n",
      "\n",
      "\n",
      "\n",
      "9451\n",
      "\n",
      "\n",
      "\n",
      "\n",
      "12213\n",
      "\n",
      "\n",
      "\n",
      "\n",
      "16894\n",
      "19  inhibitors, B-Chemicals & Drugs (Gold label: O)\n",
      "20  of, I-Chemicals & Drugs (Gold label: O)\n",
      "40  receptors, I-Genes & Molecular Sequences (Gold label: O)\n",
      "44  tumor, O (Gold label: B-Diseases & Disorders)\n",
      "57  EG, B-SNP & Sequence variations (Gold label: B-Genes & Molecular Sequences)\n",
      "58 FR, I-SNP & Sequence variations (Gold label: I-Genes & Molecular Sequences)\n",
      "59  gene, I-SNP & Sequence variations (Gold label: O)\n",
      "60  polymorph, I-SNP & Sequence variations (Gold label: O)\n",
      "61 ism, I-SNP & Sequence variations (Gold label: O)\n",
      "70  pancreat, O (Gold label: B-Diseases & Disorders)\n",
      "71 ic, O (Gold label: I-Diseases & Disorders)\n",
      "72  ad, O (Gold label: I-Diseases & Disorders)\n",
      "73 en, O (Gold label: I-Diseases & Disorders)\n",
      "74 oc, O (Gold label: I-Diseases & Disorders)\n",
      "75 arc, O (Gold label: I-Diseases & Disorders)\n",
      "76 in, O (Gold label: I-Diseases & Disorders)\n",
      "93  AA, O (Gold label: B-SNP & Sequence variations)\n",
      "94  genome, O (Gold label: I-SNP & Sequence variations)\n",
      "96  A, O (Gold label: B-SNP & Sequence variations)\n",
      "97  allele, O (Gold label: I-SNP & Sequence variations)\n",
      "98  polymorph, O (Gold label: I-SNP & Sequence variations)\n",
      "99 ism, O (Gold label: I-SNP & Sequence variations)\n",
      "108  G, B-SNP & Sequence variations (Gold label: B-Genes & Molecular Sequences)\n",
      "109 -, I-SNP & Sequence variations (Gold label: I-Genes & Molecular Sequences)\n",
      "110 A, I-SNP & Sequence variations (Gold label: I-Genes & Molecular Sequences)\n",
      "111  61, I-SNP & Sequence variations (Gold label: I-Genes & Molecular Sequences)\n",
      "125  AG, B-Chemicals & Drugs (Gold label: O)\n",
      "126 -, I-Chemicals & Drugs (Gold label: O)\n",
      "127 14, I-Chemicals & Drugs (Gold label: O)\n",
      "128 78, I-Chemicals & Drugs (Gold label: O)\n",
      "132  new, B-Chemicals & Drugs (Gold label: O)\n",
      "133 -, I-Chemicals & Drugs (Gold label: O)\n",
      "134 generation, I-Chemicals & Drugs (Gold label: O)\n",
      "135  inhibitor, I-Chemicals & Drugs (Gold label: O)\n",
      "136  of, I-Chemicals & Drugs (Gold label: O)\n",
      "137  EG, I-Chemicals & Drugs (Gold label: B-Genes & Molecular Sequences)\n",
      "138 FR, I-Chemicals & Drugs (Gold label: I-Genes & Molecular Sequences)\n",
      "159  5, B-Chemicals & Drugs (Gold label: O)\n",
      "160 FU, I-Chemicals & Drugs (Gold label: O)\n",
      "187  5, B-Chemicals & Drugs (Gold label: O)\n",
      "188 FU, I-Chemicals & Drugs (Gold label: O)\n",
      "\n",
      "\n",
      "\n",
      "\n",
      "6302\n",
      "\n",
      "\n",
      "\n",
      "\n",
      "4180\n",
      "11  protein, I-Genes & Molecular Sequences (Gold label: O)\n",
      "34  protein, I-Genes & Molecular Sequences (Gold label: O)\n",
      "47  ad, O (Gold label: B-Diseases & Disorders)\n",
      "48 en, O (Gold label: I-Diseases & Disorders)\n",
      "49 oc, O (Gold label: I-Diseases & Disorders)\n",
      "50 arc, O (Gold label: I-Diseases & Disorders)\n",
      "51 in, O (Gold label: I-Diseases & Disorders)\n",
      "52 oma, O (Gold label: I-Diseases & Disorders)\n",
      "113  protein, I-Genes & Molecular Sequences (Gold label: O)\n",
      "116  cor, O (Gold label: B-Diseases & Disorders)\n",
      "117 ne, O (Gold label: I-Diseases & Disorders)\n",
      "118 al, O (Gold label: I-Diseases & Disorders)\n",
      "119  dy, O (Gold label: I-Diseases & Disorders)\n",
      "120 stro, O (Gold label: I-Diseases & Disorders)\n",
      "121 phy, O (Gold label: I-Diseases & Disorders)\n",
      "170  protein, I-Genes & Molecular Sequences (Gold label: O)\n",
      "175  morph, O (Gold label: B-Diseases & Disorders)\n",
      "176 ogenesis, O (Gold label: I-Diseases & Disorders)\n",
      "178  ext, O (Gold label: B-Diseases & Disorders)\n",
      "179 race, O (Gold label: I-Diseases & Disorders)\n",
      "180 llular, O (Gold label: I-Diseases & Disorders)\n",
      "181  matrix, O (Gold label: I-Diseases & Disorders)\n",
      "182  interactions, O (Gold label: I-Diseases & Disorders)\n",
      "184  ad, O (Gold label: B-Diseases & Disorders)\n",
      "185 hesion, O (Gold label: I-Diseases & Disorders)\n",
      "190  cor, O (Gold label: B-Diseases & Disorders)\n",
      "191 ne, O (Gold label: I-Diseases & Disorders)\n",
      "192 al, O (Gold label: I-Diseases & Disorders)\n",
      "193  dy, O (Gold label: I-Diseases & Disorders)\n",
      "194 stro, O (Gold label: I-Diseases & Disorders)\n",
      "195 phy, O (Gold label: I-Diseases & Disorders)\n",
      "197  tumor, O (Gold label: B-Diseases & Disorders)\n",
      "198 igen, O (Gold label: I-Diseases & Disorders)\n",
      "199 esis, O (Gold label: I-Diseases & Disorders)\n",
      "201  ang, O (Gold label: B-Diseases & Disorders)\n",
      "202 i, O (Gold label: I-Diseases & Disorders)\n",
      "203 ogenesis, O (Gold label: I-Diseases & Disorders)\n",
      "205  ne, O (Gold label: B-Diseases & Disorders)\n",
      "206 ph, O (Gold label: I-Diseases & Disorders)\n",
      "207 rop, O (Gold label: I-Diseases & Disorders)\n",
      "208 ath, O (Gold label: I-Diseases & Disorders)\n",
      "209 ies, O (Gold label: I-Diseases & Disorders)\n",
      "211  oste, O (Gold label: B-Diseases & Disorders)\n",
      "212 ogenesis, O (Gold label: I-Diseases & Disorders)\n",
      "215  healing, O (Gold label: B-Diseases & Disorders)\n",
      "216  and, O (Gold label: I-Diseases & Disorders)\n",
      "217  inflammation, O (Gold label: I-Diseases & Disorders)\n",
      "\n",
      "\n",
      "\n",
      "\n",
      "13447\n",
      "5  An, B-Diseases & Disorders (Gold label: B-Genes & Molecular Sequences)\n",
      "6 ky, I-Diseases & Disorders (Gold label: I-Genes & Molecular Sequences)\n",
      "7 l, I-Diseases & Disorders (Gold label: I-Genes & Molecular Sequences)\n",
      "8 osing, I-Diseases & Disorders (Gold label: I-Genes & Molecular Sequences)\n",
      "9  Sp, I-Diseases & Disorders (Gold label: I-Genes & Molecular Sequences)\n",
      "10 ond, I-Diseases & Disorders (Gold label: I-Genes & Molecular Sequences)\n",
      "11 yl, I-Diseases & Disorders (Gold label: I-Genes & Molecular Sequences)\n",
      "12 itis, I-Diseases & Disorders (Gold label: I-Genes & Molecular Sequences)\n",
      "13  Disease, B-Diseases & Disorders (Gold label: O)\n",
      "25  disease, B-Diseases & Disorders (Gold label: O)\n",
      "30  an, B-Diseases & Disorders (Gold label: B-Genes & Molecular Sequences)\n",
      "31 ky, I-Diseases & Disorders (Gold label: I-Genes & Molecular Sequences)\n",
      "32 l, I-Diseases & Disorders (Gold label: I-Genes & Molecular Sequences)\n",
      "33 osing, I-Diseases & Disorders (Gold label: I-Genes & Molecular Sequences)\n",
      "34  sp, I-Diseases & Disorders (Gold label: I-Genes & Molecular Sequences)\n",
      "35 ond, I-Diseases & Disorders (Gold label: I-Genes & Molecular Sequences)\n",
      "36 yl, I-Diseases & Disorders (Gold label: I-Genes & Molecular Sequences)\n",
      "37 itis, I-Diseases & Disorders (Gold label: I-Genes & Molecular Sequences)\n",
      "51  An, O (Gold label: B-Genes & Molecular Sequences)\n",
      "52 ky, I-Diseases & Disorders (Gold label: I-Genes & Molecular Sequences)\n",
      "53 l, I-Diseases & Disorders (Gold label: I-Genes & Molecular Sequences)\n",
      "54 osing, I-Diseases & Disorders (Gold label: I-Genes & Molecular Sequences)\n",
      "55  Sp, I-Diseases & Disorders (Gold label: I-Genes & Molecular Sequences)\n",
      "56 ond, I-Diseases & Disorders (Gold label: I-Genes & Molecular Sequences)\n",
      "57 yl, I-Diseases & Disorders (Gold label: I-Genes & Molecular Sequences)\n",
      "58 itis, I-Diseases & Disorders (Gold label: I-Genes & Molecular Sequences)\n",
      "59  Disease, B-Diseases & Disorders (Gold label: O)\n",
      "77  peripheral, B-Diseases & Disorders (Gold label: O)\n",
      "78  arthritis, I-Diseases & Disorders (Gold label: O)\n",
      "84  ent, B-Diseases & Disorders (Gold label: O)\n",
      "85 hes, I-Diseases & Disorders (Gold label: O)\n",
      "86 itis, I-Diseases & Disorders (Gold label: O)\n",
      "106  disease, B-Diseases & Disorders (Gold label: O)\n",
      "111  an, B-Diseases & Disorders (Gold label: B-Genes & Molecular Sequences)\n",
      "112 ky, I-Diseases & Disorders (Gold label: I-Genes & Molecular Sequences)\n",
      "113 l, I-Diseases & Disorders (Gold label: I-Genes & Molecular Sequences)\n",
      "114 osing, I-Diseases & Disorders (Gold label: I-Genes & Molecular Sequences)\n",
      "115  sp, I-Diseases & Disorders (Gold label: I-Genes & Molecular Sequences)\n",
      "116 ond, I-Diseases & Disorders (Gold label: I-Genes & Molecular Sequences)\n",
      "117 yl, I-Diseases & Disorders (Gold label: I-Genes & Molecular Sequences)\n",
      "118 itis, I-Diseases & Disorders (Gold label: I-Genes & Molecular Sequences)\n",
      "120 AS, B-Diseases & Disorders (Gold label: O)\n",
      "124  manifestations, I-Diseases & Disorders (Gold label: O)\n",
      "168  disease, B-Diseases & Disorders (Gold label: O)\n",
      "181  AS, B-Diseases & Disorders (Gold label: O)\n",
      "186  AS, B-Diseases & Disorders (Gold label: O)\n",
      "204  tum, B-Genes & Molecular Sequences (Gold label: B-Chemicals & Drugs)\n",
      "205 our, I-Genes & Molecular Sequences (Gold label: I-Chemicals & Drugs)\n",
      "206  nec, I-Genes & Molecular Sequences (Gold label: I-Chemicals & Drugs)\n",
      "207 rosis, I-Genes & Molecular Sequences (Gold label: I-Chemicals & Drugs)\n",
      "231  AS, B-Diseases & Disorders (Gold label: O)\n",
      "245  disease, B-Diseases & Disorders (Gold label: O)\n",
      "277  manifestations, I-Diseases & Disorders (Gold label: O)\n",
      "296  disease, B-Diseases & Disorders (Gold label: O)\n",
      "337  AS, B-Diseases & Disorders (Gold label: O)\n",
      "343  disease, B-Diseases & Disorders (Gold label: O)\n",
      "348  disease, B-Diseases & Disorders (Gold label: O)\n",
      "383  disease, B-Diseases & Disorders (Gold label: O)\n",
      "400  AS, B-Diseases & Disorders (Gold label: O)\n",
      "\n",
      "\n",
      "\n",
      "\n"
     ]
    },
    {
     "name": "stdout",
     "output_type": "stream",
     "text": [
      "541\n",
      "448  sub, B-Chemicals & Drugs (Gold label: O)\n",
      "449 type, I-Chemicals & Drugs (Gold label: O)\n",
      "450 -, I-Chemicals & Drugs (Gold label: O)\n",
      "451 select, I-Chemicals & Drugs (Gold label: O)\n",
      "452 ive, I-Chemicals & Drugs (Gold label: O)\n",
      "453  PP, I-Chemicals & Drugs (Gold label: B-Chemicals & Drugs)\n",
      "\n",
      "\n",
      "\n",
      "\n",
      "6281\n",
      "80  SAR, B-Chemicals & Drugs (Gold label: B-Genes & Molecular Sequences)\n",
      "\n",
      "\n",
      "\n",
      "\n",
      "2820\n",
      "\n",
      "\n",
      "\n",
      "\n",
      "8313\n",
      "\n",
      "\n",
      "\n",
      "\n",
      "3655\n",
      "\n",
      "\n",
      "\n",
      "\n",
      "12146\n",
      "\n",
      "\n",
      "\n",
      "\n",
      "9846\n",
      "\n",
      "\n",
      "\n",
      "\n",
      "13209\n",
      "10  contrast, B-Chemicals & Drugs (Gold label: I-Chemicals & Drugs)\n",
      "125 aren, I-Chemicals & Drugs (Gold label: O)\n",
      "126 ter, I-Chemicals & Drugs (Gold label: O)\n",
      "127 al, I-Chemicals & Drugs (Gold label: O)\n",
      "\n",
      "\n",
      "\n",
      "\n",
      "4\n",
      "\n",
      "\n",
      "\n",
      "\n",
      "2413\n",
      "7  aging, B-Diseases & Disorders (Gold label: O)\n",
      "23  neuro, O (Gold label: B-Diseases & Disorders)\n",
      "26 ative, O (Gold label: I-Diseases & Disorders)\n",
      "27  diseases, B-Diseases & Disorders (Gold label: I-Diseases & Disorders)\n",
      "49  mitochondrial, O (Gold label: B-SNP & Sequence variations)\n",
      "50  DNA, O (Gold label: I-SNP & Sequence variations)\n",
      "98  deficient, I-Genes & Molecular Sequences (Gold label: O)\n",
      "111  premature, O (Gold label: B-Diseases & Disorders)\n",
      "112  aging, O (Gold label: I-Diseases & Disorders)\n",
      "\n",
      "\n",
      "\n",
      "\n",
      "6477\n",
      "17 -, I-Chemicals & Drugs (Gold label: O)\n",
      "18 2, I-Chemicals & Drugs (Gold label: O)\n",
      "19  selective, I-Chemicals & Drugs (Gold label: O)\n",
      "20  inhibitors, I-Chemicals & Drugs (Gold label: O)\n",
      "62  [, O (Gold label: B-Chemicals & Drugs)\n",
      "63 NS, B-Chemicals & Drugs (Gold label: I-Chemicals & Drugs)\n",
      "70 oxy, O (Gold label: I-Chemicals & Drugs)\n",
      "72 ase, O (Gold label: I-Chemicals & Drugs)\n",
      "73  [, O (Gold label: B-Chemicals & Drugs)\n",
      "74 CO, B-Chemicals & Drugs (Gold label: I-Chemicals & Drugs)\n",
      "167  CV, B-Diseases & Disorders (Gold label: O)\n",
      "178  CV, B-Diseases & Disorders (Gold label: O)\n",
      "240  CV, B-Diseases & Disorders (Gold label: O)\n",
      "255  CV, B-Diseases & Disorders (Gold label: O)\n",
      "274  CV, B-Diseases & Disorders (Gold label: O)\n",
      "288  CV, B-Diseases & Disorders (Gold label: O)\n",
      "329  CV, B-Diseases & Disorders (Gold label: O)\n",
      "375  CV, B-Diseases & Disorders (Gold label: O)\n",
      "416  CV, B-Diseases & Disorders (Gold label: O)\n",
      "\n",
      "\n",
      "\n",
      "\n",
      "808\n",
      "\n",
      "\n",
      "\n",
      "\n",
      "8929\n",
      "\n",
      "\n",
      "\n",
      "\n"
     ]
    }
   ],
   "source": [
    "for doc_i, doc in enumerate(test_dataset):\n",
    "    if doc_i < 0:\n",
    "        continue\n",
    "    \n",
    "    if doc_i >= 20:\n",
    "        break\n",
    "    preds = pipeline(doc['text'])\n",
    "#     print(preds)\n",
    "#     break\n",
    "    pred_labels = [0 for _ in range(len(doc['labels']))]\n",
    "    for i in preds:\n",
    "        pred_labels[i['index']] = label2id[i['entity']]\n",
    "    gold_labels = doc['labels']\n",
    "#     print(pred_labels, gold_labels)\n",
    "    print(doc['document_id'])\n",
    "    for tok_i, labels in enumerate(zip(pred_labels, gold_labels, tokenizer.batch_decode(doc['input_ids']))):\n",
    "        pred_label = labels[0]\n",
    "        gold_label = labels[1]\n",
    "        token_string = labels[2]\n",
    "        if token_string in ['<pad>', '[PAD]']:\n",
    "            break\n",
    "        if gold_label != pred_label:\n",
    "            print(f\"{tok_i} {token_string}, {id2label[pred_label]} {'(Gold label: {})'.format(id2label[gold_label]) if pred_label != gold_label else ''}\")\n",
    "#         if pred_label != gold_label:\n",
    "#             print(token_string, id2label[pred_label], 'instead of', id2label[gold_label])\n",
    "#     print('len(doc[\\'entities\\'])', len(doc['entities']))\n",
    "#     for e in doc['entities']:\n",
    "#         if not e['type'] == '':\n",
    "#             print(e)\n",
    "    print('\\n\\n\\n')"
   ]
  },
  {
   "cell_type": "code",
   "execution_count": null,
   "id": "39cb8098",
   "metadata": {},
   "outputs": [],
   "source": []
  }
 ],
 "metadata": {
  "kernelspec": {
   "display_name": "Python 3 (ipykernel)",
   "language": "python",
   "name": "python3"
  },
  "language_info": {
   "codemirror_mode": {
    "name": "ipython",
    "version": 3
   },
   "file_extension": ".py",
   "mimetype": "text/x-python",
   "name": "python",
   "nbconvert_exporter": "python",
   "pygments_lexer": "ipython3",
   "version": "3.9.12"
  }
 },
 "nbformat": 4,
 "nbformat_minor": 5
}
