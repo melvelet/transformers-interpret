{
 "cells": [
  {
   "cell_type": "code",
   "execution_count": 2,
   "id": "0f3d0aeb",
   "metadata": {},
   "outputs": [
    {
     "name": "stdout",
     "output_type": "stream",
     "text": [
      "C:\\Users\\richa\\Documents\\GitHub\\transformers-interpret\n"
     ]
    }
   ],
   "source": [
    "import os\n",
    "import sys\n",
    "module_path = os.path.abspath(os.path.join('..'))\n",
    "if module_path not in sys.path:\n",
    "    sys.path.append(module_path)\n",
    "print(module_path)\n",
    "from bigbio.dataloader import BigBioConfigHelpers\n",
    "from transformers import AutoTokenizer, AutoModelForTokenClassification, TrainingArguments, Trainer\n",
    "from transformers_interpret.evaluation.input_pre_processor import InputPreProcessor, get_labels_from_dataset"
   ]
  },
  {
   "cell_type": "code",
   "execution_count": 3,
   "id": "2ba83b97",
   "metadata": {},
   "outputs": [],
   "source": [
    "def map_to_string(x):\n",
    "    return id2label[x]"
   ]
  },
  {
   "cell_type": "code",
   "execution_count": 5,
   "id": "c79c3723",
   "metadata": {},
   "outputs": [
    {
     "name": "stderr",
     "output_type": "stream",
     "text": [
      "Reusing dataset bc5cdr (C:\\Users\\richa\\.cache\\huggingface\\datasets\\bc5cdr\\bc5cdr_bigbio_kb\\1.0.0\\7e79e79248a93d8b6a31793a47da14c4e8777f17648a27aaa6c6488ac71c8ab0)\n"
     ]
    },
    {
     "data": {
      "application/vnd.jupyter.widget-view+json": {
       "model_id": "3855e86431474956a2f7c1da53d9c9a6",
       "version_major": 2,
       "version_minor": 0
      },
      "text/plain": [
       "  0%|          | 0/3 [00:00<?, ?it/s]"
      ]
     },
     "metadata": {},
     "output_type": "display_data"
    }
   ],
   "source": [
    "conhelps = BigBioConfigHelpers()\n",
    "dataset_name = 'bc5cdr_bigbio_kb'  # 2 classes, short to medium sentence length, Disease\n",
    "# dataset_name = 'euadr_bigbio_kb'  # 5 classes, short to medium sentence length, Diseases & Disorders\n",
    "# dataset_name = 'cadec_bigbio_kb'  # 5 classes, shortest documents, forum posts, Disease\n",
    "# dataset_name = 'scai_disease_bigbio_kb'  # 2 classes, long documents, DISEASE\n",
    "# dataset_name = 'ncbi_disease_bigbio_kb'\n",
    "# dataset_name = 'verspoor_2013_bigbio_kb'\n",
    "dataset = conhelps.for_config_name(dataset_name).load_dataset()"
   ]
  },
  {
   "cell_type": "code",
   "execution_count": 6,
   "id": "bf14fc8c",
   "metadata": {},
   "outputs": [],
   "source": [
    "# huggingface_model = 'dbmdz/electra-large-discriminator-finetuned-conll03-english'\n",
    "huggingface_model = 'dslim/bert-base-NER'\n",
    "# huggingface_model = 'Jean-Baptiste/roberta-large-ner-english'\n",
    "\n",
    "tokenizer: AutoTokenizer = AutoTokenizer.from_pretrained(huggingface_model)\n",
    "additional_tokenizers = []"
   ]
  },
  {
   "cell_type": "code",
   "execution_count": 7,
   "id": "31b3d28b",
   "metadata": {},
   "outputs": [
    {
     "name": "stdout",
     "output_type": "stream",
     "text": [
      "{'O': 0, 'B-Chemical': 1, 'I-Chemical': 2, 'B-Disease': 3, 'I-Disease': 4}\n"
     ]
    }
   ],
   "source": [
    "label2id, id2label = get_labels_from_dataset(dataset)\n",
    "print(label2id)\n",
    "pre_processor = InputPreProcessor(tokenizer, additional_tokenizers, label2id)"
   ]
  },
  {
   "cell_type": "code",
   "execution_count": 8,
   "id": "c5e4ea98",
   "metadata": {},
   "outputs": [
    {
     "name": "stderr",
     "output_type": "stream",
     "text": [
      "Parameter 'function'=<function <lambda> at 0x000001665EA24EE0> of the transform datasets.arrow_dataset.Dataset._map_single couldn't be hashed properly, a random hash was used instead. Make sure your transforms and parameters are serializable with pickle or dill for the dataset fingerprinting and caching to work. If you reuse this transform, the caching mechanism will consider it to be different from the previous calls and recompute everything. This warning is only showed once. Subsequent hashing failures won't be showed.\n"
     ]
    },
    {
     "data": {
      "application/vnd.jupyter.widget-view+json": {
       "model_id": "a26b4cf840724414b9f875828678a5b6",
       "version_major": 2,
       "version_minor": 0
      },
      "text/plain": [
       "  0%|          | 0/500 [00:00<?, ?ex/s]"
      ]
     },
     "metadata": {},
     "output_type": "display_data"
    },
    {
     "data": {
      "application/vnd.jupyter.widget-view+json": {
       "model_id": "168493384f214374806048c61556d65a",
       "version_major": 2,
       "version_minor": 0
      },
      "text/plain": [
       "  0%|          | 0/500 [00:00<?, ?ex/s]"
      ]
     },
     "metadata": {},
     "output_type": "display_data"
    },
    {
     "data": {
      "application/vnd.jupyter.widget-view+json": {
       "model_id": "ed323db75bc14965b420a99779c2b1bb",
       "version_major": 2,
       "version_minor": 0
      },
      "text/plain": [
       "  0%|          | 0/500 [00:00<?, ?ex/s]"
      ]
     },
     "metadata": {},
     "output_type": "display_data"
    }
   ],
   "source": [
    "tokenized_datasets = dataset.map(lambda a: pre_processor(a))"
   ]
  },
  {
   "cell_type": "code",
   "execution_count": 9,
   "id": "7106316d",
   "metadata": {},
   "outputs": [],
   "source": [
    "dataset = tokenized_datasets[\"train\"]"
   ]
  },
  {
   "cell_type": "code",
   "execution_count": 10,
   "id": "4a6550bc",
   "metadata": {
    "scrolled": false
   },
   "outputs": [
    {
     "name": "stdout",
     "output_type": "stream",
     "text": [
      "{'id': '0', 'document_id': '227508', 'passages': [{'id': '1', 'type': 'title', 'text': ['Naloxone reverses the antihypertensive effect of clonidine.'], 'offsets': [[0, 59]]}, {'id': '2', 'type': 'abstract', 'text': ['In unanesthetized, spontaneously hypertensive rats the decrease in blood pressure and heart rate produced by intravenous clonidine, 5 to 20 micrograms/kg, was inhibited or reversed by nalozone, 0.2 to 2 mg/kg. The hypotensive effect of 100 mg/kg alpha-methyldopa was also partially reversed by naloxone. Naloxone alone did not affect either blood pressure or heart rate. In brain membranes from spontaneously hypertensive rats clonidine, 10(-8) to 10(-5) M, did not influence stereoselective binding of [3H]-naloxone (8 nM), and naloxone, 10(-8) to 10(-4) M, did not influence clonidine-suppressible binding of [3H]-dihydroergocryptine (1 nM). These findings indicate that in spontaneously hypertensive rats the effects of central alpha-adrenoceptor stimulation involve activation of opiate receptors. As naloxone and clonidine do not appear to interact with the same receptor site, the observed functional antagonism suggests the release of an endogenous opiate by clonidine or alpha-methyldopa and the possible role of the opiate in the central control of sympathetic tone.'], 'offsets': [[60, 1135]]}], 'entities': [{'id': '3', 'type': 'Chemical', 'text': ['Naloxone'], 'offsets': [[0, 8]], 'normalized': [{'db_name': 'MESH', 'db_id': 'D009270'}]}, {'id': '4', 'type': 'Chemical', 'text': ['clonidine'], 'offsets': [[49, 58]], 'normalized': [{'db_name': 'MESH', 'db_id': 'D003000'}]}, {'id': '5', 'type': 'Disease', 'text': ['hypertensive'], 'offsets': [[93, 105]], 'normalized': [{'db_name': 'MESH', 'db_id': 'D006973'}]}, {'id': '6', 'type': 'Chemical', 'text': ['clonidine'], 'offsets': [[181, 190]], 'normalized': [{'db_name': 'MESH', 'db_id': 'D003000'}]}, {'id': '7', 'type': 'Chemical', 'text': ['nalozone'], 'offsets': [[244, 252]], 'normalized': []}, {'id': '8', 'type': 'Disease', 'text': ['hypotensive'], 'offsets': [[274, 285]], 'normalized': [{'db_name': 'MESH', 'db_id': 'D007022'}]}, {'id': '9', 'type': 'Chemical', 'text': ['alpha-methyldopa'], 'offsets': [[306, 322]], 'normalized': [{'db_name': 'MESH', 'db_id': 'D008750'}]}, {'id': '10', 'type': 'Chemical', 'text': ['naloxone'], 'offsets': [[354, 362]], 'normalized': [{'db_name': 'MESH', 'db_id': 'D009270'}]}, {'id': '11', 'type': 'Chemical', 'text': ['Naloxone'], 'offsets': [[364, 372]], 'normalized': [{'db_name': 'MESH', 'db_id': 'D009270'}]}, {'id': '12', 'type': 'Disease', 'text': ['hypertensive'], 'offsets': [[469, 481]], 'normalized': [{'db_name': 'MESH', 'db_id': 'D006973'}]}, {'id': '13', 'type': 'Chemical', 'text': ['clonidine'], 'offsets': [[487, 496]], 'normalized': [{'db_name': 'MESH', 'db_id': 'D003000'}]}, {'id': '14', 'type': 'Chemical', 'text': ['[3H]-naloxone'], 'offsets': [[563, 576]], 'normalized': []}, {'id': '15', 'type': 'Chemical', 'text': ['naloxone'], 'offsets': [[589, 597]], 'normalized': [{'db_name': 'MESH', 'db_id': 'D009270'}]}, {'id': '16', 'type': 'Chemical', 'text': ['clonidine'], 'offsets': [[637, 646]], 'normalized': [{'db_name': 'MESH', 'db_id': 'D003000'}]}, {'id': '17', 'type': 'Chemical', 'text': ['[3H]-dihydroergocryptine'], 'offsets': [[671, 695]], 'normalized': []}, {'id': '18', 'type': 'Disease', 'text': ['hypertensive'], 'offsets': [[750, 762]], 'normalized': [{'db_name': 'MESH', 'db_id': 'D006973'}]}, {'id': '19', 'type': 'Chemical', 'text': ['naloxone'], 'offsets': [[865, 873]], 'normalized': [{'db_name': 'MESH', 'db_id': 'D009270'}]}, {'id': '20', 'type': 'Chemical', 'text': ['clonidine'], 'offsets': [[878, 887]], 'normalized': [{'db_name': 'MESH', 'db_id': 'D003000'}]}, {'id': '21', 'type': 'Chemical', 'text': ['clonidine'], 'offsets': [[1026, 1035]], 'normalized': [{'db_name': 'MESH', 'db_id': 'D003000'}]}, {'id': '22', 'type': 'Chemical', 'text': ['alpha-methyldopa'], 'offsets': [[1039, 1055]], 'normalized': [{'db_name': 'MESH', 'db_id': 'D008750'}]}], 'events': [], 'coreferences': [], 'relations': [{'id': '23', 'type': 'CID', 'arg1_id': '9', 'arg2_id': '8', 'normalized': []}, {'id': '24', 'type': 'CID', 'arg1_id': '22', 'arg2_id': '8', 'normalized': []}], 'text': 'Naloxone reverses the antihypertensive effect of clonidine. In unanesthetized, spontaneously hypertensive rats the decrease in blood pressure and heart rate produced by intravenous clonidine, 5 to 20 micrograms/kg, was inhibited or reversed by nalozone, 0.2 to 2 mg/kg. The hypotensive effect of 100 mg/kg alpha-methyldopa was also partially reversed by naloxone. Naloxone alone did not affect either blood pressure or heart rate. In brain membranes from spontaneously hypertensive rats clonidine, 10(-8) to 10(-5) M, did not influence stereoselective binding of [3H]-naloxone (8 nM), and naloxone, 10(-8) to 10(-4) M, did not influence clonidine-suppressible binding of [3H]-dihydroergocryptine (1 nM). These findings indicate that in spontaneously hypertensive rats the effects of central alpha-adrenoceptor stimulation involve activation of opiate receptors. As naloxone and clonidine do not appear to interact with the same receptor site, the observed functional antagonism suggests the release of an endogenous opiate by clonidine or alpha-methyldopa and the possible role of the opiate in the central control of sympathetic tone.', 'labels': [0, 1, 2, 2, 2, 0, 0, 0, 0, 0, 0, 0, 0, 0, 0, 1, 2, 2, 2, 0, 0, 0, 0, 0, 0, 0, 0, 0, 0, 3, 4, 4, 0, 0, 0, 0, 0, 0, 0, 0, 0, 0, 0, 0, 0, 0, 0, 1, 2, 2, 2, 0, 0, 0, 0, 0, 0, 0, 0, 0, 0, 0, 0, 0, 0, 0, 0, 0, 1, 2, 2, 0, 0, 0, 0, 0, 0, 0, 0, 0, 0, 0, 3, 4, 4, 4, 4, 0, 0, 0, 0, 0, 0, 1, 2, 2, 2, 2, 2, 0, 0, 0, 0, 0, 1, 2, 2, 2, 0, 1, 2, 2, 2, 0, 0, 0, 0, 0, 0, 0, 0, 0, 0, 0, 0, 0, 0, 0, 0, 0, 0, 3, 4, 4, 0, 1, 2, 2, 2, 0, 0, 0, 0, 0, 0, 0, 0, 0, 0, 0, 0, 0, 0, 0, 0, 0, 0, 0, 0, 0, 0, 0, 1, 2, 2, 2, 2, 2, 2, 2, 2, 0, 0, 0, 0, 0, 0, 0, 1, 2, 2, 2, 0, 0, 0, 0, 0, 0, 0, 0, 0, 0, 0, 0, 0, 0, 0, 0, 0, 1, 2, 2, 2, 0, 0, 0, 0, 0, 1, 2, 2, 2, 2, 2, 2, 2, 2, 2, 2, 2, 2, 2, 0, 0, 0, 0, 0, 0, 0, 0, 0, 0, 0, 0, 0, 3, 4, 4, 0, 0, 0, 0, 0, 0, 0, 0, 0, 0, 0, 0, 0, 0, 0, 0, 0, 0, 0, 0, 0, 1, 2, 2, 2, 0, 1, 2, 2, 2, 0, 0, 0, 0, 0, 0, 0, 0, 0, 0, 0, 0, 0, 0, 0, 0, 0, 0, 0, 0, 0, 0, 0, 0, 0, 0, 0, 0, 1, 2, 2, 2, 0, 1, 2, 2, 2, 2, 2, 0, 0, 0, 0, 0, 0, 0, 0, 0, 0, 0, 0, 0, 0, 0, 0, 0, 0, 0, 0, 0, 0, 0, 0, 0, 0, 0, 0, 0, 0, 0, 0, 0, 0, 0, 0, 0, 0, 0, 0, 0, 0, 0, 0, 0, 0, 0, 0, 0, 0, 0, 0, 0, 0, 0, 0, 0, 0, 0, 0, 0, 0, 0, 0, 0, 0, 0, 0, 0, 0, 0, 0, 0, 0, 0, 0, 0, 0, 0, 0, 0, 0, 0, 0, 0, 0, 0, 0, 0, 0, 0, 0, 0, 0, 0, 0, 0, 0, 0, 0, 0, 0, 0, 0, 0, 0, 0, 0, 0, 0, 0, 0, 0, 0, 0, 0, 0, 0, 0, 0, 0, 0, 0, 0, 0, 0, 0, 0, 0, 0, 0, 0, 0, 0, 0, 0, 0, 0, 0, 0, 0, 0, 0, 0, 0, 0, 0, 0, 0, 0, 0, 0, 0, 0, 0, 0, 0, 0, 0, 0, 0, 0, 0, 0, 0, 0, 0, 0, 0, 0, 0, 0, 0, 0, 0, 0, 0, 0, 0, 0, 0, 0, 0, 0, 0, 0, 0, 0, 0, 0, 0, 0, 0, 0, 0, 0, 0, 0, 0, 0, 0, 0, 0, 0, 0], 'input_ids': [101, 11896, 2858, 21501, 1162, 7936, 1116, 1103, 2848, 7889, 17786, 5026, 2109, 2629, 1104, 172, 4934, 2386, 2042, 119, 1130, 8362, 6354, 2050, 4638, 26300, 117, 20061, 1193, 177, 24312, 27291, 13475, 1103, 9711, 1107, 1892, 2997, 1105, 1762, 2603, 1666, 1118, 1107, 4487, 7912, 2285, 172, 4934, 2386, 2042, 117, 126, 1106, 1406, 17599, 12139, 1116, 120, 4023, 117, 1108, 1107, 23034, 1174, 1137, 11802, 1118, 9468, 2858, 19315, 117, 121, 119, 123, 1106, 123, 17713, 120, 4023, 119, 1109, 177, 1183, 11439, 5026, 2109, 2629, 1104, 1620, 17713, 120, 4023, 11164, 118, 1899, 18873, 2572, 4163, 1108, 1145, 6320, 11802, 1118, 9468, 2858, 21501, 1162, 119, 11896, 2858, 21501, 1162, 2041, 1225, 1136, 6975, 1719, 1892, 2997, 1137, 1762, 2603, 119, 1130, 3575, 10936, 1116, 1121, 20061, 1193, 177, 24312, 27291, 13475, 172, 4934, 2386, 2042, 117, 1275, 113, 118, 129, 114, 1106, 1275, 113, 118, 126, 114, 150, 117, 1225, 1136, 2933, 17000, 11510, 10294, 3946, 7861, 1104, 164, 124, 3048, 166, 118, 9468, 2858, 21501, 1162, 113, 129, 183, 2107, 114, 117, 1105, 9468, 2858, 21501, 1162, 117, 1275, 113, 118, 129, 114, 1106, 1275, 113, 118, 125, 114, 150, 117, 1225, 1136, 2933, 172, 4934, 2386, 2042, 118, 17203, 5225, 7861, 1104, 164, 124, 3048, 166, 118, 4267, 7889, 23632, 7745, 17161, 1665, 1616, 6451, 2042, 113, 122, 183, 2107, 114, 119, 1636, 9505, 5057, 1115, 1107, 20061, 1193, 177, 24312, 27291, 13475, 1103, 3154, 1104, 2129, 11164, 118, 8050, 5123, 13335, 15384, 1766, 23842, 8803, 14915, 1104, 11769, 15045, 14392, 119, 1249, 9468, 2858, 21501, 1162, 1105, 172, 4934, 2386, 2042, 1202, 1136, 2845, 1106, 12254, 1114, 1103, 1269, 10814, 1751, 117, 1103, 4379, 8458, 22904, 19867, 1863, 5401, 1103, 1836, 1104, 1126, 1322, 19790, 2285, 11769, 15045, 1118, 172, 4934, 2386, 2042, 1137, 11164, 118, 1899, 18873, 2572, 4163, 1105, 1103, 1936, 1648, 1104, 1103, 11769, 15045, 1107, 1103, 2129, 1654, 1104, 13493, 3586, 119, 102, 0, 0, 0, 0, 0, 0, 0, 0, 0, 0, 0, 0, 0, 0, 0, 0, 0, 0, 0, 0, 0, 0, 0, 0, 0, 0, 0, 0, 0, 0, 0, 0, 0, 0, 0, 0, 0, 0, 0, 0, 0, 0, 0, 0, 0, 0, 0, 0, 0, 0, 0, 0, 0, 0, 0, 0, 0, 0, 0, 0, 0, 0, 0, 0, 0, 0, 0, 0, 0, 0, 0, 0, 0, 0, 0, 0, 0, 0, 0, 0, 0, 0, 0, 0, 0, 0, 0, 0, 0, 0, 0, 0, 0, 0, 0, 0, 0, 0, 0, 0, 0, 0, 0, 0, 0, 0, 0, 0, 0, 0, 0, 0, 0, 0, 0, 0, 0, 0, 0, 0, 0, 0, 0, 0, 0, 0, 0, 0, 0, 0, 0, 0, 0, 0, 0, 0, 0, 0, 0, 0, 0, 0, 0, 0, 0, 0, 0, 0, 0, 0, 0, 0, 0, 0, 0, 0, 0, 0, 0, 0, 0, 0, 0, 0, 0, 0, 0, 0, 0, 0, 0, 0, 0, 0, 0, 0, 0, 0, 0, 0, 0, 0, 0, 0, 0, 0, 0, 0], 'token_type_ids': [0, 0, 0, 0, 0, 0, 0, 0, 0, 0, 0, 0, 0, 0, 0, 0, 0, 0, 0, 0, 0, 0, 0, 0, 0, 0, 0, 0, 0, 0, 0, 0, 0, 0, 0, 0, 0, 0, 0, 0, 0, 0, 0, 0, 0, 0, 0, 0, 0, 0, 0, 0, 0, 0, 0, 0, 0, 0, 0, 0, 0, 0, 0, 0, 0, 0, 0, 0, 0, 0, 0, 0, 0, 0, 0, 0, 0, 0, 0, 0, 0, 0, 0, 0, 0, 0, 0, 0, 0, 0, 0, 0, 0, 0, 0, 0, 0, 0, 0, 0, 0, 0, 0, 0, 0, 0, 0, 0, 0, 0, 0, 0, 0, 0, 0, 0, 0, 0, 0, 0, 0, 0, 0, 0, 0, 0, 0, 0, 0, 0, 0, 0, 0, 0, 0, 0, 0, 0, 0, 0, 0, 0, 0, 0, 0, 0, 0, 0, 0, 0, 0, 0, 0, 0, 0, 0, 0, 0, 0, 0, 0, 0, 0, 0, 0, 0, 0, 0, 0, 0, 0, 0, 0, 0, 0, 0, 0, 0, 0, 0, 0, 0, 0, 0, 0, 0, 0, 0, 0, 0, 0, 0, 0, 0, 0, 0, 0, 0, 0, 0, 0, 0, 0, 0, 0, 0, 0, 0, 0, 0, 0, 0, 0, 0, 0, 0, 0, 0, 0, 0, 0, 0, 0, 0, 0, 0, 0, 0, 0, 0, 0, 0, 0, 0, 0, 0, 0, 0, 0, 0, 0, 0, 0, 0, 0, 0, 0, 0, 0, 0, 0, 0, 0, 0, 0, 0, 0, 0, 0, 0, 0, 0, 0, 0, 0, 0, 0, 0, 0, 0, 0, 0, 0, 0, 0, 0, 0, 0, 0, 0, 0, 0, 0, 0, 0, 0, 0, 0, 0, 0, 0, 0, 0, 0, 0, 0, 0, 0, 0, 0, 0, 0, 0, 0, 0, 0, 0, 0, 0, 0, 0, 0, 0, 0, 0, 0, 0, 0, 0, 0, 0, 0, 0, 0, 0, 0, 0, 0, 0, 0, 0, 0, 0, 0, 0, 0, 0, 0, 0, 0, 0, 0, 0, 0, 0, 0, 0, 0, 0, 0, 0, 0, 0, 0, 0, 0, 0, 0, 0, 0, 0, 0, 0, 0, 0, 0, 0, 0, 0, 0, 0, 0, 0, 0, 0, 0, 0, 0, 0, 0, 0, 0, 0, 0, 0, 0, 0, 0, 0, 0, 0, 0, 0, 0, 0, 0, 0, 0, 0, 0, 0, 0, 0, 0, 0, 0, 0, 0, 0, 0, 0, 0, 0, 0, 0, 0, 0, 0, 0, 0, 0, 0, 0, 0, 0, 0, 0, 0, 0, 0, 0, 0, 0, 0, 0, 0, 0, 0, 0, 0, 0, 0, 0, 0, 0, 0, 0, 0, 0, 0, 0, 0, 0, 0, 0, 0, 0, 0, 0, 0, 0, 0, 0, 0, 0, 0, 0, 0, 0, 0, 0, 0, 0, 0, 0, 0, 0, 0, 0, 0, 0, 0, 0, 0, 0, 0, 0, 0, 0, 0, 0, 0, 0, 0, 0, 0, 0, 0, 0, 0, 0, 0, 0, 0, 0, 0, 0, 0, 0, 0, 0, 0], 'attention_mask': [1, 1, 1, 1, 1, 1, 1, 1, 1, 1, 1, 1, 1, 1, 1, 1, 1, 1, 1, 1, 1, 1, 1, 1, 1, 1, 1, 1, 1, 1, 1, 1, 1, 1, 1, 1, 1, 1, 1, 1, 1, 1, 1, 1, 1, 1, 1, 1, 1, 1, 1, 1, 1, 1, 1, 1, 1, 1, 1, 1, 1, 1, 1, 1, 1, 1, 1, 1, 1, 1, 1, 1, 1, 1, 1, 1, 1, 1, 1, 1, 1, 1, 1, 1, 1, 1, 1, 1, 1, 1, 1, 1, 1, 1, 1, 1, 1, 1, 1, 1, 1, 1, 1, 1, 1, 1, 1, 1, 1, 1, 1, 1, 1, 1, 1, 1, 1, 1, 1, 1, 1, 1, 1, 1, 1, 1, 1, 1, 1, 1, 1, 1, 1, 1, 1, 1, 1, 1, 1, 1, 1, 1, 1, 1, 1, 1, 1, 1, 1, 1, 1, 1, 1, 1, 1, 1, 1, 1, 1, 1, 1, 1, 1, 1, 1, 1, 1, 1, 1, 1, 1, 1, 1, 1, 1, 1, 1, 1, 1, 1, 1, 1, 1, 1, 1, 1, 1, 1, 1, 1, 1, 1, 1, 1, 1, 1, 1, 1, 1, 1, 1, 1, 1, 1, 1, 1, 1, 1, 1, 1, 1, 1, 1, 1, 1, 1, 1, 1, 1, 1, 1, 1, 1, 1, 1, 1, 1, 1, 1, 1, 1, 1, 1, 1, 1, 1, 1, 1, 1, 1, 1, 1, 1, 1, 1, 1, 1, 1, 1, 1, 1, 1, 1, 1, 1, 1, 1, 1, 1, 1, 1, 1, 1, 1, 1, 1, 1, 1, 1, 1, 1, 1, 1, 1, 1, 1, 1, 1, 1, 1, 1, 1, 1, 1, 1, 1, 1, 1, 1, 1, 1, 1, 1, 1, 1, 1, 1, 1, 1, 1, 1, 1, 1, 1, 1, 1, 1, 1, 1, 1, 1, 1, 1, 1, 1, 1, 1, 1, 1, 1, 1, 1, 1, 1, 0, 0, 0, 0, 0, 0, 0, 0, 0, 0, 0, 0, 0, 0, 0, 0, 0, 0, 0, 0, 0, 0, 0, 0, 0, 0, 0, 0, 0, 0, 0, 0, 0, 0, 0, 0, 0, 0, 0, 0, 0, 0, 0, 0, 0, 0, 0, 0, 0, 0, 0, 0, 0, 0, 0, 0, 0, 0, 0, 0, 0, 0, 0, 0, 0, 0, 0, 0, 0, 0, 0, 0, 0, 0, 0, 0, 0, 0, 0, 0, 0, 0, 0, 0, 0, 0, 0, 0, 0, 0, 0, 0, 0, 0, 0, 0, 0, 0, 0, 0, 0, 0, 0, 0, 0, 0, 0, 0, 0, 0, 0, 0, 0, 0, 0, 0, 0, 0, 0, 0, 0, 0, 0, 0, 0, 0, 0, 0, 0, 0, 0, 0, 0, 0, 0, 0, 0, 0, 0, 0, 0, 0, 0, 0, 0, 0, 0, 0, 0, 0, 0, 0, 0, 0, 0, 0, 0, 0, 0, 0, 0, 0, 0, 0, 0, 0, 0, 0, 0, 0, 0, 0, 0, 0, 0, 0, 0, 0, 0, 0, 0, 0, 0, 0, 0, 0, 0, 0], 'offset_mapping': [[0, 0], [0, 2], [2, 4], [4, 7], [7, 8], [9, 16], [16, 17], [18, 21], [22, 26], [26, 28], [28, 32], [32, 35], [35, 38], [39, 45], [46, 48], [49, 50], [50, 53], [53, 55], [55, 58], [58, 59], [60, 62], [63, 65], [65, 68], [68, 70], [70, 72], [72, 77], [77, 78], [79, 90], [90, 92], [93, 94], [94, 98], [98, 105], [106, 110], [111, 114], [115, 123], [124, 126], [127, 132], [133, 141], [142, 145], [146, 151], [152, 156], [157, 165], [166, 168], [169, 171], [171, 174], [174, 177], [177, 180], [181, 182], [182, 185], [185, 187], [187, 190], [190, 191], [192, 193], [194, 196], [197, 199], [200, 205], [205, 209], [209, 210], [210, 211], [211, 213], [213, 214], [215, 218], [219, 221], [221, 226], [226, 228], [229, 231], [232, 240], [241, 243], [244, 246], [246, 248], [248, 252], [252, 253], [254, 255], [255, 256], [256, 257], [258, 260], [261, 262], [263, 265], [265, 266], [266, 268], [268, 269], [270, 273], [274, 275], [275, 276], [276, 279], [279, 282], [282, 285], [286, 292], [293, 295], [296, 299], [300, 302], [302, 303], [303, 305], [306, 311], [311, 312], [312, 315], [315, 318], [318, 320], [320, 322], [323, 326], [327, 331], [332, 341], [342, 350], [351, 353], [354, 356], [356, 358], [358, 361], [361, 362], [362, 363], [364, 366], [366, 368], [368, 371], [371, 372], [373, 378], [379, 382], [383, 386], [387, 393], [394, 400], [401, 406], [407, 415], [416, 418], [419, 424], [425, 429], [429, 430], [431, 433], [434, 439], [440, 448], [448, 449], [450, 454], [455, 466], [466, 468], [469, 470], [470, 474], [474, 481], [482, 486], [487, 488], [488, 491], [491, 493], [493, 496], [496, 497], [498, 500], [500, 501], [501, 502], [502, 503], [503, 504], [505, 507], [508, 510], [510, 511], [511, 512], [512, 513], [513, 514], [515, 516], [516, 517], [518, 521], [522, 525], [526, 535], [536, 542], [542, 545], [545, 547], [547, 551], [552, 559], [560, 562], [563, 564], [564, 565], [565, 566], [566, 567], [567, 568], [568, 570], [570, 572], [572, 575], [575, 576], [577, 578], [578, 579], [580, 581], [581, 582], [582, 583], [583, 584], [585, 588], [589, 591], [591, 593], [593, 596], [596, 597], [597, 598], [599, 601], [601, 602], [602, 603], [603, 604], [604, 605], [606, 608], [609, 611], [611, 612], [612, 613], [613, 614], [614, 615], [616, 617], [617, 618], [619, 622], [623, 626], [627, 636], [637, 638], [638, 641], [641, 643], [643, 646], [646, 647], [647, 655], [655, 659], [660, 667], [668, 670], [671, 672], [672, 673], [673, 674], [674, 675], [675, 676], [676, 678], [678, 680], [680, 682], [682, 684], [684, 687], [687, 688], [688, 690], [690, 692], [692, 695], [696, 697], [697, 698], [699, 700], [700, 701], [701, 702], [702, 703], [704, 709], [710, 718], [719, 727], [728, 732], [733, 735], [736, 747], [747, 749], [750, 751], [751, 755], [755, 762], [763, 767], [768, 771], [772, 779], [780, 782], [783, 790], [791, 796], [796, 797], [797, 799], [799, 802], [802, 804], [804, 807], [807, 809], [810, 821], [822, 829], [830, 840], [841, 843], [844, 846], [846, 850], [851, 860], [860, 861], [862, 864], [865, 867], [867, 869], [869, 872], [872, 873], [874, 877], [878, 879], [879, 882], [882, 884], [884, 887], [888, 890], [891, 894], [895, 901], [902, 904], [905, 913], [914, 918], [919, 922], [923, 927], [928, 936], [937, 941], [941, 942], [943, 946], [947, 955], [956, 966], [967, 970], [970, 974], [974, 977], [978, 986], [987, 990], [991, 998], [999, 1001], [1002, 1004], [1005, 1008], [1008, 1012], [1012, 1015], [1016, 1018], [1018, 1022], [1023, 1025], [1026, 1027], [1027, 1030], [1030, 1032], [1032, 1035], [1036, 1038], [1039, 1044], [1044, 1045], [1045, 1048], [1048, 1051], [1051, 1053], [1053, 1055], [1056, 1059], [1060, 1063], [1064, 1072], [1073, 1077], [1078, 1080], [1081, 1084], [1085, 1087], [1087, 1091], [1092, 1094], [1095, 1098], [1099, 1106], [1107, 1114], [1115, 1117], [1118, 1129], [1130, 1134], [1134, 1135], [0, 0], [0, 0], [0, 0], [0, 0], [0, 0], [0, 0], [0, 0], [0, 0], [0, 0], [0, 0], [0, 0], [0, 0], [0, 0], [0, 0], [0, 0], [0, 0], [0, 0], [0, 0], [0, 0], [0, 0], [0, 0], [0, 0], [0, 0], [0, 0], [0, 0], [0, 0], [0, 0], [0, 0], [0, 0], [0, 0], [0, 0], [0, 0], [0, 0], [0, 0], [0, 0], [0, 0], [0, 0], [0, 0], [0, 0], [0, 0], [0, 0], [0, 0], [0, 0], [0, 0], [0, 0], [0, 0], [0, 0], [0, 0], [0, 0], [0, 0], [0, 0], [0, 0], [0, 0], [0, 0], [0, 0], [0, 0], [0, 0], [0, 0], [0, 0], [0, 0], [0, 0], [0, 0], [0, 0], [0, 0], [0, 0], [0, 0], [0, 0], [0, 0], [0, 0], [0, 0], [0, 0], [0, 0], [0, 0], [0, 0], [0, 0], [0, 0], [0, 0], [0, 0], [0, 0], [0, 0], [0, 0], [0, 0], [0, 0], [0, 0], [0, 0], [0, 0], [0, 0], [0, 0], [0, 0], [0, 0], [0, 0], [0, 0], [0, 0], [0, 0], [0, 0], [0, 0], [0, 0], [0, 0], [0, 0], [0, 0], [0, 0], [0, 0], [0, 0], [0, 0], [0, 0], [0, 0], [0, 0], [0, 0], [0, 0], [0, 0], [0, 0], [0, 0], [0, 0], [0, 0], [0, 0], [0, 0], [0, 0], [0, 0], [0, 0], [0, 0], [0, 0], [0, 0], [0, 0], [0, 0], [0, 0], [0, 0], [0, 0], [0, 0], [0, 0], [0, 0], [0, 0], [0, 0], [0, 0], [0, 0], [0, 0], [0, 0], [0, 0], [0, 0], [0, 0], [0, 0], [0, 0], [0, 0], [0, 0], [0, 0], [0, 0], [0, 0], [0, 0], [0, 0], [0, 0], [0, 0], [0, 0], [0, 0], [0, 0], [0, 0], [0, 0], [0, 0], [0, 0], [0, 0], [0, 0], [0, 0], [0, 0], [0, 0], [0, 0], [0, 0], [0, 0], [0, 0], [0, 0], [0, 0], [0, 0], [0, 0], [0, 0], [0, 0], [0, 0], [0, 0], [0, 0], [0, 0], [0, 0], [0, 0], [0, 0], [0, 0], [0, 0], [0, 0], [0, 0], [0, 0], [0, 0], [0, 0], [0, 0], [0, 0], [0, 0]]}\n"
     ]
    }
   ],
   "source": [
    "print(dataset[0])"
   ]
  },
  {
   "cell_type": "code",
   "execution_count": 13,
   "id": "62cd4984",
   "metadata": {
    "scrolled": false
   },
   "outputs": [
    {
     "name": "stdout",
     "output_type": "stream",
     "text": [
      "[0, '[CLS]', 'O']\n",
      "[1, 'Na', 'B-Chemical']\n",
      "[2, '##lo', 'I-Chemical']\n",
      "[3, '##xon', 'I-Chemical']\n",
      "[4, '##e', 'I-Chemical']\n",
      "[5, 'reverse', 'O']\n",
      "[6, '##s', 'O']\n",
      "[7, 'the', 'O']\n",
      "[8, 'anti', 'O']\n",
      "[9, '##hy', 'O']\n",
      "[10, '##pert', 'O']\n",
      "[11, '##ens', 'O']\n",
      "[12, '##ive', 'O']\n",
      "[13, 'effect', 'O']\n",
      "[14, 'of', 'O']\n",
      "[15, 'c', 'B-Chemical']\n",
      "[16, '##lon', 'I-Chemical']\n",
      "[17, '##id', 'I-Chemical']\n",
      "[18, '##ine', 'I-Chemical']\n",
      "[19, '.', 'O']\n",
      "[20, 'In', 'O']\n",
      "[21, 'un', 'O']\n",
      "[22, '##ane', 'O']\n",
      "[23, '##st', 'O']\n",
      "[24, '##he', 'O']\n",
      "[25, '##tized', 'O']\n",
      "[26, ',', 'O']\n",
      "[27, 'spontaneous', 'O']\n",
      "[28, '##ly', 'O']\n",
      "[29, 'h', 'B-Disease']\n",
      "[30, '##yper', 'I-Disease']\n",
      "[31, '##tensive', 'I-Disease']\n",
      "[32, 'rats', 'O']\n",
      "[33, 'the', 'O']\n",
      "[34, 'decrease', 'O']\n",
      "[35, 'in', 'O']\n",
      "[36, 'blood', 'O']\n",
      "[37, 'pressure', 'O']\n",
      "[38, 'and', 'O']\n",
      "[39, 'heart', 'O']\n",
      "[40, 'rate', 'O']\n",
      "[41, 'produced', 'O']\n",
      "[42, 'by', 'O']\n",
      "[43, 'in', 'O']\n",
      "[44, '##tra', 'O']\n",
      "[45, '##ven', 'O']\n",
      "[46, '##ous', 'O']\n",
      "[47, 'c', 'B-Chemical']\n",
      "[48, '##lon', 'I-Chemical']\n",
      "[49, '##id', 'I-Chemical']\n",
      "[50, '##ine', 'I-Chemical']\n",
      "[51, ',', 'O']\n",
      "[52, '5', 'O']\n",
      "[53, 'to', 'O']\n",
      "[54, '20', 'O']\n",
      "[55, 'micro', 'O']\n",
      "[56, '##gram', 'O']\n",
      "[57, '##s', 'O']\n",
      "[58, '/', 'O']\n",
      "[59, 'kg', 'O']\n",
      "[60, ',', 'O']\n",
      "[61, 'was', 'O']\n",
      "[62, 'in', 'O']\n",
      "[63, '##hibit', 'O']\n",
      "[64, '##ed', 'O']\n",
      "[65, 'or', 'O']\n",
      "[66, 'reversed', 'O']\n",
      "[67, 'by', 'O']\n",
      "[68, 'na', 'B-Chemical']\n",
      "[69, '##lo', 'I-Chemical']\n",
      "[70, '##zone', 'I-Chemical']\n",
      "[71, ',', 'O']\n",
      "[72, '0', 'O']\n",
      "[73, '.', 'O']\n",
      "[74, '2', 'O']\n",
      "[75, 'to', 'O']\n",
      "[76, '2', 'O']\n",
      "[77, 'mg', 'O']\n",
      "[78, '/', 'O']\n",
      "[79, 'kg', 'O']\n",
      "[80, '.', 'O']\n",
      "[81, 'The', 'O']\n",
      "[82, 'h', 'B-Disease']\n",
      "[83, '##y', 'I-Disease']\n",
      "[84, '##pot', 'I-Disease']\n",
      "[85, '##ens', 'I-Disease']\n",
      "[86, '##ive', 'I-Disease']\n",
      "[87, 'effect', 'O']\n",
      "[88, 'of', 'O']\n",
      "[89, '100', 'O']\n",
      "[90, 'mg', 'O']\n",
      "[91, '/', 'O']\n",
      "[92, 'kg', 'O']\n",
      "[93, 'alpha', 'B-Chemical']\n",
      "[94, '-', 'I-Chemical']\n",
      "[95, 'met', 'I-Chemical']\n",
      "[96, '##hyl', 'I-Chemical']\n",
      "[97, '##do', 'I-Chemical']\n",
      "[98, '##pa', 'I-Chemical']\n",
      "[99, 'was', 'O']\n",
      "[100, 'also', 'O']\n",
      "[101, 'partially', 'O']\n",
      "[102, 'reversed', 'O']\n",
      "[103, 'by', 'O']\n",
      "[104, 'na', 'B-Chemical']\n",
      "[105, '##lo', 'I-Chemical']\n",
      "[106, '##xon', 'I-Chemical']\n",
      "[107, '##e', 'I-Chemical']\n",
      "[108, '.', 'O']\n",
      "[109, 'Na', 'B-Chemical']\n",
      "[110, '##lo', 'I-Chemical']\n",
      "[111, '##xon', 'I-Chemical']\n",
      "[112, '##e', 'I-Chemical']\n",
      "[113, 'alone', 'O']\n",
      "[114, 'did', 'O']\n",
      "[115, 'not', 'O']\n",
      "[116, 'affect', 'O']\n",
      "[117, 'either', 'O']\n",
      "[118, 'blood', 'O']\n",
      "[119, 'pressure', 'O']\n",
      "[120, 'or', 'O']\n",
      "[121, 'heart', 'O']\n",
      "[122, 'rate', 'O']\n",
      "[123, '.', 'O']\n",
      "[124, 'In', 'O']\n",
      "[125, 'brain', 'O']\n",
      "[126, 'membrane', 'O']\n",
      "[127, '##s', 'O']\n",
      "[128, 'from', 'O']\n",
      "[129, 'spontaneous', 'O']\n",
      "[130, '##ly', 'O']\n",
      "[131, 'h', 'B-Disease']\n",
      "[132, '##yper', 'I-Disease']\n",
      "[133, '##tensive', 'I-Disease']\n",
      "[134, 'rats', 'O']\n",
      "[135, 'c', 'B-Chemical']\n",
      "[136, '##lon', 'I-Chemical']\n",
      "[137, '##id', 'I-Chemical']\n",
      "[138, '##ine', 'I-Chemical']\n",
      "[139, ',', 'O']\n",
      "[140, '10', 'O']\n",
      "[141, '(', 'O']\n",
      "[142, '-', 'O']\n",
      "[143, '8', 'O']\n",
      "[144, ')', 'O']\n",
      "[145, 'to', 'O']\n",
      "[146, '10', 'O']\n",
      "[147, '(', 'O']\n",
      "[148, '-', 'O']\n",
      "[149, '5', 'O']\n",
      "[150, ')', 'O']\n",
      "[151, 'M', 'O']\n",
      "[152, ',', 'O']\n",
      "[153, 'did', 'O']\n",
      "[154, 'not', 'O']\n",
      "[155, 'influence', 'O']\n",
      "[156, 'stereo', 'O']\n",
      "[157, '##sel', 'O']\n",
      "[158, '##ec', 'O']\n",
      "[159, '##tive', 'O']\n",
      "[160, 'binding', 'O']\n",
      "[161, 'of', 'O']\n",
      "[162, '[', 'B-Chemical']\n",
      "[163, '3', 'I-Chemical']\n",
      "[164, '##H', 'I-Chemical']\n",
      "[165, ']', 'I-Chemical']\n",
      "[166, '-', 'I-Chemical']\n",
      "[167, 'na', 'I-Chemical']\n",
      "[168, '##lo', 'I-Chemical']\n",
      "[169, '##xon', 'I-Chemical']\n",
      "[170, '##e', 'I-Chemical']\n",
      "[171, '(', 'O']\n",
      "[172, '8', 'O']\n",
      "[173, 'n', 'O']\n",
      "[174, '##M', 'O']\n",
      "[175, ')', 'O']\n",
      "[176, ',', 'O']\n",
      "[177, 'and', 'O']\n",
      "[178, 'na', 'B-Chemical']\n",
      "[179, '##lo', 'I-Chemical']\n",
      "[180, '##xon', 'I-Chemical']\n",
      "[181, '##e', 'I-Chemical']\n",
      "[182, ',', 'O']\n",
      "[183, '10', 'O']\n",
      "[184, '(', 'O']\n",
      "[185, '-', 'O']\n",
      "[186, '8', 'O']\n",
      "[187, ')', 'O']\n",
      "[188, 'to', 'O']\n",
      "[189, '10', 'O']\n",
      "[190, '(', 'O']\n",
      "[191, '-', 'O']\n",
      "[192, '4', 'O']\n",
      "[193, ')', 'O']\n",
      "[194, 'M', 'O']\n",
      "[195, ',', 'O']\n",
      "[196, 'did', 'O']\n",
      "[197, 'not', 'O']\n",
      "[198, 'influence', 'O']\n",
      "[199, 'c', 'B-Chemical']\n",
      "[200, '##lon', 'I-Chemical']\n",
      "[201, '##id', 'I-Chemical']\n",
      "[202, '##ine', 'I-Chemical']\n",
      "[203, '-', 'O']\n",
      "[204, 'suppress', 'O']\n",
      "[205, '##ible', 'O']\n",
      "[206, 'binding', 'O']\n",
      "[207, 'of', 'O']\n",
      "[208, '[', 'B-Chemical']\n",
      "[209, '3', 'I-Chemical']\n",
      "[210, '##H', 'I-Chemical']\n",
      "[211, ']', 'I-Chemical']\n",
      "[212, '-', 'I-Chemical']\n",
      "[213, 'di', 'I-Chemical']\n",
      "[214, '##hy', 'I-Chemical']\n",
      "[215, '##dr', 'I-Chemical']\n",
      "[216, '##oe', 'I-Chemical']\n",
      "[217, '##rgo', 'I-Chemical']\n",
      "[218, '##c', 'I-Chemical']\n",
      "[219, '##ry', 'I-Chemical']\n",
      "[220, '##pt', 'I-Chemical']\n",
      "[221, '##ine', 'I-Chemical']\n",
      "[222, '(', 'O']\n",
      "[223, '1', 'O']\n",
      "[224, 'n', 'O']\n",
      "[225, '##M', 'O']\n",
      "[226, ')', 'O']\n",
      "[227, '.', 'O']\n",
      "[228, 'These', 'O']\n",
      "[229, 'findings', 'O']\n",
      "[230, 'indicate', 'O']\n",
      "[231, 'that', 'O']\n",
      "[232, 'in', 'O']\n",
      "[233, 'spontaneous', 'O']\n",
      "[234, '##ly', 'O']\n",
      "[235, 'h', 'B-Disease']\n",
      "[236, '##yper', 'I-Disease']\n",
      "[237, '##tensive', 'I-Disease']\n",
      "[238, 'rats', 'O']\n",
      "[239, 'the', 'O']\n",
      "[240, 'effects', 'O']\n",
      "[241, 'of', 'O']\n",
      "[242, 'central', 'O']\n",
      "[243, 'alpha', 'O']\n",
      "[244, '-', 'O']\n",
      "[245, 'ad', 'O']\n",
      "[246, '##ren', 'O']\n",
      "[247, '##oc', 'O']\n",
      "[248, '##ept', 'O']\n",
      "[249, '##or', 'O']\n",
      "[250, 'stimulation', 'O']\n",
      "[251, 'involve', 'O']\n",
      "[252, 'activation', 'O']\n",
      "[253, 'of', 'O']\n",
      "[254, 'op', 'O']\n",
      "[255, '##iate', 'O']\n",
      "[256, 'receptors', 'O']\n",
      "[257, '.', 'O']\n",
      "[258, 'As', 'O']\n",
      "[259, 'na', 'B-Chemical']\n",
      "[260, '##lo', 'I-Chemical']\n",
      "[261, '##xon', 'I-Chemical']\n",
      "[262, '##e', 'I-Chemical']\n",
      "[263, 'and', 'O']\n",
      "[264, 'c', 'B-Chemical']\n",
      "[265, '##lon', 'I-Chemical']\n",
      "[266, '##id', 'I-Chemical']\n",
      "[267, '##ine', 'I-Chemical']\n",
      "[268, 'do', 'O']\n",
      "[269, 'not', 'O']\n",
      "[270, 'appear', 'O']\n",
      "[271, 'to', 'O']\n",
      "[272, 'interact', 'O']\n",
      "[273, 'with', 'O']\n",
      "[274, 'the', 'O']\n",
      "[275, 'same', 'O']\n",
      "[276, 'receptor', 'O']\n",
      "[277, 'site', 'O']\n",
      "[278, ',', 'O']\n",
      "[279, 'the', 'O']\n",
      "[280, 'observed', 'O']\n",
      "[281, 'functional', 'O']\n",
      "[282, 'ant', 'O']\n",
      "[283, '##agon', 'O']\n",
      "[284, '##ism', 'O']\n",
      "[285, 'suggests', 'O']\n",
      "[286, 'the', 'O']\n",
      "[287, 'release', 'O']\n",
      "[288, 'of', 'O']\n",
      "[289, 'an', 'O']\n",
      "[290, 'end', 'O']\n",
      "[291, '##ogen', 'O']\n",
      "[292, '##ous', 'O']\n",
      "[293, 'op', 'O']\n",
      "[294, '##iate', 'O']\n",
      "[295, 'by', 'O']\n",
      "[296, 'c', 'B-Chemical']\n",
      "[297, '##lon', 'I-Chemical']\n",
      "[298, '##id', 'I-Chemical']\n",
      "[299, '##ine', 'I-Chemical']\n",
      "[300, 'or', 'O']\n",
      "[301, 'alpha', 'B-Chemical']\n",
      "[302, '-', 'I-Chemical']\n",
      "[303, 'met', 'I-Chemical']\n",
      "[304, '##hyl', 'I-Chemical']\n",
      "[305, '##do', 'I-Chemical']\n",
      "[306, '##pa', 'I-Chemical']\n",
      "[307, 'and', 'O']\n",
      "[308, 'the', 'O']\n",
      "[309, 'possible', 'O']\n",
      "[310, 'role', 'O']\n",
      "[311, 'of', 'O']\n",
      "[312, 'the', 'O']\n",
      "[313, 'op', 'O']\n",
      "[314, '##iate', 'O']\n",
      "[315, 'in', 'O']\n",
      "[316, 'the', 'O']\n",
      "[317, 'central', 'O']\n",
      "[318, 'control', 'O']\n",
      "[319, 'of', 'O']\n",
      "[320, 'sympathetic', 'O']\n",
      "[321, 'tone', 'O']\n",
      "[322, '.', 'O']\n",
      "[323, '[SEP]', 'O']\n"
     ]
    }
   ],
   "source": [
    "for i, doc in enumerate(dataset):\n",
    "    if i >= 1:\n",
    "        break\n",
    "    for token_i, token in enumerate(zip(tokenizer.batch_decode(doc['input_ids']), doc['labels'])):\n",
    "        if token[0] == '[PAD]':\n",
    "            break\n",
    "        print([token_i, token[0], id2label[token[1]]])"
   ]
  },
  {
   "cell_type": "code",
   "execution_count": null,
   "id": "200e5a42",
   "metadata": {},
   "outputs": [],
   "source": []
  }
 ],
 "metadata": {
  "kernelspec": {
   "display_name": "Python 3 (ipykernel)",
   "language": "python",
   "name": "python3"
  },
  "language_info": {
   "codemirror_mode": {
    "name": "ipython",
    "version": 3
   },
   "file_extension": ".py",
   "mimetype": "text/x-python",
   "name": "python",
   "nbconvert_exporter": "python",
   "pygments_lexer": "ipython3",
   "version": "3.9.12"
  }
 },
 "nbformat": 4,
 "nbformat_minor": 5
}
