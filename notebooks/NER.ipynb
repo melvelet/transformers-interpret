{
 "cells": [
  {
   "cell_type": "code",
   "execution_count": 1,
   "id": "e5530629",
   "metadata": {},
   "outputs": [
    {
     "name": "stdout",
     "output_type": "stream",
     "text": [
      "C:\\Users\\z0049uey\\Documents\\GitHub\\transformers-interpret\n"
     ]
    }
   ],
   "source": [
    "import os\n",
    "import sys\n",
    "module_path = os.path.abspath(os.path.join('..'))\n",
    "if module_path not in sys.path:\n",
    "    sys.path.append(module_path)\n",
    "print(module_path)"
   ]
  },
  {
   "cell_type": "code",
   "execution_count": 2,
   "id": "493e6cfa",
   "metadata": {},
   "outputs": [],
   "source": [
    "from pprint import pprint\n",
    "\n",
    "import transformers\n",
    "from transformers import AutoModelForSequenceClassification, AutoTokenizer, AutoModelForTokenClassification, TokenClassificationPipeline\n",
    "from transformers_interpret import TokenClassificationExplainer, MultiLabelClassificationExplainer\n",
    "from transformers_interpret.evaluation.ner_evaluation import NERSentenceEvaluator"
   ]
  },
  {
   "cell_type": "code",
   "execution_count": 3,
   "id": "02daceab",
   "metadata": {},
   "outputs": [],
   "source": [
    "# huggingface_model = 'Jean-Baptiste/roberta-large-ner-english'\n",
    "# huggingface_model = 'dbmdz/electra-large-discriminator-finetuned-conll03-english'\n",
    "# huggingface_model = 'fran-martinez/scibert_scivocab_cased_ner_jnlpba'\n",
    "huggingface_model = 'dslim/bert-base-NER'\n",
    "tokenizer: AutoTokenizer = AutoTokenizer.from_pretrained(huggingface_model)\n",
    "model: AutoModelForTokenClassification = AutoModelForTokenClassification.from_pretrained(huggingface_model)"
   ]
  },
  {
   "cell_type": "code",
   "execution_count": 4,
   "id": "9bea6844",
   "metadata": {
    "scrolled": true
   },
   "outputs": [],
   "source": [
    "sample_text = \"George Washington was the first president of the United States.\"\n",
    "\n",
    "# sample_text = \"Mouse thymus was used as a source of glucocorticoid receptor from normal CS lymphocytes.\""
   ]
  },
  {
   "cell_type": "code",
   "execution_count": 5,
   "id": "d770725f",
   "metadata": {
    "scrolled": true
   },
   "outputs": [
    {
     "name": "stdout",
     "output_type": "stream",
     "text": [
      "['[CLS]', 'George', 'Washington', 'was', 'the', 'first', 'president', 'of', 'the', 'United', 'States', '.', '[SEP]']\n"
     ]
    }
   ],
   "source": [
    "sample_tok = tokenizer(sample_text, add_special_tokens=False, return_tensors=\"pt\")\n",
    "print(tokenizer.convert_ids_to_tokens(tokenizer.encode(sample_text)))"
   ]
  },
  {
   "cell_type": "code",
   "execution_count": 6,
   "id": "0259a1f5",
   "metadata": {},
   "outputs": [],
   "source": [
    "# pipe = TokenClassificationPipeline(model=model, tokenizer=tokenizer)\n",
    "# pred = pipe(sample_text)\n",
    "# pprint(pred)"
   ]
  },
  {
   "cell_type": "code",
   "execution_count": 7,
   "id": "dbfe7bc3",
   "metadata": {
    "scrolled": true
   },
   "outputs": [],
   "source": [
    "# token_index=1\n",
    "#class_index=None\n",
    "\n",
    "#token_explainer = TokenClassificationExplainer(model=model, tokenizer=tokenizer)\n",
    "#word_attributions = token_explainer(text=sample_text, token_index=token_index, class_index=class_index)"
   ]
  },
  {
   "cell_type": "code",
   "execution_count": 8,
   "id": "36526343",
   "metadata": {
    "scrolled": true
   },
   "outputs": [],
   "source": [
    "#pprint(word_attributions)"
   ]
  },
  {
   "cell_type": "code",
   "execution_count": 9,
   "id": "30a4d166",
   "metadata": {},
   "outputs": [],
   "source": [
    "# html = token_explainer.visualize(token_index=token_index, class_index=class_index)"
   ]
  },
  {
   "cell_type": "code",
   "execution_count": 10,
   "id": "51d77e1c",
   "metadata": {},
   "outputs": [],
   "source": [
    "# input = word_attributions['B-LOC'][]\n",
    "# get_topk_rationale"
   ]
  },
  {
   "cell_type": "code",
   "execution_count": 11,
   "id": "00bb70e5",
   "metadata": {},
   "outputs": [],
   "source": [
    "pipeline = TokenClassificationPipeline(model=model, tokenizer=tokenizer)\n",
    "evaluator = NERSentenceEvaluator(pipeline)"
   ]
  },
  {
   "cell_type": "code",
   "execution_count": 12,
   "id": "62a95190",
   "metadata": {
    "scrolled": true
   },
   "outputs": [
    {
     "name": "stdout",
     "output_type": "stream",
     "text": [
      "Predicting class 3 for token 1\n",
      "Predicting class 4 for token 2\n",
      "Predicting class 7 for token 9\n",
      "Predicting class 8 for token 10\n",
      "[{'entity': 'B-PER', 'score': 0.9993062, 'index': 1, 'word': 'George', 'start': 0, 'end': 6, 'attribution_scores': [('[CLS]', 0.0), ('George', 0.9106199008212965), ('Washington', 0.20681629925473197), ('was', 0.29396802056439686), ('the', 0.03156560005937403), ('first', 0.07622562099534622), ('president', 0.17911048118480719), ('of', 0.004470647167410321), ('the', 0.018036838418204262), ('United', 0.020011156835101438), ('States', -0.004572149667698422), ('.', -0.043900517378149456), ('[SEP]', 0.0)], 'comprehensiveness': {'2': 0.04325991868972778, '3': 0.09179830551147461}, 'sufficiency': {'2': 0.00011903047561645508, '3': 0.0011039972305297852}}, {'entity': 'I-PER', 'score': 0.99624616, 'index': 2, 'word': 'Washington', 'start': 7, 'end': 17, 'attribution_scores': [('[CLS]', 0.0), ('George', 0.9860775778941946), ('Washington', 0.0716723313331201), ('was', 0.056772566381192595), ('the', 0.044866332011979815), ('first', 0.07056321214456501), ('president', -0.02533611066887917), ('of', -0.039368397695448545), ('the', -0.025088564159661153), ('United', -0.002934943872470025), ('States', 0.005837984693269305), ('.', -0.09713334696374692), ('[SEP]', 0.0)], 'comprehensiveness': {'2': 0.5784852504730225, '3': 0.6031490862369537}, 'sufficiency': {'2': 0.021184206008911133, '3': 0.001682281494140625}}, {'entity': 'B-LOC', 'score': 0.9997209, 'index': 9, 'word': 'United', 'start': 49, 'end': 55, 'attribution_scores': [('[CLS]', 0.0), ('George', -0.02306423035321227), ('Washington', 0.03316720325436722), ('was', -0.0008838695018202232), ('the', 0.01963349865576674), ('first', 0.0001883385126916764), ('president', -0.10349922240997146), ('of', -0.020206144955388854), ('the', 0.11672012943420998), ('United', 0.0697196576997261), ('States', 0.9702335934053676), ('.', 0.16438876041175984), ('[SEP]', 0.0)], 'comprehensiveness': {'2': 0.14818567037582397, '3': 0.9941672971472144}, 'sufficiency': {'2': 0.058637022972106934, '3': 0.023213326930999756}}, {'entity': 'I-LOC', 'score': 0.99923944, 'index': 10, 'word': 'States', 'start': 56, 'end': 62, 'attribution_scores': [('[CLS]', 0.0), ('George', -0.0353970811271647), ('Washington', 0.02953080970642123), ('was', -0.005146855532782762), ('the', 0.018265619571068578), ('first', -0.0021144203979790296), ('president', -0.09860890449639137), ('of', -0.031402260166754264), ('the', 0.08423204029922791), ('United', -0.004649285339486172), ('States', 0.9738175307543243), ('.', 0.17709695229112027), ('[SEP]', 0.0)], 'comprehensiveness': {'2': 0.11842864751815796, '3': 0.9429397247731686}, 'sufficiency': {'2': 0.014620840549468994, '3': 0.0019438862800598145}}]\n"
     ]
    }
   ],
   "source": [
    "evaluator(sample_text, k_values=[2, 3])"
   ]
  },
  {
   "cell_type": "code",
   "execution_count": null,
   "id": "e25413e3",
   "metadata": {},
   "outputs": [],
   "source": []
  },
  {
   "cell_type": "code",
   "execution_count": null,
   "id": "19c29d23",
   "metadata": {},
   "outputs": [],
   "source": []
  }
 ],
 "metadata": {
  "kernelspec": {
   "display_name": "Python 3 (ipykernel)",
   "language": "python",
   "name": "python3"
  },
  "language_info": {
   "codemirror_mode": {
    "name": "ipython",
    "version": 3
   },
   "file_extension": ".py",
   "mimetype": "text/x-python",
   "name": "python",
   "nbconvert_exporter": "python",
   "pygments_lexer": "ipython3",
   "version": "3.7.7"
  }
 },
 "nbformat": 4,
 "nbformat_minor": 5
}
