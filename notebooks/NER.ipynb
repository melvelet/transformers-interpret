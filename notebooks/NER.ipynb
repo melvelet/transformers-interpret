{
 "cells": [
  {
   "cell_type": "code",
   "execution_count": 1,
   "id": "e5530629",
   "metadata": {},
   "outputs": [
    {
     "name": "stdout",
     "output_type": "stream",
     "text": [
      "C:\\Users\\richa\\Documents\\GitHub\\transformers-interpret\n"
     ]
    }
   ],
   "source": [
    "import os\n",
    "import sys\n",
    "module_path = os.path.abspath(os.path.join('..'))\n",
    "if module_path not in sys.path:\n",
    "    sys.path.append(module_path)\n",
    "print(module_path)"
   ]
  },
  {
   "cell_type": "code",
   "execution_count": 2,
   "id": "493e6cfa",
   "metadata": {},
   "outputs": [],
   "source": [
    "from pprint import pprint\n",
    "\n",
    "import transformers\n",
    "from transformers import AutoModelForSequenceClassification, AutoTokenizer, AutoModelForTokenClassification, TokenClassificationPipeline, AutoConfig\n",
    "from transformers_interpret import TokenClassificationExplainer, MultiLabelClassificationExplainer\n",
    "from transformers_interpret.evaluation.ner_evaluation import NERSentenceEvaluator, NERDatasetEvaluator"
   ]
  },
  {
   "cell_type": "code",
   "execution_count": 3,
   "id": "02daceab",
   "metadata": {},
   "outputs": [],
   "source": [
    "# huggingface_model = 'Jean-Baptiste/roberta-large-ner-english'\n",
    "# huggingface_model = 'dbmdz/electra-large-discriminator-finetuned-conll03-english'\n",
    "# huggingface_model = 'fran-martinez/scibert_scivocab_cased_ner_jnlpba'\n",
    "# huggingface_model = 'alvaroalon2/biobert_chemical_ner'\n",
    "huggingface_model = 'dslim/bert-base-NER'\n",
    "\n",
    "tokenizer: AutoTokenizer = AutoTokenizer.from_pretrained(huggingface_model)\n",
    "model: AutoModelForTokenClassification = AutoModelForTokenClassification.from_pretrained(huggingface_model)"
   ]
  },
  {
   "cell_type": "code",
   "execution_count": 4,
   "id": "9bea6844",
   "metadata": {
    "scrolled": true
   },
   "outputs": [],
   "source": [
    "# sample_text = \"George Washington was the first president of the United States.\"\n",
    "\n",
    "# sample_text = \"Mouse thymus was used as a source of glucocorticoid receptor from normal CS lymphocytes.\""
   ]
  },
  {
   "cell_type": "code",
   "execution_count": 5,
   "id": "d770725f",
   "metadata": {
    "scrolled": true
   },
   "outputs": [],
   "source": [
    "#sample_tok = tokenizer(sample_text, add_special_tokens=False, return_tensors=\"pt\")\n",
    "#print(tokenizer.convert_ids_to_tokens(tokenizer.encode(sample_text)))"
   ]
  },
  {
   "cell_type": "code",
   "execution_count": 6,
   "id": "0259a1f5",
   "metadata": {},
   "outputs": [],
   "source": [
    "# pipe = TokenClassificationPipeline(model=model, tokenizer=tokenizer)\n",
    "# pred = pipe(sample_text)\n",
    "# pprint(pred)"
   ]
  },
  {
   "cell_type": "code",
   "execution_count": 7,
   "id": "dbfe7bc3",
   "metadata": {
    "scrolled": true
   },
   "outputs": [],
   "source": [
    "# token_index=1\n",
    "#class_index=None\n",
    "\n",
    "#token_explainer = TokenClassificationExplainer(model=model, tokenizer=tokenizer)\n",
    "#word_attributions = token_explainer(text=sample_text, token_index=token_index, class_index=class_index)"
   ]
  },
  {
   "cell_type": "code",
   "execution_count": 8,
   "id": "36526343",
   "metadata": {
    "scrolled": true
   },
   "outputs": [],
   "source": [
    "#pprint(word_attributions)"
   ]
  },
  {
   "cell_type": "code",
   "execution_count": 9,
   "id": "30a4d166",
   "metadata": {},
   "outputs": [],
   "source": [
    "# html = token_explainer.visualize(token_index=token_index, class_index=class_index)"
   ]
  },
  {
   "cell_type": "code",
   "execution_count": 10,
   "id": "51d77e1c",
   "metadata": {},
   "outputs": [],
   "source": [
    "# input = word_attributions['B-LOC'][]\n",
    "# get_topk_rationale"
   ]
  },
  {
   "cell_type": "code",
   "execution_count": 11,
   "id": "05a69132",
   "metadata": {},
   "outputs": [
    {
     "name": "stderr",
     "output_type": "stream",
     "text": [
      "Using custom data configuration bc5cdr_bigbio_kb-data_dir=bc5cdr_bigbio_kb\n",
      "Reusing dataset bc5cdr_dataset (C:\\Users\\richa\\.cache\\huggingface\\datasets\\bc5cdr_dataset\\bc5cdr_bigbio_kb-data_dir=bc5cdr_bigbio_kb\\1.0.0\\7e79e79248a93d8b6a31793a47da14c4e8777f17648a27aaa6c6488ac71c8ab0)\n",
      "Using custom data configuration bc5cdr_bigbio_kb-data_dir=bc5cdr_bigbio_kb\n",
      "Reusing dataset bc5cdr_dataset (C:\\Users\\richa\\.cache\\huggingface\\datasets\\bc5cdr_dataset\\bc5cdr_bigbio_kb-data_dir=bc5cdr_bigbio_kb\\1.0.0\\7e79e79248a93d8b6a31793a47da14c4e8777f17648a27aaa6c6488ac71c8ab0)\n",
      "Using custom data configuration bc5cdr_bigbio_kb-data_dir=bc5cdr_bigbio_kb\n",
      "Reusing dataset bc5cdr_dataset (C:\\Users\\richa\\.cache\\huggingface\\datasets\\bc5cdr_dataset\\bc5cdr_bigbio_kb-data_dir=bc5cdr_bigbio_kb\\1.0.0\\7e79e79248a93d8b6a31793a47da14c4e8777f17648a27aaa6c6488ac71c8ab0)\n"
     ]
    }
   ],
   "source": [
    "from bigbio.dataloader import BigBioConfigHelpers\n",
    "from datasets import load_dataset\n",
    "dataset_name = 'bc5cdr_bigbio_kb'\n",
    "conhelps = BigBioConfigHelpers()\n",
    "load_dataset_kwargs = conhelps.for_config_name(dataset_name).get_load_dataset_kwargs(data_dir=dataset_name)\n",
    "dataset = [load_dataset(**load_dataset_kwargs, split='train'), load_dataset(**load_dataset_kwargs, split='test'),\n",
    "           load_dataset(**load_dataset_kwargs, split='validation')]"
   ]
  },
  {
   "cell_type": "code",
   "execution_count": 12,
   "id": "b6644cf3",
   "metadata": {
    "scrolled": true
   },
   "outputs": [],
   "source": [
    "pipeline = TokenClassificationPipeline(model=model, tokenizer=tokenizer)\n",
    "evaluator = NERDatasetEvaluator(pipeline, dataset)"
   ]
  },
  {
   "cell_type": "code",
   "execution_count": 13,
   "id": "95eec605",
   "metadata": {
    "scrolled": true
   },
   "outputs": [
    {
     "name": "stdout",
     "output_type": "stream",
     "text": [
      "2 [2, 3, 4]\n",
      "1 [1, 2, 3]\n",
      "2 [2, 3, 4]\n",
      "1 [1, 2, 3]\n",
      "2 [2, 3, 4]\n",
      "1 [1, 2, 3]\n",
      "3 [3, 4, 5]\n",
      "1 [1, 2, 3]\n",
      "2 [2, 3, 4]\n",
      "3 [3, 4, 5]\n",
      "1 [1, 2, 3]\n",
      "2 [2, 3, 4]\n",
      "3 [3, 4, 5]\n",
      "1 [1, 2, 3]\n",
      "2 [2, 3, 4]\n",
      "3 [3, 4, 5]\n",
      "3 [3, 4, 5]\n",
      "3 [3, 4, 5]\n",
      "3 [3, 4, 5]\n",
      "3 [3, 4, 5]\n",
      "3 [3, 4, 5]\n",
      "7 [7, 8, 9]\n",
      "63 [63, 64, 65]\n",
      "7 [7, 8, 9]\n",
      "63 [63, 64, 65]\n",
      "7 [7, 8, 9]\n",
      "63 [63, 64, 65]\n"
     ]
    }
   ],
   "source": [
    "result = evaluator(k_values=[3], continuous=True)"
   ]
  },
  {
   "cell_type": "code",
   "execution_count": 14,
   "id": "ed6a1141",
   "metadata": {},
   "outputs": [
    {
     "data": {
      "text/plain": [
       "{'scores': {'mean': {'comprehensiveness': {3: 0.7181391450740193},\n",
       "   'sufficiency': {3: 0.6973425819798851},\n",
       "   'compdiff': {3: 0.020796563094134198}},\n",
       "  'squared_mean': {'comprehensiveness': {3: 0.5576289719147709},\n",
       "   'sufficiency': {3: 0.6026340740460371},\n",
       "   'compdiff': {3: 0.12689367670897267}},\n",
       "  'median': {'comprehensiveness': {3: 0.6513432948413538},\n",
       "   'sufficiency': {3: 0.7578150257468224},\n",
       "   'compdiff': {3: 1.1969643310294487e-05}},\n",
       "  'stdev': {'comprehensiveness': {3: 0.21712503944851338},\n",
       "   'sufficiency': {3: 0.3617883664231374},\n",
       "   'compdiff': {3: 0.37718540153550467}},\n",
       "  'variance': {'comprehensiveness': {3: 0.0471432827555185},\n",
       "   'sufficiency': {3: 0.13089082207912234},\n",
       "   'compdiff': {3: 0.14226882713149988}}},\n",
       " 'stats': {'splits': 3,\n",
       "  'passages': 6,\n",
       "  'entities': 9,\n",
       "  'avg_entities': 1.5,\n",
       "  'tokens': 673,\n",
       "  'avg_tokens': 112.16666666666667,\n",
       "  'passages_without_entities': 2},\n",
       " 'settings': {'model': 'dslim/bert-base-NER',\n",
       "  'tokenizer': 'dslim/bert-base-NER',\n",
       "  'dataset': ['bc5cdr_bigbio_kb', 'bc5cdr_bigbio_kb', 'bc5cdr_bigbio_kb'],\n",
       "  'attribution_type': 'lig',\n",
       "  'k_values': [3],\n",
       "  'continuous': True},\n",
       " 'timing': {'start_time': '2022-06-30 13:18:17.909045',\n",
       "  'end_time': '2022-06-30 13:22:11.696255',\n",
       "  'duration': '0:03:53.787210',\n",
       "  'per_k_value': '0:03:53.787210',\n",
       "  'per_passage': '0:00:38.964535',\n",
       "  'per_entity': '0:00:25.976357',\n",
       "  'per_token': '0:00:00.347381'}}"
      ]
     },
     "execution_count": 14,
     "metadata": {},
     "output_type": "execute_result"
    }
   ],
   "source": [
    "result"
   ]
  },
  {
   "cell_type": "code",
   "execution_count": 15,
   "id": "d0b3c6a1",
   "metadata": {},
   "outputs": [],
   "source": [
    "# evaluator.raw_entities"
   ]
  },
  {
   "cell_type": "code",
   "execution_count": 16,
   "id": "8b10d031",
   "metadata": {},
   "outputs": [],
   "source": [
    "# import json\n",
    "# test = json.dumps(str(evaluator.raw_entities))"
   ]
  },
  {
   "cell_type": "code",
   "execution_count": 17,
   "id": "a5a7535f",
   "metadata": {},
   "outputs": [],
   "source": [
    "# test"
   ]
  },
  {
   "cell_type": "code",
   "execution_count": null,
   "id": "a013bfd8",
   "metadata": {},
   "outputs": [],
   "source": []
  }
 ],
 "metadata": {
  "kernelspec": {
   "display_name": "Python 3 (ipykernel)",
   "language": "python",
   "name": "python3"
  },
  "language_info": {
   "codemirror_mode": {
    "name": "ipython",
    "version": 3
   },
   "file_extension": ".py",
   "mimetype": "text/x-python",
   "name": "python",
   "nbconvert_exporter": "python",
   "pygments_lexer": "ipython3",
   "version": "3.9.12"
  }
 },
 "nbformat": 4,
 "nbformat_minor": 5
}
