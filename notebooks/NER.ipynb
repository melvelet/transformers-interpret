{
 "cells": [
  {
   "cell_type": "code",
   "execution_count": 1,
   "id": "e5530629",
   "metadata": {},
   "outputs": [
    {
     "name": "stdout",
     "output_type": "stream",
     "text": [
      "C:\\Users\\z0049uey\\Documents\\GitHub\\transformers-interpret\n"
     ]
    }
   ],
   "source": [
    "import os\n",
    "import sys\n",
    "module_path = os.path.abspath(os.path.join('..'))\n",
    "if module_path not in sys.path:\n",
    "    sys.path.append(module_path)\n",
    "print(module_path)"
   ]
  },
  {
   "cell_type": "code",
   "execution_count": 2,
   "id": "493e6cfa",
   "metadata": {},
   "outputs": [],
   "source": [
    "from pprint import pprint\n",
    "\n",
    "import transformers\n",
    "from transformers import AutoModelForSequenceClassification, AutoTokenizer, AutoModelForTokenClassification, TokenClassificationPipeline\n",
    "from transformers_interpret import TokenClassificationExplainer, MultiLabelClassificationExplainer\n",
    "from transformers_interpret.evaluation.ner_evaluation import NERSentenceEvaluator"
   ]
  },
  {
   "cell_type": "code",
   "execution_count": 3,
   "id": "02daceab",
   "metadata": {},
   "outputs": [],
   "source": [
    "# huggingface_model = 'Jean-Baptiste/roberta-large-ner-english'\n",
    "# huggingface_model = 'dbmdz/electra-large-discriminator-finetuned-conll03-english'\n",
    "# huggingface_model = 'fran-martinez/scibert_scivocab_cased_ner_jnlpba'\n",
    "huggingface_model = 'dslim/bert-base-NER'\n",
    "tokenizer: AutoTokenizer = AutoTokenizer.from_pretrained(huggingface_model)\n",
    "model: AutoModelForTokenClassification = AutoModelForTokenClassification.from_pretrained(huggingface_model)"
   ]
  },
  {
   "cell_type": "code",
   "execution_count": 4,
   "id": "9bea6844",
   "metadata": {
    "scrolled": true
   },
   "outputs": [],
   "source": [
    "sample_text = \"George Washington was the first president of the United States.\"\n",
    "\n",
    "# sample_text = \"Mouse thymus was used as a source of glucocorticoid receptor from normal CS lymphocytes.\""
   ]
  },
  {
   "cell_type": "code",
   "execution_count": 5,
   "id": "d770725f",
   "metadata": {
    "scrolled": true
   },
   "outputs": [
    {
     "name": "stdout",
     "output_type": "stream",
     "text": [
      "['[CLS]', 'George', 'Washington', 'was', 'the', 'first', 'president', 'of', 'the', 'United', 'States', '.', '[SEP]']\n"
     ]
    }
   ],
   "source": [
    "sample_tok = tokenizer(sample_text, add_special_tokens=False, return_tensors=\"pt\")\n",
    "print(tokenizer.convert_ids_to_tokens(tokenizer.encode(sample_text)))"
   ]
  },
  {
   "cell_type": "code",
   "execution_count": 6,
   "id": "0259a1f5",
   "metadata": {},
   "outputs": [],
   "source": [
    "# pipe = TokenClassificationPipeline(model=model, tokenizer=tokenizer)\n",
    "# pred = pipe(sample_text)\n",
    "# pprint(pred)"
   ]
  },
  {
   "cell_type": "code",
   "execution_count": 7,
   "id": "dbfe7bc3",
   "metadata": {
    "scrolled": true
   },
   "outputs": [],
   "source": [
    "# token_index=1\n",
    "#class_index=None\n",
    "\n",
    "#token_explainer = TokenClassificationExplainer(model=model, tokenizer=tokenizer)\n",
    "#word_attributions = token_explainer(text=sample_text, token_index=token_index, class_index=class_index)"
   ]
  },
  {
   "cell_type": "code",
   "execution_count": 8,
   "id": "36526343",
   "metadata": {
    "scrolled": true
   },
   "outputs": [],
   "source": [
    "#pprint(word_attributions)"
   ]
  },
  {
   "cell_type": "code",
   "execution_count": 9,
   "id": "30a4d166",
   "metadata": {},
   "outputs": [],
   "source": [
    "# html = token_explainer.visualize(token_index=token_index, class_index=class_index)"
   ]
  },
  {
   "cell_type": "code",
   "execution_count": 10,
   "id": "51d77e1c",
   "metadata": {},
   "outputs": [],
   "source": [
    "# input = word_attributions['B-LOC'][]\n",
    "# get_topk_rationale"
   ]
  },
  {
   "cell_type": "code",
   "execution_count": 11,
   "id": "b6644cf3",
   "metadata": {},
   "outputs": [],
   "source": [
    "pipeline = TokenClassificationPipeline(model=model, tokenizer=tokenizer)\n",
    "evaluator = NERSentenceEvaluator(pipeline)"
   ]
  },
  {
   "cell_type": "code",
   "execution_count": 12,
   "id": "95eec605",
   "metadata": {
    "scrolled": false
   },
   "outputs": [
    {
     "name": "stdout",
     "output_type": "stream",
     "text": [
      "Predicting class 3 for token 1\n",
      "Predicting class 4 for token 2\n",
      "Predicting class 7 for token 9\n",
      "Predicting class 8 for token 10\n"
     ]
    }
   ],
   "source": [
    "result = evaluator(sample_text, k_values=[2, 3])"
   ]
  },
  {
   "cell_type": "code",
   "execution_count": 13,
   "id": "ed6a1141",
   "metadata": {},
   "outputs": [
    {
     "data": {
      "text/plain": [
       "{'scores': {'mean': {'comprehensiveness': {2: 0.22208987176418304,\n",
       "    3: 0.6580136034172028},\n",
       "   'sufficiency': {2: 0.02364027500152588, 3: 0.006985872983932495},\n",
       "   'compdiff': {2: 0.19844959676265717, 3: 0.6510277304332703}},\n",
       "  'squared_mean': {'comprehensiveness': {2: 0.09312523575939746,\n",
       "    3: 0.5624299220988868},\n",
       "   'sufficiency': {2: 0.0010252135484716263, 3: 0.0001366715304964572},\n",
       "   'compdiff': {2: 0.09210002221092584, 3: 0.5622932505683903}}},\n",
       " 'entities': [{'entity': 'B-PER',\n",
       "   'score': 0.9993062,\n",
       "   'index': 1,\n",
       "   'word': 'George',\n",
       "   'start': 0,\n",
       "   'end': 6,\n",
       "   'attribution_scores': [('[CLS]', 0.0),\n",
       "    ('George', 0.9106199008212965),\n",
       "    ('Washington', 0.20681629925473197),\n",
       "    ('was', 0.29396802056439686),\n",
       "    ('the', 0.03156560005937403),\n",
       "    ('first', 0.07622562099534622),\n",
       "    ('president', 0.17911048118480719),\n",
       "    ('of', 0.004470647167410321),\n",
       "    ('the', 0.018036838418204262),\n",
       "    ('United', 0.020011156835101438),\n",
       "    ('States', -0.004572149667698422),\n",
       "    ('.', -0.043900517378149456),\n",
       "    ('[SEP]', 0.0)],\n",
       "   'comprehensiveness': {2: 0.04325991868972778, 3: 0.09179830551147461},\n",
       "   'sufficiency': {2: 0.00011903047561645508, 3: 0.0011039972305297852}},\n",
       "  {'entity': 'I-PER',\n",
       "   'score': 0.99624616,\n",
       "   'index': 2,\n",
       "   'word': 'Washington',\n",
       "   'start': 7,\n",
       "   'end': 17,\n",
       "   'attribution_scores': [('[CLS]', 0.0),\n",
       "    ('George', 0.9860775778941946),\n",
       "    ('Washington', 0.0716723313331201),\n",
       "    ('was', 0.056772566381192595),\n",
       "    ('the', 0.044866332011979815),\n",
       "    ('first', 0.07056321214456501),\n",
       "    ('president', -0.02533611066887917),\n",
       "    ('of', -0.039368397695448545),\n",
       "    ('the', -0.025088564159661153),\n",
       "    ('United', -0.002934943872470025),\n",
       "    ('States', 0.005837984693269305),\n",
       "    ('.', -0.09713334696374692),\n",
       "    ('[SEP]', 0.0)],\n",
       "   'comprehensiveness': {2: 0.5784852504730225, 3: 0.6031490862369537},\n",
       "   'sufficiency': {2: 0.021184206008911133, 3: 0.001682281494140625}},\n",
       "  {'entity': 'B-LOC',\n",
       "   'score': 0.9997209,\n",
       "   'index': 9,\n",
       "   'word': 'United',\n",
       "   'start': 49,\n",
       "   'end': 55,\n",
       "   'attribution_scores': [('[CLS]', 0.0),\n",
       "    ('George', -0.02306423035321227),\n",
       "    ('Washington', 0.03316720325436722),\n",
       "    ('was', -0.0008838695018202232),\n",
       "    ('the', 0.01963349865576674),\n",
       "    ('first', 0.0001883385126916764),\n",
       "    ('president', -0.10349922240997146),\n",
       "    ('of', -0.020206144955388854),\n",
       "    ('the', 0.11672012943420998),\n",
       "    ('United', 0.0697196576997261),\n",
       "    ('States', 0.9702335934053676),\n",
       "    ('.', 0.16438876041175984),\n",
       "    ('[SEP]', 0.0)],\n",
       "   'comprehensiveness': {2: 0.14818567037582397, 3: 0.9941672971472144},\n",
       "   'sufficiency': {2: 0.058637022972106934, 3: 0.023213326930999756}},\n",
       "  {'entity': 'I-LOC',\n",
       "   'score': 0.99923944,\n",
       "   'index': 10,\n",
       "   'word': 'States',\n",
       "   'start': 56,\n",
       "   'end': 62,\n",
       "   'attribution_scores': [('[CLS]', 0.0),\n",
       "    ('George', -0.0353970811271647),\n",
       "    ('Washington', 0.02953080970642123),\n",
       "    ('was', -0.005146855532782762),\n",
       "    ('the', 0.018265619571068578),\n",
       "    ('first', -0.0021144203979790296),\n",
       "    ('president', -0.09860890449639137),\n",
       "    ('of', -0.031402260166754264),\n",
       "    ('the', 0.08423204029922791),\n",
       "    ('United', -0.004649285339486172),\n",
       "    ('States', 0.9738175307543243),\n",
       "    ('.', 0.17709695229112027),\n",
       "    ('[SEP]', 0.0)],\n",
       "   'comprehensiveness': {2: 0.11842864751815796, 3: 0.9429397247731686},\n",
       "   'sufficiency': {2: 0.014620840549468994, 3: 0.0019438862800598145}}]}"
      ]
     },
     "execution_count": 13,
     "metadata": {},
     "output_type": "execute_result"
    }
   ],
   "source": [
    "result"
   ]
  },
  {
   "cell_type": "code",
   "execution_count": null,
   "id": "d0b3c6a1",
   "metadata": {},
   "outputs": [],
   "source": []
  }
 ],
 "metadata": {
  "kernelspec": {
   "display_name": "Python 3 (ipykernel)",
   "language": "python",
   "name": "python3"
  },
  "language_info": {
   "codemirror_mode": {
    "name": "ipython",
    "version": 3
   },
   "file_extension": ".py",
   "mimetype": "text/x-python",
   "name": "python",
   "nbconvert_exporter": "python",
   "pygments_lexer": "ipython3",
   "version": "3.7.7"
  }
 },
 "nbformat": 4,
 "nbformat_minor": 5
}
