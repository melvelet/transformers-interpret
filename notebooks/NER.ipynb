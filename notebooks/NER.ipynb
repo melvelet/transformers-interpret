{
 "cells": [
  {
   "cell_type": "code",
   "execution_count": 1,
   "id": "e5530629",
   "metadata": {},
   "outputs": [
    {
     "name": "stdout",
     "output_type": "stream",
     "text": [
      "C:\\Users\\richa\\Documents\\GitHub\\transformers-interpret\n"
     ]
    }
   ],
   "source": [
    "import os\n",
    "import sys\n",
    "module_path = os.path.abspath(os.path.join('..'))\n",
    "if module_path not in sys.path:\n",
    "    sys.path.append(module_path)\n",
    "print(module_path)"
   ]
  },
  {
   "cell_type": "code",
   "execution_count": 10,
   "id": "493e6cfa",
   "metadata": {},
   "outputs": [
    {
     "ename": "ModuleNotFoundError",
     "evalue": "No module named 'evaluation'",
     "output_type": "error",
     "traceback": [
      "\u001b[1;31m---------------------------------------------------------------------------\u001b[0m",
      "\u001b[1;31mModuleNotFoundError\u001b[0m                       Traceback (most recent call last)",
      "\u001b[1;32m~\\AppData\\Local\\Temp\\ipykernel_3040\\4194136361.py\u001b[0m in \u001b[0;36m<module>\u001b[1;34m\u001b[0m\n\u001b[0;32m      4\u001b[0m \u001b[1;32mfrom\u001b[0m \u001b[0mtransformers\u001b[0m \u001b[1;32mimport\u001b[0m \u001b[0mAutoModelForSequenceClassification\u001b[0m\u001b[1;33m,\u001b[0m \u001b[0mAutoTokenizer\u001b[0m\u001b[1;33m,\u001b[0m \u001b[0mAutoModelForTokenClassification\u001b[0m\u001b[1;33m,\u001b[0m \u001b[0mTokenClassificationPipeline\u001b[0m\u001b[1;33m\u001b[0m\u001b[1;33m\u001b[0m\u001b[0m\n\u001b[0;32m      5\u001b[0m \u001b[1;32mfrom\u001b[0m \u001b[0mtransformers_interpret\u001b[0m \u001b[1;32mimport\u001b[0m \u001b[0mTokenClassificationExplainer\u001b[0m\u001b[1;33m,\u001b[0m \u001b[0mMultiLabelClassificationExplainer\u001b[0m\u001b[1;33m\u001b[0m\u001b[1;33m\u001b[0m\u001b[0m\n\u001b[1;32m----> 6\u001b[1;33m \u001b[1;32mfrom\u001b[0m \u001b[0mevaluation\u001b[0m \u001b[1;32mimport\u001b[0m \u001b[0mget_topk_rationale\u001b[0m\u001b[1;33m\u001b[0m\u001b[1;33m\u001b[0m\u001b[0m\n\u001b[0m",
      "\u001b[1;31mModuleNotFoundError\u001b[0m: No module named 'evaluation'"
     ]
    }
   ],
   "source": [
    "from pprint import pprint\n",
    "\n",
    "import transformers\n",
    "from transformers import AutoModelForSequenceClassification, AutoTokenizer, AutoModelForTokenClassification, TokenClassificationPipeline\n",
    "from transformers_interpret import TokenClassificationExplainer, MultiLabelClassificationExplainer\n",
    "from evaluation import get_topk_rationale"
   ]
  },
  {
   "cell_type": "code",
   "execution_count": 3,
   "id": "02daceab",
   "metadata": {},
   "outputs": [],
   "source": [
    "# huggingface_model = 'Jean-Baptiste/roberta-large-ner-english'\n",
    "# huggingface_model = 'dbmdz/electra-large-discriminator-finetuned-conll03-english'\n",
    "# huggingface_model = 'fran-martinez/scibert_scivocab_cased_ner_jnlpba'\n",
    "huggingface_model = 'dslim/bert-base-NER'\n",
    "tokenizer: AutoTokenizer = AutoTokenizer.from_pretrained(huggingface_model)\n",
    "model: AutoModelForTokenClassification = AutoModelForTokenClassification.from_pretrained(huggingface_model)"
   ]
  },
  {
   "cell_type": "code",
   "execution_count": 4,
   "id": "9bea6844",
   "metadata": {
    "scrolled": true
   },
   "outputs": [],
   "source": [
    "sample_text = \"George Washington was the first president of the United States.\"\n",
    "\n",
    "# sample_text = \"Mouse thymus was used as a source of glucocorticoid receptor from normal CS lymphocytes.\""
   ]
  },
  {
   "cell_type": "code",
   "execution_count": 5,
   "id": "d770725f",
   "metadata": {
    "scrolled": true
   },
   "outputs": [
    {
     "name": "stdout",
     "output_type": "stream",
     "text": [
      "['[CLS]', 'George', 'Washington', 'was', 'the', 'first', 'president', 'of', 'the', 'United', 'States', '.', '[SEP]']\n"
     ]
    }
   ],
   "source": [
    "sample_tok = tokenizer(sample_text, add_special_tokens=False, return_tensors=\"pt\")\n",
    "print(tokenizer.convert_ids_to_tokens(tokenizer.encode(sample_text)))"
   ]
  },
  {
   "cell_type": "code",
   "execution_count": 6,
   "id": "0259a1f5",
   "metadata": {},
   "outputs": [],
   "source": [
    "# pipe = TokenClassificationPipeline(model=model, tokenizer=tokenizer)\n",
    "# pred = pipe(sample_text)\n",
    "# pprint(pred)"
   ]
  },
  {
   "cell_type": "code",
   "execution_count": 14,
   "id": "dbfe7bc3",
   "metadata": {
    "scrolled": true
   },
   "outputs": [
    {
     "name": "stdout",
     "output_type": "stream",
     "text": [
      "Predicting class 0 token 1\n",
      "Predicting class 1 token 1\n",
      "Predicting class 2 token 1\n",
      "Predicting class 3 token 1\n",
      "Predicting class 4 token 1\n",
      "Predicting class 5 token 1\n",
      "Predicting class 6 token 1\n",
      "Predicting class 7 token 1\n",
      "Predicting class 8 token 1\n"
     ]
    }
   ],
   "source": [
    "token_index=1\n",
    "class_index=None\n",
    "\n",
    "token_explainer = TokenClassificationExplainer(model=model, tokenizer=tokenizer)\n",
    "word_attributions = token_explainer(text=sample_text, token_index=token_index, class_index=class_index)"
   ]
  },
  {
   "cell_type": "code",
   "execution_count": 11,
   "id": "36526343",
   "metadata": {
    "scrolled": true
   },
   "outputs": [
    {
     "name": "stdout",
     "output_type": "stream",
     "text": [
      "{'B-LOC': [None,\n",
      "           None,\n",
      "           None,\n",
      "           None,\n",
      "           None,\n",
      "           None,\n",
      "           None,\n",
      "           None,\n",
      "           None,\n",
      "           [('[CLS]', 0.0),\n",
      "            ('George', -0.02306421836946924),\n",
      "            ('Washington', 0.03316721758716733),\n",
      "            ('was', -0.0008838851494077826),\n",
      "            ('the', 0.019633481145616728),\n",
      "            ('first', 0.0001883615294160001),\n",
      "            ('president', -0.10349918747141952),\n",
      "            ('of', -0.020206038566285882),\n",
      "            ('the', 0.11672030854801307),\n",
      "            ('United', 0.06971974104061011),\n",
      "            ('States', 0.9702335634154521),\n",
      "            ('.', 0.16438881073743186),\n",
      "            ('[SEP]', 0.0)],\n",
      "           None,\n",
      "           None,\n",
      "           None],\n",
      " 'B-MISC': [None,\n",
      "            None,\n",
      "            None,\n",
      "            None,\n",
      "            None,\n",
      "            None,\n",
      "            None,\n",
      "            None,\n",
      "            None,\n",
      "            [('[CLS]', 0.0),\n",
      "             ('George', -0.030784503519675002),\n",
      "             ('Washington', -0.26529172952410596),\n",
      "             ('was', -0.07589665009989154),\n",
      "             ('the', -0.05961159351766394),\n",
      "             ('first', -0.08039946286491868),\n",
      "             ('president', -0.15087507532921748),\n",
      "             ('of', -0.022136783332901637),\n",
      "             ('the', 0.910521309992327),\n",
      "             ('United', 0.18103684342584517),\n",
      "             ('States', 0.039111944139211194),\n",
      "             ('.', -0.1621364581088316),\n",
      "             ('[SEP]', 0.0)],\n",
      "            None,\n",
      "            None,\n",
      "            None],\n",
      " 'B-ORG': [None,\n",
      "           None,\n",
      "           None,\n",
      "           None,\n",
      "           None,\n",
      "           None,\n",
      "           None,\n",
      "           None,\n",
      "           None,\n",
      "           [('[CLS]', 0.0),\n",
      "            ('George', 0.02057565931239779),\n",
      "            ('Washington', -0.023625159071081106),\n",
      "            ('was', -0.02554309553265484),\n",
      "            ('the', -0.03295356496778833),\n",
      "            ('first', 0.04767654137123929),\n",
      "            ('president', 0.14956403061101256),\n",
      "            ('of', 0.07009930824629769),\n",
      "            ('the', -0.16027099739282055),\n",
      "            ('United', 0.7163578674620619),\n",
      "            ('States', -0.6179559620438333),\n",
      "            ('.', -0.21679202973657197),\n",
      "            ('[SEP]', 0.0)],\n",
      "           None,\n",
      "           None,\n",
      "           None],\n",
      " 'B-PER': [None,\n",
      "           None,\n",
      "           None,\n",
      "           None,\n",
      "           None,\n",
      "           None,\n",
      "           None,\n",
      "           None,\n",
      "           None,\n",
      "           [('[CLS]', 0.0),\n",
      "            ('George', 0.09965012180066248),\n",
      "            ('Washington', 0.12158785612318726),\n",
      "            ('was', 0.011569642692765152),\n",
      "            ('the', -0.017647066929905114),\n",
      "            ('first', 0.058906123627975454),\n",
      "            ('president', 0.13824377400874835),\n",
      "            ('of', -0.26776928543040307),\n",
      "            ('the', 0.07348309714261006),\n",
      "            ('United', 0.7512654818023637),\n",
      "            ('States', -0.36367497388299225),\n",
      "            ('.', -0.42249287786901873),\n",
      "            ('[SEP]', 0.0)],\n",
      "           None,\n",
      "           None,\n",
      "           None],\n",
      " 'I-LOC': [None,\n",
      "           None,\n",
      "           None,\n",
      "           None,\n",
      "           None,\n",
      "           None,\n",
      "           None,\n",
      "           None,\n",
      "           None,\n",
      "           [('[CLS]', 0.0),\n",
      "            ('George', -0.022818451778771252),\n",
      "            ('Washington', -0.017597919032987044),\n",
      "            ('was', -0.006559205625249296),\n",
      "            ('the', -0.06939709891677269),\n",
      "            ('first', -0.03663856350730955),\n",
      "            ('president', -0.10904881907361773),\n",
      "            ('of', -0.0028981539630107403),\n",
      "            ('the', 0.2432255805768398),\n",
      "            ('United', -0.5662861437507072),\n",
      "            ('States', 0.7743186883339617),\n",
      "            ('.', 0.04074446784279305),\n",
      "            ('[SEP]', 0.0)],\n",
      "           None,\n",
      "           None,\n",
      "           None],\n",
      " 'I-MISC': [None,\n",
      "            None,\n",
      "            None,\n",
      "            None,\n",
      "            None,\n",
      "            None,\n",
      "            None,\n",
      "            None,\n",
      "            None,\n",
      "            [('[CLS]', 0.0),\n",
      "             ('George', -0.04205067420608847),\n",
      "             ('Washington', -0.12416564354897144),\n",
      "             ('was', -0.0874185041058665),\n",
      "             ('the', -0.15849561997266198),\n",
      "             ('first', -0.07185978987067462),\n",
      "             ('president', -0.2059259918997155),\n",
      "             ('of', 0.08833252455494991),\n",
      "             ('the', 0.5402956076738082),\n",
      "             ('United', -0.3773884725840828),\n",
      "             ('States', 0.6776172644800588),\n",
      "             ('.', 0.03425257484442131),\n",
      "             ('[SEP]', 0.0)],\n",
      "            None,\n",
      "            None,\n",
      "            None],\n",
      " 'I-ORG': [None,\n",
      "           None,\n",
      "           None,\n",
      "           None,\n",
      "           None,\n",
      "           None,\n",
      "           None,\n",
      "           None,\n",
      "           None,\n",
      "           [('[CLS]', 0.0),\n",
      "            ('George', 0.008222212798028372),\n",
      "            ('Washington', -0.0077080434513242),\n",
      "            ('was', -0.014929565556400168),\n",
      "            ('the', -0.06480180688391475),\n",
      "            ('first', -0.03036314014623485),\n",
      "            ('president', -0.03723203767701924),\n",
      "            ('of', 0.04399298708826401),\n",
      "            ('the', 0.2989746950421407),\n",
      "            ('United', -0.635897063393399),\n",
      "            ('States', 0.699006532030867),\n",
      "            ('.', 0.09405430361208102),\n",
      "            ('[SEP]', 0.0)],\n",
      "           None,\n",
      "           None,\n",
      "           None],\n",
      " 'I-PER': [None,\n",
      "           None,\n",
      "           None,\n",
      "           None,\n",
      "           None,\n",
      "           None,\n",
      "           None,\n",
      "           None,\n",
      "           None,\n",
      "           [('[CLS]', 0.0),\n",
      "            ('George', -0.07419608112533871),\n",
      "            ('Washington', -0.04670990926701143),\n",
      "            ('was', -0.016193681366328382),\n",
      "            ('the', -0.10306066173633102),\n",
      "            ('first', -0.010669553501354677),\n",
      "            ('president', -0.11270674945822533),\n",
      "            ('of', 0.02069962309092701),\n",
      "            ('the', 0.48438947322843534),\n",
      "            ('United', -0.3831994369262159),\n",
      "            ('States', 0.7615631072469758),\n",
      "            ('.', -0.08204223858453838),\n",
      "            ('[SEP]', 0.0)],\n",
      "           None,\n",
      "           None,\n",
      "           None],\n",
      " 'O': [None,\n",
      "       None,\n",
      "       None,\n",
      "       None,\n",
      "       None,\n",
      "       None,\n",
      "       None,\n",
      "       None,\n",
      "       None,\n",
      "       [('[CLS]', 0.0),\n",
      "        ('George', 0.0034823279246523923),\n",
      "        ('Washington', 0.011306066218536784),\n",
      "        ('was', 0.03644640402308374),\n",
      "        ('the', 0.02122318144158054),\n",
      "        ('first', -0.04735439876805663),\n",
      "        ('president', -0.040536396314181294),\n",
      "        ('of', -0.04810514766344163),\n",
      "        ('the', -0.03795355859750363),\n",
      "        ('United', -0.9114646735241131),\n",
      "        ('States', -0.39083163494462253),\n",
      "        ('.', 0.0832096638348337),\n",
      "        ('[SEP]', 0.0)],\n",
      "       None,\n",
      "       None,\n",
      "       None]}\n"
     ]
    }
   ],
   "source": [
    "pprint(word_attributions)"
   ]
  },
  {
   "cell_type": "code",
   "execution_count": 15,
   "id": "30a4d166",
   "metadata": {},
   "outputs": [
    {
     "name": "stdout",
     "output_type": "stream",
     "text": [
      "Prediction for token 1 (George)\n"
     ]
    },
    {
     "data": {
      "text/html": [
       "<table width: 100%><div style=\"border-top: 1px solid; margin-top: 5px;             padding-top: 5px; display: inline-block\"><b>Legend: </b><span style=\"display: inline-block; width: 10px; height: 10px;                 border: 1px solid; background-color:                 hsl(0, 75%, 60%)\"></span> Negative  <span style=\"display: inline-block; width: 10px; height: 10px;                 border: 1px solid; background-color:                 hsl(0, 75%, 100%)\"></span> Neutral  <span style=\"display: inline-block; width: 10px; height: 10px;                 border: 1px solid; background-color:                 hsl(120, 75%, 50%)\"></span> Positive  </div><tr><th>True Label</th><th>Predicted Label</th><th>Attribution Label</th><th>Attribution Score</th><th>Word Importance</th><tr><td><text style=\"padding-right:2em\"><b>n/a</b></text></td><td><text style=\"padding-right:2em\"><b> (0.00)</b></text></td><td><text style=\"padding-right:2em\"><b>O</b></text></td><td><text style=\"padding-right:2em\"><b>-1.73</b></text></td><td><mark style=\"background-color: hsl(0, 75%, 100%); opacity:1.0;                     line-height:1.75\"><font color=\"black\"> [CLS]                    </font></mark><mark style=\"background-color: hsl(0, 75%, 65%); opacity:1.0;                     line-height:1.75\"><font color=\"black\"> George                    </font></mark><mark style=\"background-color: hsl(0, 75%, 90%); opacity:1.0;                     line-height:1.75\"><font color=\"black\"> Washington                    </font></mark><mark style=\"background-color: hsl(0, 75%, 89%); opacity:1.0;                     line-height:1.75\"><font color=\"black\"> was                    </font></mark><mark style=\"background-color: hsl(0, 75%, 99%); opacity:1.0;                     line-height:1.75\"><font color=\"black\"> the                    </font></mark><mark style=\"background-color: hsl(0, 75%, 97%); opacity:1.0;                     line-height:1.75\"><font color=\"black\"> first                    </font></mark><mark style=\"background-color: hsl(0, 75%, 94%); opacity:1.0;                     line-height:1.75\"><font color=\"black\"> president                    </font></mark><mark style=\"background-color: hsl(0, 75%, 100%); opacity:1.0;                     line-height:1.75\"><font color=\"black\"> of                    </font></mark><mark style=\"background-color: hsl(0, 75%, 100%); opacity:1.0;                     line-height:1.75\"><font color=\"black\"> the                    </font></mark><mark style=\"background-color: hsl(0, 75%, 100%); opacity:1.0;                     line-height:1.75\"><font color=\"black\"> United                    </font></mark><mark style=\"background-color: hsl(120, 75%, 100%); opacity:1.0;                     line-height:1.75\"><font color=\"black\"> States                    </font></mark><mark style=\"background-color: hsl(120, 75%, 98%); opacity:1.0;                     line-height:1.75\"><font color=\"black\"> .                    </font></mark><mark style=\"background-color: hsl(0, 75%, 100%); opacity:1.0;                     line-height:1.75\"><font color=\"black\"> [SEP]                    </font></mark></td><tr><tr><td><text style=\"padding-right:2em\"><b>n/a</b></text></td><td><text style=\"padding-right:2em\"><b> (0.00)</b></text></td><td><text style=\"padding-right:2em\"><b>B-MISC</b></text></td><td><text style=\"padding-right:2em\"><b>-1.68</b></text></td><td><mark style=\"background-color: hsl(0, 75%, 100%); opacity:1.0;                     line-height:1.75\"><font color=\"black\"> [CLS]                    </font></mark><mark style=\"background-color: hsl(0, 75%, 65%); opacity:1.0;                     line-height:1.75\"><font color=\"black\"> George                    </font></mark><mark style=\"background-color: hsl(0, 75%, 98%); opacity:1.0;                     line-height:1.75\"><font color=\"black\"> Washington                    </font></mark><mark style=\"background-color: hsl(0, 75%, 87%); opacity:1.0;                     line-height:1.75\"><font color=\"black\"> was                    </font></mark><mark style=\"background-color: hsl(0, 75%, 100%); opacity:1.0;                     line-height:1.75\"><font color=\"black\"> the                    </font></mark><mark style=\"background-color: hsl(0, 75%, 98%); opacity:1.0;                     line-height:1.75\"><font color=\"black\"> first                    </font></mark><mark style=\"background-color: hsl(0, 75%, 88%); opacity:1.0;                     line-height:1.75\"><font color=\"black\"> president                    </font></mark><mark style=\"background-color: hsl(0, 75%, 100%); opacity:1.0;                     line-height:1.75\"><font color=\"black\"> of                    </font></mark><mark style=\"background-color: hsl(0, 75%, 100%); opacity:1.0;                     line-height:1.75\"><font color=\"black\"> the                    </font></mark><mark style=\"background-color: hsl(0, 75%, 99%); opacity:1.0;                     line-height:1.75\"><font color=\"black\"> United                    </font></mark><mark style=\"background-color: hsl(120, 75%, 99%); opacity:1.0;                     line-height:1.75\"><font color=\"black\"> States                    </font></mark><mark style=\"background-color: hsl(120, 75%, 98%); opacity:1.0;                     line-height:1.75\"><font color=\"black\"> .                    </font></mark><mark style=\"background-color: hsl(0, 75%, 100%); opacity:1.0;                     line-height:1.75\"><font color=\"black\"> [SEP]                    </font></mark></td><tr><tr><td><text style=\"padding-right:2em\"><b>n/a</b></text></td><td><text style=\"padding-right:2em\"><b> (0.00)</b></text></td><td><text style=\"padding-right:2em\"><b>I-MISC</b></text></td><td><text style=\"padding-right:2em\"><b>-1.21</b></text></td><td><mark style=\"background-color: hsl(0, 75%, 100%); opacity:1.0;                     line-height:1.75\"><font color=\"black\"> [CLS]                    </font></mark><mark style=\"background-color: hsl(0, 75%, 63%); opacity:1.0;                     line-height:1.75\"><font color=\"black\"> George                    </font></mark><mark style=\"background-color: hsl(120, 75%, 95%); opacity:1.0;                     line-height:1.75\"><font color=\"black\"> Washington                    </font></mark><mark style=\"background-color: hsl(0, 75%, 92%); opacity:1.0;                     line-height:1.75\"><font color=\"black\"> was                    </font></mark><mark style=\"background-color: hsl(0, 75%, 100%); opacity:1.0;                     line-height:1.75\"><font color=\"black\"> the                    </font></mark><mark style=\"background-color: hsl(0, 75%, 98%); opacity:1.0;                     line-height:1.75\"><font color=\"black\"> first                    </font></mark><mark style=\"background-color: hsl(0, 75%, 93%); opacity:1.0;                     line-height:1.75\"><font color=\"black\"> president                    </font></mark><mark style=\"background-color: hsl(120, 75%, 100%); opacity:1.0;                     line-height:1.75\"><font color=\"black\"> of                    </font></mark><mark style=\"background-color: hsl(0, 75%, 100%); opacity:1.0;                     line-height:1.75\"><font color=\"black\"> the                    </font></mark><mark style=\"background-color: hsl(0, 75%, 100%); opacity:1.0;                     line-height:1.75\"><font color=\"black\"> United                    </font></mark><mark style=\"background-color: hsl(120, 75%, 98%); opacity:1.0;                     line-height:1.75\"><font color=\"black\"> States                    </font></mark><mark style=\"background-color: hsl(120, 75%, 97%); opacity:1.0;                     line-height:1.75\"><font color=\"black\"> .                    </font></mark><mark style=\"background-color: hsl(0, 75%, 100%); opacity:1.0;                     line-height:1.75\"><font color=\"black\"> [SEP]                    </font></mark></td><tr><tr><td><text style=\"padding-right:2em\"><b>n/a</b></text></td><td><text style=\"padding-right:2em\"><b> (0.00)</b></text></td><td><text style=\"padding-right:2em\"><b>B-PER</b></text></td><td><text style=\"padding-right:2em\"><b>1.69</b></text></td><td><mark style=\"background-color: hsl(0, 75%, 100%); opacity:1.0;                     line-height:1.75\"><font color=\"black\"> [CLS]                    </font></mark><mark style=\"background-color: hsl(120, 75%, 55%); opacity:1.0;                     line-height:1.75\"><font color=\"black\"> George                    </font></mark><mark style=\"background-color: hsl(120, 75%, 90%); opacity:1.0;                     line-height:1.75\"><font color=\"black\"> Washington                    </font></mark><mark style=\"background-color: hsl(120, 75%, 86%); opacity:1.0;                     line-height:1.75\"><font color=\"black\"> was                    </font></mark><mark style=\"background-color: hsl(120, 75%, 99%); opacity:1.0;                     line-height:1.75\"><font color=\"black\"> the                    </font></mark><mark style=\"background-color: hsl(120, 75%, 97%); opacity:1.0;                     line-height:1.75\"><font color=\"black\"> first                    </font></mark><mark style=\"background-color: hsl(120, 75%, 92%); opacity:1.0;                     line-height:1.75\"><font color=\"black\"> president                    </font></mark><mark style=\"background-color: hsl(120, 75%, 100%); opacity:1.0;                     line-height:1.75\"><font color=\"black\"> of                    </font></mark><mark style=\"background-color: hsl(120, 75%, 100%); opacity:1.0;                     line-height:1.75\"><font color=\"black\"> the                    </font></mark><mark style=\"background-color: hsl(120, 75%, 99%); opacity:1.0;                     line-height:1.75\"><font color=\"black\"> United                    </font></mark><mark style=\"background-color: hsl(0, 75%, 100%); opacity:1.0;                     line-height:1.75\"><font color=\"black\"> States                    </font></mark><mark style=\"background-color: hsl(0, 75%, 99%); opacity:1.0;                     line-height:1.75\"><font color=\"black\"> .                    </font></mark><mark style=\"background-color: hsl(0, 75%, 100%); opacity:1.0;                     line-height:1.75\"><font color=\"black\"> [SEP]                    </font></mark></td><tr><tr><td><text style=\"padding-right:2em\"><b>n/a</b></text></td><td><text style=\"padding-right:2em\"><b> (1.00)</b></text></td><td><text style=\"padding-right:2em\"><b>I-PER</b></text></td><td><text style=\"padding-right:2em\"><b>-1.18</b></text></td><td><mark style=\"background-color: hsl(0, 75%, 100%); opacity:1.0;                     line-height:1.75\"><font color=\"black\"> [CLS]                    </font></mark><mark style=\"background-color: hsl(0, 75%, 63%); opacity:1.0;                     line-height:1.75\"><font color=\"black\"> George                    </font></mark><mark style=\"background-color: hsl(120, 75%, 95%); opacity:1.0;                     line-height:1.75\"><font color=\"black\"> Washington                    </font></mark><mark style=\"background-color: hsl(0, 75%, 91%); opacity:1.0;                     line-height:1.75\"><font color=\"black\"> was                    </font></mark><mark style=\"background-color: hsl(0, 75%, 100%); opacity:1.0;                     line-height:1.75\"><font color=\"black\"> the                    </font></mark><mark style=\"background-color: hsl(0, 75%, 99%); opacity:1.0;                     line-height:1.75\"><font color=\"black\"> first                    </font></mark><mark style=\"background-color: hsl(0, 75%, 94%); opacity:1.0;                     line-height:1.75\"><font color=\"black\"> president                    </font></mark><mark style=\"background-color: hsl(120, 75%, 100%); opacity:1.0;                     line-height:1.75\"><font color=\"black\"> of                    </font></mark><mark style=\"background-color: hsl(0, 75%, 100%); opacity:1.0;                     line-height:1.75\"><font color=\"black\"> the                    </font></mark><mark style=\"background-color: hsl(120, 75%, 100%); opacity:1.0;                     line-height:1.75\"><font color=\"black\"> United                    </font></mark><mark style=\"background-color: hsl(120, 75%, 98%); opacity:1.0;                     line-height:1.75\"><font color=\"black\"> States                    </font></mark><mark style=\"background-color: hsl(120, 75%, 97%); opacity:1.0;                     line-height:1.75\"><font color=\"black\"> .                    </font></mark><mark style=\"background-color: hsl(0, 75%, 100%); opacity:1.0;                     line-height:1.75\"><font color=\"black\"> [SEP]                    </font></mark></td><tr><tr><td><text style=\"padding-right:2em\"><b>n/a</b></text></td><td><text style=\"padding-right:2em\"><b> (0.00)</b></text></td><td><text style=\"padding-right:2em\"><b>B-ORG</b></text></td><td><text style=\"padding-right:2em\"><b>-1.44</b></text></td><td><mark style=\"background-color: hsl(0, 75%, 100%); opacity:1.0;                     line-height:1.75\"><font color=\"black\"> [CLS]                    </font></mark><mark style=\"background-color: hsl(0, 75%, 64%); opacity:1.0;                     line-height:1.75\"><font color=\"black\"> George                    </font></mark><mark style=\"background-color: hsl(120, 75%, 95%); opacity:1.0;                     line-height:1.75\"><font color=\"black\"> Washington                    </font></mark><mark style=\"background-color: hsl(0, 75%, 88%); opacity:1.0;                     line-height:1.75\"><font color=\"black\"> was                    </font></mark><mark style=\"background-color: hsl(0, 75%, 99%); opacity:1.0;                     line-height:1.75\"><font color=\"black\"> the                    </font></mark><mark style=\"background-color: hsl(0, 75%, 98%); opacity:1.0;                     line-height:1.75\"><font color=\"black\"> first                    </font></mark><mark style=\"background-color: hsl(0, 75%, 93%); opacity:1.0;                     line-height:1.75\"><font color=\"black\"> president                    </font></mark><mark style=\"background-color: hsl(0, 75%, 100%); opacity:1.0;                     line-height:1.75\"><font color=\"black\"> of                    </font></mark><mark style=\"background-color: hsl(0, 75%, 99%); opacity:1.0;                     line-height:1.75\"><font color=\"black\"> the                    </font></mark><mark style=\"background-color: hsl(0, 75%, 100%); opacity:1.0;                     line-height:1.75\"><font color=\"black\"> United                    </font></mark><mark style=\"background-color: hsl(0, 75%, 100%); opacity:1.0;                     line-height:1.75\"><font color=\"black\"> States                    </font></mark><mark style=\"background-color: hsl(120, 75%, 98%); opacity:1.0;                     line-height:1.75\"><font color=\"black\"> .                    </font></mark><mark style=\"background-color: hsl(0, 75%, 100%); opacity:1.0;                     line-height:1.75\"><font color=\"black\"> [SEP]                    </font></mark></td><tr><tr><td><text style=\"padding-right:2em\"><b>n/a</b></text></td><td><text style=\"padding-right:2em\"><b> (0.00)</b></text></td><td><text style=\"padding-right:2em\"><b>I-ORG</b></text></td><td><text style=\"padding-right:2em\"><b>-1.11</b></text></td><td><mark style=\"background-color: hsl(0, 75%, 100%); opacity:1.0;                     line-height:1.75\"><font color=\"black\"> [CLS]                    </font></mark><mark style=\"background-color: hsl(0, 75%, 63%); opacity:1.0;                     line-height:1.75\"><font color=\"black\"> George                    </font></mark><mark style=\"background-color: hsl(120, 75%, 90%); opacity:1.0;                     line-height:1.75\"><font color=\"black\"> Washington                    </font></mark><mark style=\"background-color: hsl(0, 75%, 91%); opacity:1.0;                     line-height:1.75\"><font color=\"black\"> was                    </font></mark><mark style=\"background-color: hsl(0, 75%, 99%); opacity:1.0;                     line-height:1.75\"><font color=\"black\"> the                    </font></mark><mark style=\"background-color: hsl(0, 75%, 98%); opacity:1.0;                     line-height:1.75\"><font color=\"black\"> first                    </font></mark><mark style=\"background-color: hsl(0, 75%, 94%); opacity:1.0;                     line-height:1.75\"><font color=\"black\"> president                    </font></mark><mark style=\"background-color: hsl(120, 75%, 100%); opacity:1.0;                     line-height:1.75\"><font color=\"black\"> of                    </font></mark><mark style=\"background-color: hsl(0, 75%, 100%); opacity:1.0;                     line-height:1.75\"><font color=\"black\"> the                    </font></mark><mark style=\"background-color: hsl(120, 75%, 100%); opacity:1.0;                     line-height:1.75\"><font color=\"black\"> United                    </font></mark><mark style=\"background-color: hsl(120, 75%, 99%); opacity:1.0;                     line-height:1.75\"><font color=\"black\"> States                    </font></mark><mark style=\"background-color: hsl(120, 75%, 97%); opacity:1.0;                     line-height:1.75\"><font color=\"black\"> .                    </font></mark><mark style=\"background-color: hsl(0, 75%, 100%); opacity:1.0;                     line-height:1.75\"><font color=\"black\"> [SEP]                    </font></mark></td><tr><tr><td><text style=\"padding-right:2em\"><b>n/a</b></text></td><td><text style=\"padding-right:2em\"><b> (0.00)</b></text></td><td><text style=\"padding-right:2em\"><b>B-LOC</b></text></td><td><text style=\"padding-right:2em\"><b>-1.07</b></text></td><td><mark style=\"background-color: hsl(0, 75%, 100%); opacity:1.0;                     line-height:1.75\"><font color=\"black\"> [CLS]                    </font></mark><mark style=\"background-color: hsl(0, 75%, 63%); opacity:1.0;                     line-height:1.75\"><font color=\"black\"> George                    </font></mark><mark style=\"background-color: hsl(120, 75%, 90%); opacity:1.0;                     line-height:1.75\"><font color=\"black\"> Washington                    </font></mark><mark style=\"background-color: hsl(0, 75%, 93%); opacity:1.0;                     line-height:1.75\"><font color=\"black\"> was                    </font></mark><mark style=\"background-color: hsl(0, 75%, 100%); opacity:1.0;                     line-height:1.75\"><font color=\"black\"> the                    </font></mark><mark style=\"background-color: hsl(0, 75%, 98%); opacity:1.0;                     line-height:1.75\"><font color=\"black\"> first                    </font></mark><mark style=\"background-color: hsl(0, 75%, 94%); opacity:1.0;                     line-height:1.75\"><font color=\"black\"> president                    </font></mark><mark style=\"background-color: hsl(120, 75%, 100%); opacity:1.0;                     line-height:1.75\"><font color=\"black\"> of                    </font></mark><mark style=\"background-color: hsl(0, 75%, 100%); opacity:1.0;                     line-height:1.75\"><font color=\"black\"> the                    </font></mark><mark style=\"background-color: hsl(0, 75%, 100%); opacity:1.0;                     line-height:1.75\"><font color=\"black\"> United                    </font></mark><mark style=\"background-color: hsl(120, 75%, 99%); opacity:1.0;                     line-height:1.75\"><font color=\"black\"> States                    </font></mark><mark style=\"background-color: hsl(120, 75%, 97%); opacity:1.0;                     line-height:1.75\"><font color=\"black\"> .                    </font></mark><mark style=\"background-color: hsl(0, 75%, 100%); opacity:1.0;                     line-height:1.75\"><font color=\"black\"> [SEP]                    </font></mark></td><tr><tr><td><text style=\"padding-right:2em\"><b>n/a</b></text></td><td><text style=\"padding-right:2em\"><b> (0.00)</b></text></td><td><text style=\"padding-right:2em\"><b>I-LOC</b></text></td><td><text style=\"padding-right:2em\"><b>-1.21</b></text></td><td><mark style=\"background-color: hsl(0, 75%, 100%); opacity:1.0;                     line-height:1.75\"><font color=\"black\"> [CLS]                    </font></mark><mark style=\"background-color: hsl(0, 75%, 63%); opacity:1.0;                     line-height:1.75\"><font color=\"black\"> George                    </font></mark><mark style=\"background-color: hsl(120, 75%, 93%); opacity:1.0;                     line-height:1.75\"><font color=\"black\"> Washington                    </font></mark><mark style=\"background-color: hsl(0, 75%, 90%); opacity:1.0;                     line-height:1.75\"><font color=\"black\"> was                    </font></mark><mark style=\"background-color: hsl(0, 75%, 99%); opacity:1.0;                     line-height:1.75\"><font color=\"black\"> the                    </font></mark><mark style=\"background-color: hsl(0, 75%, 98%); opacity:1.0;                     line-height:1.75\"><font color=\"black\"> first                    </font></mark><mark style=\"background-color: hsl(0, 75%, 94%); opacity:1.0;                     line-height:1.75\"><font color=\"black\"> president                    </font></mark><mark style=\"background-color: hsl(120, 75%, 100%); opacity:1.0;                     line-height:1.75\"><font color=\"black\"> of                    </font></mark><mark style=\"background-color: hsl(0, 75%, 100%); opacity:1.0;                     line-height:1.75\"><font color=\"black\"> the                    </font></mark><mark style=\"background-color: hsl(0, 75%, 100%); opacity:1.0;                     line-height:1.75\"><font color=\"black\"> United                    </font></mark><mark style=\"background-color: hsl(120, 75%, 98%); opacity:1.0;                     line-height:1.75\"><font color=\"black\"> States                    </font></mark><mark style=\"background-color: hsl(120, 75%, 97%); opacity:1.0;                     line-height:1.75\"><font color=\"black\"> .                    </font></mark><mark style=\"background-color: hsl(0, 75%, 100%); opacity:1.0;                     line-height:1.75\"><font color=\"black\"> [SEP]                    </font></mark></td><tr></table>"
      ],
      "text/plain": [
       "<IPython.core.display.HTML object>"
      ]
     },
     "metadata": {},
     "output_type": "display_data"
    }
   ],
   "source": [
    "html = token_explainer.visualize(token_index=token_index, class_index=class_index)"
   ]
  },
  {
   "cell_type": "code",
   "execution_count": null,
   "id": "51d77e1c",
   "metadata": {},
   "outputs": [],
   "source": [
    "input = word_attributions['B-LOC'][]\n",
    "get_topk_rationale"
   ]
  }
 ],
 "metadata": {
  "kernelspec": {
   "display_name": "Python 3 (ipykernel)",
   "language": "python",
   "name": "python3"
  },
  "language_info": {
   "codemirror_mode": {
    "name": "ipython",
    "version": 3
   },
   "file_extension": ".py",
   "mimetype": "text/x-python",
   "name": "python",
   "nbconvert_exporter": "python",
   "pygments_lexer": "ipython3",
   "version": "3.9.12"
  }
 },
 "nbformat": 4,
 "nbformat_minor": 5
}
