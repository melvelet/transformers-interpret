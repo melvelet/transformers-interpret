{
 "cells": [
  {
   "cell_type": "code",
   "execution_count": 1,
   "id": "e5530629",
   "metadata": {},
   "outputs": [
    {
     "name": "stdout",
     "output_type": "stream",
     "text": [
      "C:\\Users\\z0049uey\\Documents\\GitHub\\transformers-interpret\n"
     ]
    }
   ],
   "source": [
    "import os\n",
    "import sys\n",
    "module_path = os.path.abspath(os.path.join('..'))\n",
    "if module_path not in sys.path:\n",
    "    sys.path.append(module_path)\n",
    "print(module_path)"
   ]
  },
  {
   "cell_type": "code",
   "execution_count": null,
   "id": "493e6cfa",
   "metadata": {},
   "outputs": [],
   "source": [
    "from pprint import pprint\n",
    "\n",
    "import transformers\n",
    "from transformers import AutoModelForSequenceClassification, AutoTokenizer, AutoModelForTokenClassification, TokenClassificationPipeline\n",
    "from transformers_interpret import TokenClassificationExplainer, MultiLabelClassificationExplainer\n",
    "from transformers_interpret.evaluation.ner_evaluation import NERSentenceEvaluator, NERDatasetEvaluator"
   ]
  },
  {
   "cell_type": "code",
   "execution_count": null,
   "id": "02daceab",
   "metadata": {},
   "outputs": [],
   "source": [
    "# huggingface_model = 'Jean-Baptiste/roberta-large-ner-english'\n",
    "# huggingface_model = 'dbmdz/electra-large-discriminator-finetuned-conll03-english'\n",
    "# huggingface_model = 'fran-martinez/scibert_scivocab_cased_ner_jnlpba'\n",
    "huggingface_model = 'dslim/bert-base-NER'\n",
    "tokenizer: AutoTokenizer = AutoTokenizer.from_pretrained(huggingface_model)\n",
    "model: AutoModelForTokenClassification = AutoModelForTokenClassification.from_pretrained(huggingface_model)"
   ]
  },
  {
   "cell_type": "code",
   "execution_count": null,
   "id": "9bea6844",
   "metadata": {
    "scrolled": true
   },
   "outputs": [],
   "source": [
    "sample_text = \"George Washington was the first president of the United States.\"\n",
    "\n",
    "# sample_text = \"Mouse thymus was used as a source of glucocorticoid receptor from normal CS lymphocytes.\""
   ]
  },
  {
   "cell_type": "code",
   "execution_count": null,
   "id": "d770725f",
   "metadata": {
    "scrolled": true
   },
   "outputs": [],
   "source": [
    "#sample_tok = tokenizer(sample_text, add_special_tokens=False, return_tensors=\"pt\")\n",
    "#print(tokenizer.convert_ids_to_tokens(tokenizer.encode(sample_text)))"
   ]
  },
  {
   "cell_type": "code",
   "execution_count": null,
   "id": "0259a1f5",
   "metadata": {},
   "outputs": [],
   "source": [
    "# pipe = TokenClassificationPipeline(model=model, tokenizer=tokenizer)\n",
    "# pred = pipe(sample_text)\n",
    "# pprint(pred)"
   ]
  },
  {
   "cell_type": "code",
   "execution_count": null,
   "id": "dbfe7bc3",
   "metadata": {
    "scrolled": true
   },
   "outputs": [],
   "source": [
    "# token_index=1\n",
    "#class_index=None\n",
    "\n",
    "#token_explainer = TokenClassificationExplainer(model=model, tokenizer=tokenizer)\n",
    "#word_attributions = token_explainer(text=sample_text, token_index=token_index, class_index=class_index)"
   ]
  },
  {
   "cell_type": "code",
   "execution_count": null,
   "id": "36526343",
   "metadata": {
    "scrolled": true
   },
   "outputs": [],
   "source": [
    "#pprint(word_attributions)"
   ]
  },
  {
   "cell_type": "code",
   "execution_count": null,
   "id": "30a4d166",
   "metadata": {},
   "outputs": [],
   "source": [
    "# html = token_explainer.visualize(token_index=token_index, class_index=class_index)"
   ]
  },
  {
   "cell_type": "code",
   "execution_count": null,
   "id": "51d77e1c",
   "metadata": {},
   "outputs": [],
   "source": [
    "# input = word_attributions['B-LOC'][]\n",
    "# get_topk_rationale"
   ]
  },
  {
   "cell_type": "code",
   "execution_count": null,
   "id": "05a69132",
   "metadata": {},
   "outputs": [],
   "source": [
    "from bigbio.dataloader import BigBioConfigHelpers\n",
    "from datasets import load_dataset\n",
    "conhelps = BigBioConfigHelpers()\n",
    "load_dataset_kwargs = conhelps.for_config_name('cadec_bigbio_kb').get_load_dataset_kwargs(data_dir=f\"{'cadec_bigbio_kb'}\")\n",
    "dataset = load_dataset(**load_dataset_kwargs, split='train')"
   ]
  },
  {
   "cell_type": "code",
   "execution_count": null,
   "id": "b6644cf3",
   "metadata": {},
   "outputs": [],
   "source": [
    "pipeline = TokenClassificationPipeline(model=model, tokenizer=tokenizer)\n",
    "evaluator = NERDatasetEvaluator(pipeline, dataset)"
   ]
  },
  {
   "cell_type": "code",
   "execution_count": null,
   "id": "95eec605",
   "metadata": {
    "scrolled": true
   },
   "outputs": [],
   "source": [
    "result = evaluator(k_values=[2])"
   ]
  },
  {
   "cell_type": "code",
   "execution_count": null,
   "id": "ed6a1141",
   "metadata": {},
   "outputs": [],
   "source": [
    "result"
   ]
  },
  {
   "cell_type": "code",
   "execution_count": null,
   "id": "d0b3c6a1",
   "metadata": {},
   "outputs": [],
   "source": []
  }
 ],
 "metadata": {
  "kernelspec": {
   "display_name": "Python 3 (ipykernel)",
   "language": "python",
   "name": "python3"
  },
  "language_info": {
   "codemirror_mode": {
    "name": "ipython",
    "version": 3
   },
   "file_extension": ".py",
   "mimetype": "text/x-python",
   "name": "python",
   "nbconvert_exporter": "python",
   "pygments_lexer": "ipython3",
   "version": "3.7.7"
  }
 },
 "nbformat": 4,
 "nbformat_minor": 5
}
